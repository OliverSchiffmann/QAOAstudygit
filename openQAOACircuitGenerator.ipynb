{
 "cells": [
  {
   "cell_type": "code",
   "execution_count": 1,
   "id": "595a2345",
   "metadata": {},
   "outputs": [],
   "source": [
    "import networkx as nx\n",
    "import numpy as np\n",
    "import json \n",
    "\n",
    "# --- OpenQAOA Imports ---\n",
    "from openqaoa import QAOA, create_device\n",
    "from openqaoa.problems import MaximumCut\n",
    "from qiskit import qasm3"
   ]
  },
  {
   "cell_type": "code",
   "execution_count": 2,
   "id": "2412c554",
   "metadata": {},
   "outputs": [],
   "source": [
    "NUM_QUBITS = 6\n",
    "GRAPH_SEED = 42\n",
    "DEPTH = 3 # Number of QAOA layers\n",
    "MIXER = 'xy' # or 'x'\n",
    "PARAM_TYPE = 'standard' # or 'extended', 'fourier', etc.\n",
    "OPTIMIZER_METHOD = 'COBYLA'\n",
    "OPTIMIZER_MAXITER = 100\n",
    "OPTIMIZER_TOL = 1e-2\n",
    "OUTPUT_QASM_FILE = 'parameterized_circuit.qasm3'\n",
    "OUTPUT_SETTINGS_FILE = 'qaoa_settings.json'"
   ]
  },
  {
   "cell_type": "code",
   "execution_count": null,
   "id": "b343717c",
   "metadata": {},
   "outputs": [
    {
     "ename": "AttributeError",
     "evalue": "'QAOA' object has no attribute 'backend'",
     "output_type": "error",
     "traceback": [
      "\u001b[0;31m---------------------------------------------------------------------------\u001b[0m",
      "\u001b[0;31mAttributeError\u001b[0m                            Traceback (most recent call last)",
      "Cell \u001b[0;32mIn[5], line 24\u001b[0m\n\u001b[1;32m     20\u001b[0m q\u001b[38;5;241m.\u001b[39mset_backend_properties(init_hadamard\u001b[38;5;241m=\u001b[39m\u001b[38;5;28;01mTrue\u001b[39;00m)\n\u001b[1;32m     22\u001b[0m q\u001b[38;5;241m.\u001b[39mset_classical_optimizer(method\u001b[38;5;241m=\u001b[39mOPTIMIZER_METHOD, maxiter\u001b[38;5;241m=\u001b[39mOPTIMIZER_MAXITER, tol\u001b[38;5;241m=\u001b[39mOPTIMIZER_TOL) \u001b[38;5;66;03m#idk if i really need to do this here but it might be required by compile()\u001b[39;00m\n\u001b[0;32m---> 24\u001b[0m parameterized_circuit \u001b[38;5;241m=\u001b[39m \u001b[43mq\u001b[49m\u001b[38;5;241;43m.\u001b[39;49m\u001b[43mbackend\u001b[49m\u001b[38;5;241m.\u001b[39mparametric_circuit\n\u001b[1;32m     25\u001b[0m \u001b[38;5;66;03m# Get parameters in the order defined by the circuit/OpenQAOA\u001b[39;00m\n\u001b[1;32m     26\u001b[0m \u001b[38;5;66;03m# Convert to list of strings (parameter names) for saving\u001b[39;00m\n\u001b[1;32m     27\u001b[0m parameter_names \u001b[38;5;241m=\u001b[39m [p\u001b[38;5;241m.\u001b[39mname \u001b[38;5;28;01mfor\u001b[39;00m p \u001b[38;5;129;01min\u001b[39;00m parameterized_circuit\u001b[38;5;241m.\u001b[39mparameters]\n",
      "\u001b[0;31mAttributeError\u001b[0m: 'QAOA' object has no attribute 'backend'"
     ]
    }
   ],
   "source": [
    "g = nx.generators.fast_gnp_random_graph(n=NUM_QUBITS, p=0.6, seed=GRAPH_SEED)\n",
    "\n",
    "# 2. Create QUBO Problem\n",
    "graphProblem = MaximumCut(g)\n",
    "qubo_problem = graphProblem.qubo\n",
    "\n",
    "# 3. Create QAOA object and set parameters\n",
    "q = QAOA()\n",
    "\n",
    "intendedDevice = create_device(location=\"ibmq\", name=\"ibm_brisbane\")\n",
    "q.set_device(intendedDevice)\n",
    "\n",
    "q.set_circuit_properties(\n",
    "    p=DEPTH,\n",
    "    param_type=PARAM_TYPE,\n",
    "    init_type=\"ramp\", # init_type mainly affects OpenQAOA's optimizer start\n",
    "    mixer_hamiltonian=MIXER\n",
    ")\n",
    "\n",
    "q.set_backend_properties(init_hadamard=True)\n",
    "\n",
    "q.set_classical_optimizer(method=OPTIMIZER_METHOD, maxiter=OPTIMIZER_MAXITER, tol=OPTIMIZER_TOL) #idk if i really need to do this here but it might be required by compile()"
   ]
  },
  {
   "cell_type": "code",
   "execution_count": null,
   "id": "ad708660",
   "metadata": {},
   "outputs": [
    {
     "ename": "AttributeError",
     "evalue": "'QAOA' object has no attribute 'backend'",
     "output_type": "error",
     "traceback": [
      "\u001b[0;31m---------------------------------------------------------------------------\u001b[0m",
      "\u001b[0;31mAttributeError\u001b[0m                            Traceback (most recent call last)",
      "Cell \u001b[0;32mIn[4], line 1\u001b[0m\n\u001b[0;32m----> 1\u001b[0m parameterized_circuit \u001b[38;5;241m=\u001b[39m \u001b[43mq\u001b[49m\u001b[38;5;241;43m.\u001b[39;49m\u001b[43mbackend\u001b[49m\u001b[38;5;241m.\u001b[39mparametric_circuit\n\u001b[1;32m      2\u001b[0m \u001b[38;5;66;03m# Get parameters in the order defined by the circuit/OpenQAOA\u001b[39;00m\n\u001b[1;32m      3\u001b[0m \u001b[38;5;66;03m# Convert to list of strings (parameter names) for saving\u001b[39;00m\n\u001b[1;32m      4\u001b[0m parameter_names \u001b[38;5;241m=\u001b[39m [p\u001b[38;5;241m.\u001b[39mname \u001b[38;5;28;01mfor\u001b[39;00m p \u001b[38;5;129;01min\u001b[39;00m parameterized_circuit\u001b[38;5;241m.\u001b[39mparameters]\n",
      "\u001b[0;31mAttributeError\u001b[0m: 'QAOA' object has no attribute 'backend'"
     ]
    }
   ],
   "source": [
    "parameterized_circuit = q.backend.parametric_circuit #idk why this doesnt work anymore it ran earlier\n",
    "# Get parameters in the order defined by the circuit/OpenQAOA\n",
    "# Convert to list of strings (parameter names) for saving\n",
    "parameter_names = [p.name for p in parameterized_circuit.parameters]\n",
    "\n",
    "print(f\"Exporting circuit to {OUTPUT_QASM_FILE}...\")\n",
    "# Use qiskit.qasm3 exporter available in the environment\n",
    "qasm3_string = qiskit.qasm3.dumps(parameterized_circuit)\n",
    "with open(OUTPUT_QASM_FILE, 'w') as f:\n",
    "    f.write(qasm3_string)\n",
    "print(\"Circuit export successful.\")"
   ]
  }
 ],
 "metadata": {
  "kernelspec": {
   "display_name": "openQAOAvenv",
   "language": "python",
   "name": "python3"
  },
  "language_info": {
   "codemirror_mode": {
    "name": "ipython",
    "version": 3
   },
   "file_extension": ".py",
   "mimetype": "text/x-python",
   "name": "python",
   "nbconvert_exporter": "python",
   "pygments_lexer": "ipython3",
   "version": "3.10.11"
  }
 },
 "nbformat": 4,
 "nbformat_minor": 5
}
