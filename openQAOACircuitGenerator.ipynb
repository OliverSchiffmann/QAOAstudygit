{
 "cells": [
  {
   "cell_type": "code",
   "execution_count": 6,
   "id": "595a2345",
   "metadata": {},
   "outputs": [],
   "source": [
    "import networkx as nx\n",
    "import numpy as np\n",
    "import json \n",
    "\n",
    "# --- OpenQAOA Imports ---\n",
    "from openqaoa import QAOA, create_device\n",
    "from openqaoa.problems import MaximumCut\n",
    "import qiskit\n",
    "from qiskit import qasm3"
   ]
  },
  {
   "cell_type": "code",
   "execution_count": 10,
   "id": "2412c554",
   "metadata": {},
   "outputs": [],
   "source": [
    "NUM_QUBITS = 6\n",
    "GRAPH_SEED = 42\n",
    "DEPTH = 3 # Number of QAOA layers\n",
    "MIXER = 'xy' # or 'x'\n",
    "PARAM_TYPE = 'standard' # or 'extended', 'fourier', etc.\n",
    "OPTIMIZER_METHOD = 'COBYLA'\n",
    "OPTIMIZER_MAXITER = 100\n",
    "OPTIMIZER_TOL = 1e-2\n",
    "OUTPUT_QASM_FILE = 'parameterized_circuit.qasm3'\n",
    "OUTPUT_SETTINGS_FILE = 'qaoa_settings.json'"
   ]
  },
  {
   "cell_type": "code",
   "execution_count": 11,
   "id": "b343717c",
   "metadata": {},
   "outputs": [
    {
     "name": "stderr",
     "output_type": "stream",
     "text": [
      "/Users/kv18799/Github/QAOAstudygit/openQAOAvenv/lib/python3.10/site-packages/networkx/readwrite/json_graph/node_link.py:142: FutureWarning: \n",
      "The default value will be `edges=\"edges\" in NetworkX 3.6.\n",
      "\n",
      "To make this warning go away, explicitly set the edges kwarg, e.g.:\n",
      "\n",
      "  nx.node_link_data(G, edges=\"links\") to preserve current behavior, or\n",
      "  nx.node_link_data(G, edges=\"edges\") for forward compatibility.\n",
      "  warnings.warn(\n"
     ]
    }
   ],
   "source": [
    "g = nx.generators.fast_gnp_random_graph(n=NUM_QUBITS, p=0.6, seed=GRAPH_SEED)\n",
    "\n",
    "# 2. Create QUBO Problem\n",
    "graphProblem = MaximumCut(g)\n",
    "qubo_problem = graphProblem.qubo\n",
    "\n",
    "# 3. Create QAOA object and set parameters\n",
    "q = QAOA()\n",
    "\n",
    "intendedDevice = create_device(location=\"ibmq\", name=\"ibm_brisbane\")\n",
    "q.set_device(intendedDevice)\n",
    "\n",
    "q.set_circuit_properties(\n",
    "    p=DEPTH,\n",
    "    param_type=PARAM_TYPE,\n",
    "    init_type=\"ramp\", # init_type mainly affects OpenQAOA's optimizer start\n",
    "    mixer_hamiltonian=MIXER\n",
    ")\n",
    "\n",
    "q.set_backend_properties(init_hadamard=True)\n",
    "\n",
    "q.set_classical_optimizer(method=OPTIMIZER_METHOD, maxiter=OPTIMIZER_MAXITER, tol=OPTIMIZER_TOL) #idk if i really need to do this here but it might be required by compile()\n",
    "\n",
    "q.compile(qubo_problem)"
   ]
  },
  {
   "cell_type": "code",
   "execution_count": 29,
   "id": "303b75ce",
   "metadata": {},
   "outputs": [],
   "source": [
    "variational_params = q.optimizer.variational_params\n",
    "#q.backend.qaoa_circuit(variational_params).draw()"
   ]
  },
  {
   "cell_type": "code",
   "execution_count": 7,
   "id": "ad708660",
   "metadata": {},
   "outputs": [
    {
     "name": "stdout",
     "output_type": "stream",
     "text": [
      "Exporting circuit to parameterized_circuit.qasm3...\n",
      "Circuit export successful.\n"
     ]
    }
   ],
   "source": [
    "parameterized_circuit = q.backend.parametric_circuit #idk why this doesnt work anymore it ran earlier\n",
    "# Get parameters in the order defined by the circuit/OpenQAOA\n",
    "# Convert to list of strings (parameter names) for saving\n",
    "parameter_names = [p.name for p in parameterized_circuit.parameters]\n",
    "\n",
    "print(f\"Exporting circuit to {OUTPUT_QASM_FILE}...\")\n",
    "# Use qiskit.qasm3 exporter available in the environment\n",
    "qasm3_string = qiskit.qasm3.dumps(parameterized_circuit)\n",
    "with open(OUTPUT_QASM_FILE, 'w') as f:\n",
    "    f.write(qasm3_string)\n",
    "print(\"Circuit export successful.\")"
   ]
  },
  {
   "cell_type": "code",
   "execution_count": 25,
   "id": "b4ae3376",
   "metadata": {},
   "outputs": [
    {
     "name": "stdout",
     "output_type": "stream",
     "text": [
      "Saving settings to qaoa_settings.json...\n",
      "Settings saved successfully.\n",
      "\n",
      "Circuit and settings export complete.\n"
     ]
    }
   ],
   "source": [
    "settings_data = {\n",
    "    \"p_layers\": DEPTH,\n",
    "    \"num_qubits\": NUM_QUBITS,\n",
    "    \"mixer\": MIXER,\n",
    "    \"param_type\": PARAM_TYPE,\n",
    "    \"optimizer_method\": OPTIMIZER_METHOD,\n",
    "    \"optimizer_maxiter\": OPTIMIZER_MAXITER,\n",
    "    \"optimizer_tol\": OPTIMIZER_TOL,\n",
    "    \"parameter_names_ordered\": parameter_names,\n",
    "    \"graph_nodes\": list(g.nodes),\n",
    "    \"graph_edges\": list(g.edges),\n",
    "    \"graph_edge_weights\": {f\"{u}-{v}\": g.get_edge_data(u, v) for u, v in g.edges} # Store weights if needed\n",
    "}\n",
    "\n",
    "print(f\"Saving settings to {OUTPUT_SETTINGS_FILE}...\")\n",
    "\n",
    "with open(OUTPUT_SETTINGS_FILE, 'w') as f:\n",
    "    json.dump(settings_data, f, indent=4)\n",
    "\n",
    "# This print statement is correctly outside the block\n",
    "print(\"Settings saved successfully.\")\n",
    "\n",
    "print(\"\\nCircuit and settings export complete.\")"
   ]
  },
  {
   "cell_type": "code",
   "execution_count": null,
   "id": "ab4f2fa6",
   "metadata": {},
   "outputs": [],
   "source": []
  }
 ],
 "metadata": {
  "kernelspec": {
   "display_name": "openQAOAvenv",
   "language": "python",
   "name": "python3"
  },
  "language_info": {
   "codemirror_mode": {
    "name": "ipython",
    "version": 3
   },
   "file_extension": ".py",
   "mimetype": "text/x-python",
   "name": "python",
   "nbconvert_exporter": "python",
   "pygments_lexer": "ipython3",
   "version": "3.10.11"
  }
 },
 "nbformat": 4,
 "nbformat_minor": 5
}
