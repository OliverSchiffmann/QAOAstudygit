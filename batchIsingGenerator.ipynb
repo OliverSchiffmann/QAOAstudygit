{
 "cells": [
  {
   "cell_type": "code",
   "execution_count": 1,
   "id": "05aadb4d",
   "metadata": {},
   "outputs": [],
   "source": [
    "import numpy as np\n",
    "from openqaoa.problems import TSP, Knapsack, MinimumVertexCover\n",
    "import json\n",
    "import os\n",
    "import networkx as nx"
   ]
  },
  {
   "cell_type": "code",
   "execution_count": 2,
   "id": "add1bb11",
   "metadata": {},
   "outputs": [],
   "source": [
    "def generate_results_filename(problem_type, num_qubits):\n",
    "    if problem_type == 'Knapsack':\n",
    "        problem_type = f\"{problem_type}_{N_ITEMS}_items\"\n",
    "    return f\"batch_Ising_data_{str(problem_type).replace(' ', '_')}_{num_qubits}q_.json\""
   ]
  },
  {
   "cell_type": "code",
   "execution_count": null,
   "id": "8258ffd9",
   "metadata": {},
   "outputs": [
    {
     "name": "stdout",
     "output_type": "stream",
     "text": [
      "Generated Ising model for Knapsack instance 100 of 100\n",
      "Batch of 100 Ising models saved to isingBatches/batch_Ising_data_Knapsack_4_items_7q_.json\n"
     ]
    }
   ],
   "source": [
    "desiredProblemType = 'Knapsack' #options: 'TSP','Knapsack', 'MinimumVertexCover'\n",
    "#make sure you typed in that mf desiredProblemType correctly\n",
    "batchSize = 100\n",
    "RESULTS_FOLDER = \"isingBatches\"\n",
    "\n",
    "\n",
    "all_isings_list = []\n",
    "for instance in range(batchSize):        \n",
    "    if desiredProblemType == 'TSP':\n",
    "        n_cities = 4  # Number of cities for TSP\n",
    "        connection_probability = 1  # Probability for edge creation in gnp_random_graph\n",
    "        # Ensure the graph is connected\n",
    "        G = nx.generators.fast_gnp_random_graph(n=n_cities, p=connection_probability) \n",
    "\n",
    "        min_edge_weight = 1\n",
    "        max_edge_weight = 10 \n",
    "        rng_weights = np.random.default_rng() # Use a different seed or manage seeds as needed\n",
    "        for (u, v) in G.edges():\n",
    "            weight = int(rng_weights.integers(low=min_edge_weight, high=max_edge_weight, endpoint=True)) # endpoint=True includes high value\n",
    "            G.edges[u, v]['weight'] = weight\n",
    "        # A is the penalty for not visiting a city or visiting it multiple times.\n",
    "        # B is the penalty for not having a valid tour structure (e.g. sub-tours or incorrect number of cities at a position)\n",
    "        B_val = 1\n",
    "        A_val = 15\n",
    "        tsp_prob = TSP(G=G, A=A_val, B=B_val) # Using your specified A and B penalties\n",
    "        isingProb = tsp_prob.qubo\n",
    "\n",
    "    elif desiredProblemType == 'Knapsack':\n",
    "        N_ITEMS = 4\n",
    "        target_qubits = 6\n",
    "        # Loop until an instance with the correct number of qubits is found\n",
    "        while True:\n",
    "            knapsack_prob = Knapsack.random_instance(n_items=N_ITEMS)\n",
    "            isingProb = knapsack_prob.qubo\n",
    "            if isingProb.n == target_qubits and knapsack_prob.weight_capacity!= 8:  # Ensure the weight capacity is not 16 to avoid weird edge cases where slack variables cant describe weight capacity\n",
    "                break\n",
    "\n",
    "    elif desiredProblemType == 'MinimumVertexCover':\n",
    "        G = nx.generators.fast_gnp_random_graph(n=9, p=0.6)\n",
    "        mvc_prob = MinimumVertexCover(G, field=1, penalty=10)\n",
    "        isingProb = mvc_prob.qubo\n",
    "    \n",
    "    print(f\"Generated Ising model for {desiredProblemType} instance {instance + 1} of {batchSize}\", end=\"\\r\")\n",
    "    ising_dict = isingProb.asdict()\n",
    "    current_ising_data = {\n",
    "        \"instance_id\": instance + 1, # Add an identifier for each QUBO instance\n",
    "        \"terms\": ising_dict[\"terms\"],\n",
    "        \"weights\": ising_dict[\"weights\"],\n",
    "        \"constant\": ising_dict.get(\"constant\", 0.0),\n",
    "        \"problem_type\": ising_dict.get(\"problem_instance\", {}).get(\"problem_type\", \"unknown\"),\n",
    "        # Optional: include more problem-specific details if needed for later analysis, can add the number of qubits/problem size\n",
    "    }\n",
    "\n",
    "    if desiredProblemType == 'Knapsack':\n",
    "        current_ising_data['weight_capacity'] = knapsack_prob.weight_capacity #necessary for custom inital state generation\n",
    " \n",
    "    all_isings_list.append(current_ising_data) \n",
    "\n",
    "all_indices = []\n",
    "terms = ising_dict[\"terms\"]\n",
    "for term_group in terms:\n",
    "    for idx in term_group:\n",
    "        all_indices.append(idx)\n",
    "num_qubits = max(all_indices) + 1\n",
    "\n",
    "file_name = generate_results_filename(desiredProblemType, num_qubits)\n",
    "results_filename_with_path = os.path.join(RESULTS_FOLDER, file_name)\n",
    "\n",
    "with open(results_filename_with_path, \"w\") as f:\n",
    "    f.write(\"[\\n\") # Start of the JSON array\n",
    "    for i, single_ising_data in enumerate(all_isings_list):\n",
    "        ising_json_string = json.dumps(single_ising_data)\n",
    "        f.write(\"  \" + ising_json_string)\n",
    "        \n",
    "        if i < len(all_isings_list) - 1:\n",
    "            f.write(\",\\n\")\n",
    "        else:\n",
    "            f.write(\"\\n\")\n",
    "            \n",
    "    f.write(\"]\\n\") \n",
    "\n",
    "print(f\"\\nBatch of {len(all_isings_list)} Ising models saved to {results_filename_with_path}\")\n",
    "    "
   ]
  }
 ],
 "metadata": {
  "kernelspec": {
   "display_name": "openQAOAvenv (3.10.11)",
   "language": "python",
   "name": "python3"
  },
  "language_info": {
   "codemirror_mode": {
    "name": "ipython",
    "version": 3
   },
   "file_extension": ".py",
   "mimetype": "text/x-python",
   "name": "python",
   "nbconvert_exporter": "python",
   "pygments_lexer": "ipython3",
   "version": "3.10.11"
  }
 },
 "nbformat": 4,
 "nbformat_minor": 5
}
