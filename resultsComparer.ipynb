{
 "cells": [
  {
   "cell_type": "code",
   "execution_count": 61,
   "id": "31e3de40",
   "metadata": {},
   "outputs": [],
   "source": [
    "import matplotlib.pyplot as plt\n",
    "import json\n",
    "import glob\n",
    "import os\n",
    "import numpy as np\n",
    "from config import problem_configs"
   ]
  },
  {
   "cell_type": "code",
   "execution_count": 62,
   "id": "049a2740",
   "metadata": {},
   "outputs": [],
   "source": [
    "#///////// Config //////////\n",
    "FILEDIRECTORY = \"isingBatches\""
   ]
  },
  {
   "cell_type": "code",
   "execution_count": 63,
   "id": "396ea959",
   "metadata": {},
   "outputs": [],
   "source": [
    "def load_file_into_dict(filename):\n",
    "    with open(filename, 'r') as file:\n",
    "        data = json.load(file)\n",
    "    return data"
   ]
  },
  {
   "cell_type": "code",
   "execution_count": 64,
   "id": "78270d57",
   "metadata": {},
   "outputs": [
    {
     "name": "stdout",
     "output_type": "stream",
     "text": [
      "--- Processing class: TSP ---\n",
      "File containing distribution = isingBatches/MERGED_QAOA_results_TSP_9q_.json, File containing exact solutions = isingBatches/solved_batch_Ising_data_TSP_9q_.json\n",
      "Total QAOA Success Count: 35 / 100\n",
      "--- Processing class: Knapsack ---\n",
      "File containing distribution = isingBatches/MERGED_QAOA_results_Knapsack_6_items_9q_.json, File containing exact solutions = isingBatches/solved_batch_Ising_data_Knapsack_6_items_9q_.json\n",
      "Total QAOA Success Count: 2 / 100\n",
      "--- Processing class: MinimumVertexCover ---\n",
      "File containing distribution = isingBatches/MERGED_QAOA_results_MinimumVertexCover_9q_.json, File containing exact solutions = isingBatches/solved_batch_Ising_data_MinimumVertexCover_9q_.json\n",
      "Total QAOA Success Count: 4 / 100\n"
     ]
    }
   ],
   "source": [
    "for problem_name, config in problem_configs.items():\n",
    "        print(f\"--- Processing class: {problem_name} ---\")\n",
    "\n",
    "        file_slug = config['file_slug']\n",
    "        search_pattern = os.path.join(FILEDIRECTORY, f\"MERGED*{file_slug}.json\")\n",
    "        distributionFile = glob.glob(search_pattern)[0]\n",
    "        search_pattern = os.path.join(FILEDIRECTORY, f\"solved*{file_slug}.json\")\n",
    "        exactSolutionsFile = glob.glob(search_pattern)[0]\n",
    "        print(f'File containing distribution = {distributionFile}, File containing exact solutions = {exactSolutionsFile}')\n",
    "\n",
    "        sampledResultsData = load_file_into_dict(distributionFile)\n",
    "        exactSolutions = load_file_into_dict(exactSolutionsFile)\n",
    "\n",
    "        qaoaSuccessCount = 0\n",
    "\n",
    "        for run_instance in sampledResultsData[\"results\"]:\n",
    "                instance_id = run_instance[\"instance_id\"]\n",
    "\n",
    "                # The 'sampled_distribution' is now a sorted list of lists.\n",
    "                # The most probable solution is the first item in the list.\n",
    "                # e.g., [\"010100001\", 39]. We only need the bitstring, which is at index [0].\n",
    "                most_probable_bitstring = run_instance[\"sampled_distribution\"][0][0]\n",
    "\n",
    "                # The original script reversed the string, so we preserve that logic.\n",
    "                mostProbableSolution = most_probable_bitstring[::-1]\n",
    "\n",
    "                # Find the corresponding exact solutions for this instance\n",
    "                correctSolutionsIsing = []\n",
    "                for exact_item in exactSolutions:\n",
    "                        # Compare the integer instance_id directly\n",
    "                        if exact_item[\"instance_id\"] == instance_id:\n",
    "                                correctSolutionsIsing = exact_item[\"solutions\"]\n",
    "                                # Optimization: once found, no need to continue searching\n",
    "                                break \n",
    "                \n",
    "                # This logic for converting from Ising to binary strings remains the same\n",
    "                correctSolutionsBinary = []\n",
    "                for ising_string in correctSolutionsIsing:\n",
    "                        # 0s and 1s may seem mixed up here, but it's because the qubit state |0> \n",
    "                        # corresponds to the Z-eigenvalue of +1, and vice-versa.\n",
    "                        binary_string = ising_string.replace('-1', '1').replace('+1', '0').replace(',', '')\n",
    "                        correctSolutionsBinary.append(binary_string)\n",
    "                # Check if the QAOA result is one of the valid ground states\n",
    "                if mostProbableSolution in correctSolutionsBinary:\n",
    "                        qaoaSuccessCount += 1\n",
    "\n",
    " \n",
    "        # Print the final total success count\n",
    "        print(f\"Total QAOA Success Count: {qaoaSuccessCount} / {len(sampledResultsData['results'])}\")"
   ]
  }
 ],
 "metadata": {
  "kernelspec": {
   "display_name": "IBMQpynbvenv (3.10.11)",
   "language": "python",
   "name": "python3"
  },
  "language_info": {
   "codemirror_mode": {
    "name": "ipython",
    "version": 3
   },
   "file_extension": ".py",
   "mimetype": "text/x-python",
   "name": "python",
   "nbconvert_exporter": "python",
   "pygments_lexer": "ipython3",
   "version": "3.10.11"
  }
 },
 "nbformat": 4,
 "nbformat_minor": 5
}
