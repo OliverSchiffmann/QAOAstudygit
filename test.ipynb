{
 "cells": [
  {
   "cell_type": "code",
   "execution_count": 1,
   "id": "a127199b",
   "metadata": {},
   "outputs": [],
   "source": [
    "from qiskit_ionq import IonQProvider\n",
    "from dotenv import load_dotenv\n",
    "import os\n"
   ]
  },
  {
   "cell_type": "code",
   "execution_count": 2,
   "id": "afefe5b8",
   "metadata": {},
   "outputs": [
    {
     "name": "stderr",
     "output_type": "stream",
     "text": [
      "/Users/kv18799/Github/QAOAstudygit/IBMQpynbvenv/lib/python3.10/site-packages/qiskit_ionq/ionq_backend.py:127: IonQTranspileLevelWarning: Transpiler default optimization_level=2. IonQ (QIS) recommends 0-1 to avoid aggressive re-synthesis; use transpile(..., optimization_level=1).\n",
      "  warn_bad_transpile_level()\n"
     ]
    }
   ],
   "source": [
    "load_dotenv()\n",
    "ionqApiToken = os.environ.get(\"IONQ_API_TOKEN\")\n",
    "provider = IonQProvider(token=ionqApiToken)\n",
    "backendSimulator = provider.get_backend(\"ionq_simulator\")"
   ]
  },
  {
   "cell_type": "code",
   "execution_count": null,
   "id": "49c4353f",
   "metadata": {},
   "outputs": [
    {
     "ename": "IonQAPIError",
     "evalue": "IonQAPIError(message='Not Found',status_code=404,headers={'Date': 'Wed, 10 Sep 2025 14:06:18 GMT', 'Content-Type': 'application/json; charset=utf-8', 'Transfer-Encoding': 'chunked', 'Connection': 'keep-alive', 'Content-Encoding': 'gzip', 'access-control-allow-credentials': 'true', 'access-control-expose-headers': 'x-ionq-session', 'Cache-Control': 'no-cache', 'strict-transport-security': 'max-age=31536000; includeSubDomains', 'vary': 'origin, Origin', 'x-frame-options': 'DENY', 'cf-cache-status': 'DYNAMIC', 'Server': 'cloudflare', 'CF-RAY': '97cf7c35f9b5f4c1-LHR'},body={\"error\":\"Not Found\",\"message\":\"Not Found\",\"statusCode\":404},error_type='Not Found')",
     "output_type": "error",
     "traceback": [
      "\u001b[0;31m---------------------------------------------------------------------------\u001b[0m",
      "\u001b[0;31mIonQAPIError\u001b[0m                              Traceback (most recent call last)",
      "Cell \u001b[0;32mIn[9], line 2\u001b[0m\n\u001b[1;32m      1\u001b[0m job_id \u001b[38;5;241m=\u001b[39m \u001b[38;5;124m\"\u001b[39m\u001b[38;5;124m3ac9065d-1a1e-4d9f-975c-5ef1efb6bae8\u001b[39m\u001b[38;5;124m\"\u001b[39m\n\u001b[0;32m----> 2\u001b[0m job \u001b[38;5;241m=\u001b[39m \u001b[43mbackendSimulator\u001b[49m\u001b[38;5;241;43m.\u001b[39;49m\u001b[43mretrieve_job\u001b[49m\u001b[43m(\u001b[49m\u001b[43mjob_id\u001b[49m\u001b[43m)\u001b[49m\n\u001b[1;32m      4\u001b[0m \u001b[38;5;28mprint\u001b[39m(\u001b[38;5;28mtype\u001b[39m(job\u001b[38;5;241m.\u001b[39mstatus()))\n\u001b[1;32m      5\u001b[0m \u001b[38;5;28mprint\u001b[39m(job\u001b[38;5;241m.\u001b[39mget_counts())\n",
      "File \u001b[0;32m~/Github/QAOAstudygit/IBMQpynbvenv/lib/python3.10/site-packages/qiskit_ionq/ionq_backend.py:238\u001b[0m, in \u001b[0;36mIonQBackend.retrieve_job\u001b[0;34m(self, job_id)\u001b[0m\n\u001b[1;32m    236\u001b[0m \u001b[38;5;28;01mdef\u001b[39;00m\u001b[38;5;250m \u001b[39m\u001b[38;5;21mretrieve_job\u001b[39m(\u001b[38;5;28mself\u001b[39m, job_id: \u001b[38;5;28mstr\u001b[39m) \u001b[38;5;241m-\u001b[39m\u001b[38;5;241m>\u001b[39m ionq_job\u001b[38;5;241m.\u001b[39mIonQJob:\n\u001b[1;32m    237\u001b[0m \u001b[38;5;250m    \u001b[39m\u001b[38;5;124;03m\"\"\"Retrieve a job by its ID.\"\"\"\u001b[39;00m\n\u001b[0;32m--> 238\u001b[0m     \u001b[38;5;28;01mreturn\u001b[39;00m \u001b[43mionq_job\u001b[49m\u001b[38;5;241;43m.\u001b[39;49m\u001b[43mIonQJob\u001b[49m\u001b[43m(\u001b[49m\u001b[38;5;28;43mself\u001b[39;49m\u001b[43m,\u001b[49m\u001b[43m \u001b[49m\u001b[43mjob_id\u001b[49m\u001b[43m,\u001b[49m\u001b[43m \u001b[49m\u001b[38;5;28;43mself\u001b[39;49m\u001b[38;5;241;43m.\u001b[39;49m\u001b[43mclient\u001b[49m\u001b[43m)\u001b[49m\n",
      "File \u001b[0;32m~/Github/QAOAstudygit/IBMQpynbvenv/lib/python3.10/site-packages/qiskit_ionq/ionq_job.py:197\u001b[0m, in \u001b[0;36mIonQJob.__init__\u001b[0;34m(self, backend, job_id, client, circuit, passed_args)\u001b[0m\n\u001b[1;32m    195\u001b[0m \u001b[38;5;28mself\u001b[39m\u001b[38;5;241m.\u001b[39m_status \u001b[38;5;241m=\u001b[39m jobstatus\u001b[38;5;241m.\u001b[39mJobStatus\u001b[38;5;241m.\u001b[39mINITIALIZING\n\u001b[1;32m    196\u001b[0m \u001b[38;5;28mself\u001b[39m\u001b[38;5;241m.\u001b[39m_job_id \u001b[38;5;241m=\u001b[39m job_id\n\u001b[0;32m--> 197\u001b[0m \u001b[38;5;28;43mself\u001b[39;49m\u001b[38;5;241;43m.\u001b[39;49m\u001b[43mstatus\u001b[49m\u001b[43m(\u001b[49m\u001b[43m)\u001b[49m\n",
      "File \u001b[0;32m~/Github/QAOAstudygit/IBMQpynbvenv/lib/python3.10/site-packages/qiskit_ionq/ionq_job.py:346\u001b[0m, in \u001b[0;36mIonQJob.status\u001b[0;34m(self, detailed)\u001b[0m\n\u001b[1;32m    343\u001b[0m     \u001b[38;5;28;01mreturn\u001b[39;00m \u001b[38;5;28mself\u001b[39m\u001b[38;5;241m.\u001b[39m_children_status() \u001b[38;5;28;01mif\u001b[39;00m detailed \u001b[38;5;28;01melse\u001b[39;00m \u001b[38;5;28mself\u001b[39m\u001b[38;5;241m.\u001b[39m_status\n\u001b[1;32m    345\u001b[0m \u001b[38;5;66;03m# Otherwise, look up a status enum from the response.\u001b[39;00m\n\u001b[0;32m--> 346\u001b[0m response \u001b[38;5;241m=\u001b[39m \u001b[38;5;28;43mself\u001b[39;49m\u001b[38;5;241;43m.\u001b[39;49m\u001b[43m_client\u001b[49m\u001b[38;5;241;43m.\u001b[39;49m\u001b[43mretrieve_job\u001b[49m\u001b[43m(\u001b[49m\u001b[38;5;28;43mself\u001b[39;49m\u001b[38;5;241;43m.\u001b[39;49m\u001b[43m_job_id\u001b[49m\u001b[43m)\u001b[49m\n\u001b[1;32m    347\u001b[0m api_response_status \u001b[38;5;241m=\u001b[39m response\u001b[38;5;241m.\u001b[39mget(\u001b[38;5;124m\"\u001b[39m\u001b[38;5;124mstatus\u001b[39m\u001b[38;5;124m\"\u001b[39m)\n\u001b[1;32m    349\u001b[0m \u001b[38;5;28;01mtry\u001b[39;00m:\n",
      "File \u001b[0;32m~/Github/QAOAstudygit/IBMQpynbvenv/lib/python3.10/site-packages/qiskit_ionq/helpers.py:692\u001b[0m, in \u001b[0;36mretry.<locals>.deco_retry.<locals>.f_retry\u001b[0;34m(*args, **kwargs)\u001b[0m\n\u001b[1;32m    690\u001b[0m \u001b[38;5;28;01mwhile\u001b[39;00m _tries \u001b[38;5;241m!=\u001b[39m \u001b[38;5;241m0\u001b[39m:\n\u001b[1;32m    691\u001b[0m     \u001b[38;5;28;01mtry\u001b[39;00m:\n\u001b[0;32m--> 692\u001b[0m         \u001b[38;5;28;01mreturn\u001b[39;00m \u001b[43mfunc\u001b[49m\u001b[43m(\u001b[49m\u001b[38;5;241;43m*\u001b[39;49m\u001b[43margs\u001b[49m\u001b[43m,\u001b[49m\u001b[43m \u001b[49m\u001b[38;5;241;43m*\u001b[39;49m\u001b[38;5;241;43m*\u001b[39;49m\u001b[43mkwargs\u001b[49m\u001b[43m)\u001b[49m\n\u001b[1;32m    693\u001b[0m     \u001b[38;5;28;01mexcept\u001b[39;00m exceptions \u001b[38;5;28;01mas\u001b[39;00m exception:\n\u001b[1;32m    694\u001b[0m         _tries \u001b[38;5;241m-\u001b[39m\u001b[38;5;241m=\u001b[39m \u001b[38;5;241m1\u001b[39m\n",
      "File \u001b[0;32m~/Github/QAOAstudygit/IBMQpynbvenv/lib/python3.10/site-packages/qiskit_ionq/ionq_client.py:169\u001b[0m, in \u001b[0;36mIonQClient.retrieve_job\u001b[0;34m(self, job_id)\u001b[0m\n\u001b[1;32m    167\u001b[0m req_path \u001b[38;5;241m=\u001b[39m \u001b[38;5;28mself\u001b[39m\u001b[38;5;241m.\u001b[39mmake_path(\u001b[38;5;124m\"\u001b[39m\u001b[38;5;124mjobs\u001b[39m\u001b[38;5;124m\"\u001b[39m, job_id)\n\u001b[1;32m    168\u001b[0m res \u001b[38;5;241m=\u001b[39m \u001b[38;5;28mself\u001b[39m\u001b[38;5;241m.\u001b[39mget_with_retry(req_path, headers\u001b[38;5;241m=\u001b[39m\u001b[38;5;28mself\u001b[39m\u001b[38;5;241m.\u001b[39mapi_headers)\n\u001b[0;32m--> 169\u001b[0m \u001b[43mexceptions\u001b[49m\u001b[38;5;241;43m.\u001b[39;49m\u001b[43mIonQAPIError\u001b[49m\u001b[38;5;241;43m.\u001b[39;49m\u001b[43mraise_for_status\u001b[49m\u001b[43m(\u001b[49m\u001b[43mres\u001b[49m\u001b[43m)\u001b[49m\n\u001b[1;32m    170\u001b[0m \u001b[38;5;28;01mreturn\u001b[39;00m res\u001b[38;5;241m.\u001b[39mjson()\n",
      "File \u001b[0;32m~/Github/QAOAstudygit/IBMQpynbvenv/lib/python3.10/site-packages/qiskit_ionq/exceptions.py:124\u001b[0m, in \u001b[0;36mIonQAPIError.raise_for_status\u001b[0;34m(cls, response)\u001b[0m\n\u001b[1;32m    122\u001b[0m \u001b[38;5;28;01mif\u001b[39;00m _is_retriable(response\u001b[38;5;241m.\u001b[39mrequest\u001b[38;5;241m.\u001b[39mmethod, status_code):\n\u001b[1;32m    123\u001b[0m     \u001b[38;5;28;01mraise\u001b[39;00m IonQRetriableError(res)\n\u001b[0;32m--> 124\u001b[0m \u001b[38;5;28;01mraise\u001b[39;00m res\n",
      "\u001b[0;31mIonQAPIError\u001b[0m: IonQAPIError(message='Not Found',status_code=404,headers={'Date': 'Wed, 10 Sep 2025 14:06:18 GMT', 'Content-Type': 'application/json; charset=utf-8', 'Transfer-Encoding': 'chunked', 'Connection': 'keep-alive', 'Content-Encoding': 'gzip', 'access-control-allow-credentials': 'true', 'access-control-expose-headers': 'x-ionq-session', 'Cache-Control': 'no-cache', 'strict-transport-security': 'max-age=31536000; includeSubDomains', 'vary': 'origin, Origin', 'x-frame-options': 'DENY', 'cf-cache-status': 'DYNAMIC', 'Server': 'cloudflare', 'CF-RAY': '97cf7c35f9b5f4c1-LHR'},body={\"error\":\"Not Found\",\"message\":\"Not Found\",\"statusCode\":404},error_type='Not Found')"
     ]
    }
   ],
   "source": [
    "job_id = \"019933e4-f140-77eb-ac01-8ac865b02dd1\"\n",
    "job = backendSimulator.retrieve_job(job_id)\n",
    "\n",
    "print(type(job.status()))\n",
    "print(job.get_counts())"
   ]
  }
 ],
 "metadata": {
  "kernelspec": {
   "display_name": "IBMQpynbvenv (3.10.11)",
   "language": "python",
   "name": "python3"
  },
  "language_info": {
   "codemirror_mode": {
    "name": "ipython",
    "version": 3
   },
   "file_extension": ".py",
   "mimetype": "text/x-python",
   "name": "python",
   "nbconvert_exporter": "python",
   "pygments_lexer": "ipython3",
   "version": "3.10.11"
  }
 },
 "nbformat": 4,
 "nbformat_minor": 5
}
