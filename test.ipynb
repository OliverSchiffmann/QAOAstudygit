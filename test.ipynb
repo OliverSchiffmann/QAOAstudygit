{
 "cells": [
  {
   "cell_type": "code",
   "execution_count": 1,
   "id": "a127199b",
   "metadata": {},
   "outputs": [],
   "source": [
    "from qiskit_ionq import IonQProvider\n",
    "from dotenv import load_dotenv\n",
    "import os\n"
   ]
  },
  {
   "cell_type": "code",
   "execution_count": 2,
   "id": "afefe5b8",
   "metadata": {},
   "outputs": [
    {
     "name": "stderr",
     "output_type": "stream",
     "text": [
      "/Users/kv18799/Github/QAOAstudygit/IBMQpynbvenv/lib/python3.10/site-packages/qiskit_ionq/ionq_backend.py:127: IonQTranspileLevelWarning: Transpiler default optimization_level=2. IonQ (QIS) recommends 0-1 to avoid aggressive re-synthesis; use transpile(..., optimization_level=1).\n",
      "  warn_bad_transpile_level()\n"
     ]
    }
   ],
   "source": [
    "load_dotenv()\n",
    "ionqApiToken = os.environ.get(\"IONQ_API_TOKEN\")\n",
    "provider = IonQProvider(token=ionqApiToken)\n",
    "backendSimulator = provider.get_backend(\"ionq_simulator\")"
   ]
  },
  {
   "cell_type": "code",
   "execution_count": 10,
   "id": "49c4353f",
   "metadata": {},
   "outputs": [
    {
     "name": "stdout",
     "output_type": "stream",
     "text": [
      "<enum 'JobStatus'>\n",
      "{'100010001': 10000}\n"
     ]
    }
   ],
   "source": [
    "job_id = \"019933e4-f140-77eb-ac01-8ac865b02dd1\"\n",
    "job = backendSimulator.retrieve_job(job_id)\n",
    "\n",
    "print(type(job.status()))\n",
    "print(job.get_counts())"
   ]
  }
 ],
 "metadata": {
  "kernelspec": {
   "display_name": "IBMQpynbvenv (3.10.11)",
   "language": "python",
   "name": "python3"
  },
  "language_info": {
   "codemirror_mode": {
    "name": "ipython",
    "version": 3
   },
   "file_extension": ".py",
   "mimetype": "text/x-python",
   "name": "python",
   "nbconvert_exporter": "python",
   "pygments_lexer": "ipython3",
   "version": "3.10.11"
  }
 },
 "nbformat": 4,
 "nbformat_minor": 5
}
