{
 "cells": [
  {
   "cell_type": "code",
   "execution_count": 9,
   "id": "05aadb4d",
   "metadata": {},
   "outputs": [],
   "source": [
    "import numpy as np\n",
    "from openqaoa.problems import BinPacking, MaximumCut, TSP, ShortestPath\n",
    "import json\n",
    "import os\n",
    "import networkx as nx"
   ]
  },
  {
   "cell_type": "code",
   "execution_count": 10,
   "id": "add1bb11",
   "metadata": {},
   "outputs": [],
   "source": [
    "def generate_results_filename(problem_type, num_qubits):\n",
    "    return f\"batch_QUBO_data_{str(problem_type).replace(' ', '_')}_{num_qubits}q_.json\""
   ]
  },
  {
   "cell_type": "code",
   "execution_count": 11,
   "id": "1c2611e5",
   "metadata": {},
   "outputs": [],
   "source": [
    "desiredProblemType = 'MaxCut' #options: 'BinPacking', 'MaxCut', 'TSP', 'ShortestPath'\n",
    "#make sure you typed in that mf desiredProblemType correctly\n",
    "batchSize = 5\n",
    "RESULTS_FOLDER = \"QUBO_batches\""
   ]
  },
  {
   "cell_type": "code",
   "execution_count": 12,
   "id": "8258ffd9",
   "metadata": {},
   "outputs": [
    {
     "name": "stdout",
     "output_type": "stream",
     "text": [
      "Generated QUBO for MaxCut instance 5 of 5\n",
      "Batch of 5 QUBOs saved to QUBO_batches/batch_QUBO_data_MaxCut_20q_.json\n"
     ]
    }
   ],
   "source": [
    "all_qubos_list = []\n",
    "for instance in range(batchSize):\n",
    "    if desiredProblemType == 'BinPacking': #doesnt seem possible to get a non-trivial example of this problem in less than 12 qubits\n",
    "        n_items = 2 # number of items\n",
    "        n_bins = 2 # maximum number of bins the solution will be explored on\n",
    "        min_weight = 1 # minimum weight of the items\n",
    "        max_weight = 3 # maximum weight of the items\n",
    "        weight_capacity = 5 # weight capacity of the bins\n",
    "        weights = np.random.default_rng(seed=1234).integers(low=min_weight, high=max_weight, size=n_items) # random instance of the problem\n",
    "\n",
    "        bpp = BinPacking(weights, weight_capacity, n_bins=n_bins, simplifications=False) #it is here that you would specifiy the penalty for the bin packing problem\n",
    "        quboProb = bpp.qubo\n",
    "\n",
    "    elif desiredProblemType == 'MaxCut':\n",
    "        G = nx.generators.fast_gnp_random_graph(n=20, p=0.6) #you can fix the seed for the graphs here\n",
    "        maxcut_prob = MaximumCut(G)\n",
    "        quboProb = maxcut_prob.qubo\n",
    "        \n",
    "\n",
    "    elif desiredProblemType == 'TSP':\n",
    "        n_cities = 4  # Number of cities for TSP\n",
    "        connection_probability = 1  # Probability for edge creation in gnp_random_graph\n",
    "        # Ensure the graph is connected\n",
    "        G = nx.generators.fast_gnp_random_graph(n=n_cities, p=connection_probability) \n",
    "\n",
    "        min_edge_weight = 1\n",
    "        max_edge_weight = 10 \n",
    "        rng_weights = np.random.default_rng() # Use a different seed or manage seeds as needed\n",
    "        for (u, v) in G.edges():\n",
    "            weight = int(rng_weights.integers(low=min_edge_weight, high=max_edge_weight, endpoint=True)) # endpoint=True includes high value\n",
    "            G.edges[u, v]['weight'] = weight\n",
    "        # A is the penalty for not visiting a city or visiting it multiple times.\n",
    "        # B is the penalty for not having a valid tour structure (e.g. sub-tours or incorrect number of cities at a position)\n",
    "        B_val = 1\n",
    "        A_val = 9\n",
    "        tsp_prob = TSP(G=G, A=A_val, B=B_val) # Using your specified A and B penalties\n",
    "        quboProb = tsp_prob.qubo\n",
    "    \n",
    "\n",
    "    elif desiredProblemType == 'ShortestPath': #not sure that the exact solver is working right for this one\n",
    "        G = nx.generators.fast_gnp_random_graph(n=6, p=0.6)\n",
    "        nx.set_edge_attributes(G, values = 1, name = 'weight')\n",
    "        nx.set_node_attributes(G, values = 1, name = 'weight')\n",
    "        sp_prob = ShortestPath(G, source=0, dest=5)\n",
    "        quboProb = sp_prob.qubo\n",
    "    \n",
    "    print(f\"Generated QUBO for {desiredProblemType} instance {instance + 1} of {batchSize}\", end=\"\\r\")\n",
    "    qubo_dict = quboProb.asdict()\n",
    "    current_qubo_data = {\n",
    "        \"instance_id\": instance + 1, # Add an identifier for each QUBO instance\n",
    "        \"terms\": qubo_dict[\"terms\"],\n",
    "        \"weights\": qubo_dict[\"weights\"],\n",
    "        \"constant\": qubo_dict.get(\"constant\", 0.0),\n",
    "        \"problem_type\": qubo_dict.get(\"problem_instance\", {}).get(\"problem_type\", \"unknown\"),\n",
    "        # Optional: include more problem-specific details if needed for later analysis, can add the number of qubits/problem size\n",
    "    }\n",
    " \n",
    "    all_qubos_list.append(current_qubo_data) \n",
    "\n",
    "all_indices = []\n",
    "terms = qubo_dict[\"terms\"]\n",
    "for term_group in terms:\n",
    "    for idx in term_group:\n",
    "        all_indices.append(idx)\n",
    "num_qubits = max(all_indices) + 1\n",
    "\n",
    "file_name = generate_results_filename(desiredProblemType, num_qubits)\n",
    "results_filename_with_path = os.path.join(RESULTS_FOLDER, file_name)\n",
    "\n",
    "with open(results_filename_with_path, \"w\") as f:\n",
    "    f.write(\"[\\n\") # Start of the JSON array\n",
    "    for i, single_qubo_data in enumerate(all_qubos_list):\n",
    "        qubo_json_string = json.dumps(single_qubo_data)\n",
    "        f.write(\"  \" + qubo_json_string)\n",
    "        \n",
    "        if i < len(all_qubos_list) - 1:\n",
    "            f.write(\",\\n\")\n",
    "        else:\n",
    "            f.write(\"\\n\")\n",
    "            \n",
    "    f.write(\"]\\n\") \n",
    "\n",
    "print(f\"\\nBatch of {len(all_qubos_list)} QUBOs saved to {results_filename_with_path}\")\n",
    "    "
   ]
  }
 ],
 "metadata": {
  "kernelspec": {
   "display_name": "openQAOAvenv",
   "language": "python",
   "name": "python3"
  },
  "language_info": {
   "codemirror_mode": {
    "name": "ipython",
    "version": 3
   },
   "file_extension": ".py",
   "mimetype": "text/x-python",
   "name": "python",
   "nbconvert_exporter": "python",
   "pygments_lexer": "ipython3",
   "version": "3.10.11"
  }
 },
 "nbformat": 4,
 "nbformat_minor": 5
}
