{
 "cells": [
  {
   "cell_type": "code",
   "execution_count": 7,
   "id": "b5d1a88d",
   "metadata": {},
   "outputs": [],
   "source": [
    "import rustworkx as rx\n",
    "from rustworkx.visualization import mpl_draw as draw_graph\n",
    "import numpy as np\n",
    "import matplotlib.pyplot as plt\n",
    "from scipy.optimize import minimize\n",
    "\n",
    "# Packages for quantum stuff\n",
    "from qiskit.quantum_info import SparsePauliOp\n",
    "from qiskit.circuit.library import QAOAAnsatz\n",
    "from qiskit_aer import AerSimulator\n",
    "from qiskit_ibm_runtime import EstimatorV2 as Estimator, QiskitRuntimeService, SamplerV2 as Sampler\n",
    "from qiskit.transpiler.preset_passmanagers import generate_preset_pass_manager\n",
    "from qiskit_ibm_runtime.fake_provider import FakeBrisbane"
   ]
  },
  {
   "cell_type": "code",
   "execution_count": 2,
   "id": "0646d8e5",
   "metadata": {},
   "outputs": [],
   "source": [
    "# functions \\/\\/\\/\\/\\/\n",
    "def build_max_cut_paulis(graph: rx.PyGraph) -> list[tuple[str, float]]:\n",
    "    \"\"\"Convert the graph to Pauli list.\n",
    "\n",
    "    This function does the inverse of `build_max_cut_graph`\n",
    "    \"\"\"\n",
    "    pauli_list = []\n",
    "    for edge in list(graph.edge_list()):\n",
    "        paulis = [\"I\"] * len(graph)\n",
    "        paulis[edge[0]], paulis[edge[1]] = \"Z\", \"Z\"\n",
    "\n",
    "        weight = graph.get_edge_data(edge[0], edge[1])\n",
    "\n",
    "        pauli_list.append((\"\".join(paulis)[::-1], weight))\n",
    "\n",
    "    return pauli_list\n",
    "\n",
    "\n",
    "def cost_func_estimator(params, ansatz, estimator):  # Removed hamiltonian argument\n",
    "    # The Hamiltonian information should ideally be accessed via the ansatz\n",
    "    # or passed if strictly needed, but Estimator needs the observable.\n",
    "    # Rebuild observable based on ansatz qubits if needed, or use pre-built one\n",
    "    # Assuming cost_hamiltonian is defined globally/accessible here for simplicity\n",
    "    # apply_layout might be needed if the estimator doesn't handle it automatically\n",
    "    # based on the transpiled ansatz. Let's assume estimator + transpiled ansatz handles layout.\n",
    "    isa_observable = cost_hamiltonian.apply_layout(\n",
    "        ansatz.layout\n",
    "    )  # Apply layout based on *transpiled* ansatz\n",
    "\n",
    "    pub = (ansatz, isa_observable, [params])  # Pass params in a list for V2 PUB\n",
    "    job = estimator.run(pubs=[pub])  # Pass pubs as keyword arg\n",
    "\n",
    "    # Handle potential errors during job execution\n",
    "    try:\n",
    "        results = job.result()[0]  # Get the first PubResult\n",
    "        cost = results.data.evs[0]  # Get the first (and only) EV\n",
    "    except Exception as e:\n",
    "        print(f\"Error getting result for params {params}: {e}\")\n",
    "        # Return a high cost or handle error appropriately for the optimizer\n",
    "        return float(\"inf\")\n",
    "\n",
    "    # Ensure cost is a standard float for scipy.optimize\n",
    "    cost_float = float(np.real(cost))\n",
    "    objective_func_vals.append(cost_float)\n",
    "    print(f\"Params: {params}, Cost: {cost_float}\")  # Add print for debugging\n",
    "    return cost_float\n"
   ]
  },
  {
   "cell_type": "code",
   "execution_count": 11,
   "id": "ff4545a3",
   "metadata": {},
   "outputs": [
    {
     "name": "stdout",
     "output_type": "stream",
     "text": [
      "Cost Function Hamiltonian: SparsePauliOp(['IIIZZ', 'IIZIZ', 'ZIIIZ', 'IIZZI', 'IZZII', 'ZZIII'],\n",
      "              coeffs=[1.+0.j, 1.+0.j, 1.+0.j, 1.+0.j, 1.+0.j, 1.+0.j])\n",
      "Ansatz Parameters: ParameterView([ParameterVectorElement(β[0]), ParameterVectorElement(β[1]), ParameterVectorElement(γ[0]), ParameterVectorElement(γ[1])])\n",
      "Starting optimization...\n",
      "Params: [3.14159265 1.57079633 3.14159265 1.57079633], Cost: -0.08391608391608392\n",
      "Params: [4.14159265 1.57079633 3.14159265 1.57079633], Cost: 0.03796203796203797\n",
      "Params: [3.14159265 2.57079633 3.14159265 1.57079633], Cost: -0.04395604395604395\n",
      "Params: [3.14159265 1.57079633 4.14159265 1.57079633], Cost: -0.013986013986013988\n",
      "Params: [3.14159265 1.57079633 3.14159265 2.57079633], Cost: 0.13386613386613386\n",
      "Params: [2.67683665 1.41841731 2.87492937 0.74033068], Cost: 2.0599400599400597\n",
      "Params: [2.90921465 1.49460682 3.00826101 1.1555635 ], Cost: 1.1488511488511488\n",
      "Params: [3.39138888 1.56905956 3.13855331 1.56133095], Cost: -0.011988011988011991\n",
      "Params: [3.14159265 1.67932672 3.07957529 1.57079633], Cost: -0.015984015984015984\n",
      "Params: [3.13676525 1.68128101 3.36571848 1.56467711], Cost: 0.03196803196803197\n",
      "Params: [3.12857037 1.51915474 3.13424489 1.81494705], Cost: -0.025974025974025983\n",
      "Params: [3.09886509 1.47086561 3.11730182 1.51402342], Cost: -0.04595404595404595\n",
      "Params: [3.13046112 1.57994897 3.20206346 1.56432717], Cost: -0.16183816183816183\n",
      "Params: [3.13711054 1.58501127 3.26346881 1.55621601], Cost: 0.019980019980019983\n",
      "Params: [3.13187663 1.59562466 3.19711227 1.53778819], Cost: 0.011988011988011995\n",
      "Params: [3.076102   1.58874129 3.19909995 1.59374229], Cost: -0.21178821178821178\n",
      "Params: [3.08823381 1.61326109 3.19923782 1.60884667], Cost: 0.10189810189810189\n",
      "Params: [3.05945352 1.52987077 3.21157284 1.59095534], Cost: -0.23176823176823175\n",
      "Params: [3.04443718 1.53395804 3.20732646 1.56419091], Cost: -0.2837162837162837\n",
      "Params: [3.04347178 1.53749914 3.22245694 1.56287276], Cost: -0.16383616383616384\n",
      "Params: [3.0404814  1.52740201 3.17707518 1.56251963], Cost: -0.0899100899100899\n",
      "Params: [3.0313469  1.53740464 3.20786111 1.5719768 ], Cost: -0.1758241758241758\n",
      "Params: [3.0604701  1.53334587 3.22684692 1.54580383], Cost: -0.35364635364635366\n",
      "Params: [3.07872422 1.52405128 3.20974759 1.52953813], Cost: -0.2037962037962038\n",
      "Params: [3.05779287 1.51846325 3.23032024 1.54765227], Cost: -0.3556443556443556\n",
      "Params: [3.07828282 1.51914508 3.23755361 1.57010084], Cost: -0.33766233766233766\n",
      "Params: [3.04501048 1.52630435 3.25770089 1.5462417 ], Cost: -0.38561438561438566\n",
      "Params: [3.05349941 1.52417365 3.27557943 1.5221519 ], Cost: -0.4015984015984016\n",
      "Params: [3.03316328 1.52736243 3.29619477 1.5108451 ], Cost: -0.5434565434565434\n",
      "Params: [3.00850146 1.52721393 3.28788683 1.49354444], Cost: -0.5914085914085915\n",
      "Params: [3.00225968 1.5570903  3.2943482  1.49174001], Cost: -0.6653346653346653\n",
      "Params: [2.98063426 1.56313937 3.31576012 1.4954605 ], Cost: -1.052947052947053\n",
      "Params: [2.96013968 1.56340704 3.3189841  1.51882862], Cost: -0.947052947052947\n",
      "Params: [2.99090026 1.56384718 3.32457684 1.5032396 ], Cost: -0.877122877122877\n",
      "Params: [2.96381234 1.5588612  3.32853341 1.47283031], Cost: -1.0769230769230769\n",
      "Params: [2.96200882 1.57409113 3.32707368 1.47022138], Cost: -1.052947052947053\n",
      "Params: [2.96936953 1.55845703 3.3266236  1.46769786], Cost: -0.865134865134865\n",
      "Params: [2.95072282 1.55767965 3.32632401 1.48098676], Cost: -1.126873126873127\n",
      "Params: [2.95131468 1.55980096 3.34025344 1.48771441], Cost: -1.1028971028971029\n",
      "Params: [2.94668994 1.55651184 3.32946927 1.47519759], Cost: -1.174825174825175\n",
      "Params: [2.93428379 1.55053299 3.33072079 1.46792331], Cost: -1.150849150849151\n",
      "Params: [2.944231   1.55555241 3.3213754  1.48044376], Cost: -0.969030969030969\n",
      "Params: [2.94434324 1.56571708 3.33032198 1.47219267], Cost: -0.987012987012987\n",
      "Optimization Result:\n",
      " message: Optimization terminated successfully.\n",
      " success: True\n",
      "  status: 1\n",
      "     fun: -0.987012987012987\n",
      "       x: [ 2.944e+00  1.566e+00  3.330e+00  1.472e+00]\n",
      "    nfev: 43\n",
      "   maxcv: 0.0\n"
     ]
    },
    {
     "data": {
      "image/png": "[encoded data removed]",
      "text/plain": [
       "<Figure size 640x480 with 1 Axes>"
      ]
     },
     "metadata": {},
     "output_type": "display_data"
    }
   ],
   "source": [
    "# 1\n",
    "n = 5\n",
    "graph = rx.PyGraph()\n",
    "graph.add_nodes_from(np.arange(0, n, 1))\n",
    "edge_list = [\n",
    "    (0, 1, 1.0),\n",
    "    (0, 2, 1.0),\n",
    "    (0, 4, 1.0),\n",
    "    (1, 2, 1.0),\n",
    "    (2, 3, 1.0),\n",
    "    (3, 4, 1.0),\n",
    "]\n",
    "graph.add_edges_from(edge_list)\n",
    "# draw_graph(graph, node_size=600, with_labels=True)\n",
    "\n",
    "\n",
    "# 2\n",
    "max_cut_paulis = build_max_cut_paulis(graph)\n",
    "cost_hamiltonian = SparsePauliOp.from_list(max_cut_paulis)\n",
    "print(\"Cost Function Hamiltonian:\", cost_hamiltonian)\n",
    "\n",
    "# 3\n",
    "# Hopefully we should be able to insert the circuit created using the openQAOA package somewhere here\n",
    "circuit = QAOAAnsatz(cost_operator=cost_hamiltonian, reps=2)\n",
    "circuit.measure_all() #measurement not needed for estimator?\n",
    "print(\"Ansatz Parameters:\", circuit.parameters)\n",
    "# circuit.draw(\"mpl\")\n",
    "\n",
    "\n",
    "# 4\n",
    "fakeBackend = FakeBrisbane()\n",
    "simulator = AerSimulator.from_backend(fakeBackend)\n",
    "\n",
    "# Create pass manager for transpilation\n",
    "pm = generate_preset_pass_manager(optimization_level=3, backend=fakeBackend)\n",
    "candidate_circuit = pm.run(circuit)\n",
    "# candidate_circuit.draw(\"mpl\", fold=False, idle_wires=False)\n",
    "\n",
    "# 5 Setting the parameters for the QAOA cost and mixer hamiltonian\n",
    "initial_gamma = np.pi\n",
    "initial_beta = np.pi / 2\n",
    "init_params = [initial_gamma, initial_beta, initial_gamma, initial_beta]\n",
    "\n",
    "# 6 finding the optimal parameters for the QAOA circuit using a 'estimator'\n",
    "objective_func_vals = []  # Global variable\n",
    "\n",
    "estimator = Estimator(mode=simulator)\n",
    "estimator.options.default_shots = 1000\n",
    "\n",
    "print(\"Starting optimization...\")\n",
    "result = minimize(\n",
    "    cost_func_estimator,\n",
    "    init_params,\n",
    "    args=(candidate_circuit, estimator),  # Pass transpiled circuit and estimator\n",
    "    method=\"COBYLA\",\n",
    "    tol=1e-2,  # Tolerance for termination\n",
    "    options={\"maxiter\": 100},  # Set max iterations to prevent running forever\n",
    ")\n",
    "print(\"Optimization Result:\")\n",
    "print(result)\n",
    "\n",
    "# You can plot the objective function values if desired\n",
    "plt.plot(objective_func_vals)\n",
    "plt.xlabel(\"Iteration\")\n",
    "plt.ylabel(\"Cost\")\n",
    "plt.show()"
   ]
  },
  {
   "cell_type": "code",
   "execution_count": null,
   "id": "91ece522",
   "metadata": {},
   "outputs": [],
   "source": [
    "optimized_circuit = candidate_circuit.assign_parameters(result.x)\n",
    "optimized_circuit.draw()"
   ]
  },
  {
   "cell_type": "code",
   "execution_count": 15,
   "id": "df866b7b",
   "metadata": {},
   "outputs": [
    {
     "name": "stderr",
     "output_type": "stream",
     "text": [
      "/var/folders/ph/hp043kk921q2v4grp3l2v6nw0000gq/T/ipykernel_45091/2631919159.py:9: DeprecationWarning: The \"ibm_quantum\" channel option is deprecated and will be sunset on 1 July. After this date, ibm_cloud will be the only valid channel. For information on migrating to the new IBM Quantum Platform on the \"ibm_cloud\" channel, review the migration guide https://quantum.cloud.ibm.com/docs/migration-guides/classic-iqp-to-cloud-iqp .\n",
      "  service = QiskitRuntimeService(channel=\"ibm_quantum\")\n"
     ]
    },
    {
     "name": "stdout",
     "output_type": "stream",
     "text": [
      "Successfully retrieved backend: ibm_brisbane\n",
      "Number of qubits: 127\n"
     ]
    }
   ],
   "source": [
    "QiskitRuntimeService.save_account(\n",
    "    channel=\"ibm_quantum\",\n",
    "    token=\"e3d76332de187f9b82dbd1904444ae8aaca1b80ed6fa6b8ae43d3b8f2641c0eea75884a158e0208d8d46c6d03551260f840427bfee34f4e323e13454fbf86fdf\",\n",
    "    overwrite=True,\n",
    "    set_as_default=True,\n",
    ")\n",
    "\n",
    "\n",
    "service = QiskitRuntimeService(channel=\"ibm_quantum\")\n",
    "backend_name = \"ibm_brisbane\"\n",
    "\n",
    "try:\n",
    "    backend = service.backend(backend_name)\n",
    "    print(f\"Successfully retrieved backend: {backend.name}\")\n",
    "    print(f\"Number of qubits: {backend.num_qubits}\")\n",
    "\n",
    "except Exception as e:\n",
    "    print(f\"Error retrieving backend '{backend_name}': {e}\")\n",
    "    print(f\"- Available backends for your account: {[b.name for b in service.backends()]}\")\n",
    "    backend = None # Set backend to None if retrieval failed"
   ]
  },
  {
   "cell_type": "code",
   "execution_count": null,
   "id": "77438d09",
   "metadata": {},
   "outputs": [],
   "source": [
    "sampler = Sampler(mode=backend)\n",
    "sampler.options.default_shots = 1000\n",
    "\n",
    "# Set simple error suppression/mitigation options\n",
    "sampler.options.dynamical_decoupling.enable = True\n",
    "sampler.options.dynamical_decoupling.sequence_type = \"XY4\"\n",
    "sampler.options.twirling.enable_gates = True\n",
    "sampler.options.twirling.num_randomizations = \"auto\"\n",
    "\n",
    "pub= (optimized_circuit, )\n",
    "job = sampler.run([pub], shots=int(1e4))\n",
    "jobID = job.job_id()\n",
    "print(f\"You can monitor the job status at: https://quantum.ibm.com/jobs/{jobID}\")"
   ]
  },
  {
   "cell_type": "code",
   "execution_count": 22,
   "id": "ede344d8",
   "metadata": {},
   "outputs": [
    {
     "name": "stdout",
     "output_type": "stream",
     "text": [
      "This job's job ID is: d09n5qerxz8g008a31m0\n",
      "Submission script finished.\n"
     ]
    }
   ],
   "source": [
    "print('This job\\'s job ID is:', jobID)\n",
    "print(\"Submission script finished.\")"
   ]
  },
  {
   "cell_type": "code",
   "execution_count": null,
   "id": "957d6af9",
   "metadata": {},
   "outputs": [],
   "source": []
  }
 ],
 "metadata": {
  "kernelspec": {
   "display_name": "IBMQpynbvenv",
   "language": "python",
   "name": "python3"
  },
  "language_info": {
   "codemirror_mode": {
    "name": "ipython",
    "version": 3
   },
   "file_extension": ".py",
   "mimetype": "text/x-python",
   "name": "python",
   "nbconvert_exporter": "python",
   "pygments_lexer": "ipython3",
   "version": "3.10.11"
  }
 },
 "nbformat": 4,
 "nbformat_minor": 5
}
