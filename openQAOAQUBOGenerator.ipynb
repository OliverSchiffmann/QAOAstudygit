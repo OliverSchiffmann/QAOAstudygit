{
 "cells": [
  {
   "cell_type": "code",
   "execution_count": 29,
   "id": "05aadb4d",
   "metadata": {},
   "outputs": [],
   "source": [
    "#Script still maybe useful for visulasing new problem types, but probably superceeded by the new `batchQuboGenerator.ipynb` script.\n",
    "import numpy as np\n",
    "from openqaoa.problems import BinPacking, MaximumCut, TSP, ShortestPath\n",
    "from openqaoa.utilities import plot_graph\n",
    "import json\n",
    "import pprint\n",
    "import networkx as nx\n",
    "import matplotlib.pyplot as plt"
   ]
  },
  {
   "cell_type": "code",
   "execution_count": null,
   "id": "1c2611e5",
   "metadata": {},
   "outputs": [],
   "source": [
    "desiredProblemType = 'TSP' #options: 'BinPacking', 'MaxCut', 'TSP', 'ShortestPath'"
   ]
  },
  {
   "cell_type": "code",
   "execution_count": 31,
   "id": "8258ffd9",
   "metadata": {},
   "outputs": [
    {
     "data": {
      "text/latex": [
       "$\\displaystyle 0 + 1.0Z_{0}Z_{4} + 1.0Z_{1}Z_{2} + 1.0Z_{1}Z_{3} + 1.0Z_{1}Z_{4} + 1.0Z_{2}Z_{3} + 1.0Z_{2}Z_{4} + 1.0Z_{3}Z_{4}$"
      ],
      "text/plain": [
       "0 + 1.0Z_{0}Z_{4} + 1.0Z_{1}Z_{2} + 1.0Z_{1}Z_{3} + 1.0Z_{1}Z_{4} + 1.0Z_{2}Z_{3} + 1.0Z_{2}Z_{4} + 1.0Z_{3}Z_{4}"
      ]
     },
     "execution_count": 31,
     "metadata": {},
     "output_type": "execute_result"
    }
   ],
   "source": [
    "if desiredProblemType == 'BinPacking': #doesnt seem possible to get a non-trivial example of this problem in less than 12 qubits\n",
    "    n_items = 2 # number of items\n",
    "    n_bins = 2 # maximum number of bins the solution will be explored on\n",
    "    min_weight = 1 # minimum weight of the items\n",
    "    max_weight = 3 # maximum weight of the items\n",
    "    weight_capacity = 5 # weight capacity of the bins\n",
    "    weights = np.random.default_rng(seed=1234).integers(low=min_weight, high=max_weight, size=n_items) # random instance of the problem\n",
    "\n",
    "    bpp = BinPacking(weights, weight_capacity, n_bins=n_bins, simplifications=False) #it is here that you would specifiy the penalty for the bin packing problem\n",
    "    quboProb = bpp.qubo\n",
    "\n",
    "elif desiredProblemType == 'MaxCut':\n",
    "    G = nx.generators.fast_gnp_random_graph(n=5, p=0.6) #you can fix the seed for the graphs here\n",
    "    maxcut_prob = MaximumCut(G)\n",
    "    quboProb = maxcut_prob.qubo\n",
    "\n",
    "elif desiredProblemType == 'TSP':\n",
    "    n_cities = 4  # Number of cities for TSP\n",
    "    connection_probability = 1  # Probability for edge creation in gnp_random_graph\n",
    "    # Ensure the graph is connected\n",
    "    G = nx.generators.fast_gnp_random_graph(n=n_cities, p=connection_probability) \n",
    "\n",
    "    min_edge_weight = 1\n",
    "    max_edge_weight = 10 \n",
    "    rng_weights = np.random.default_rng() # Use a different seed or manage seeds as needed\n",
    "    for (u, v) in G.edges():\n",
    "        weight = int(rng_weights.integers(low=min_edge_weight, high=max_edge_weight, endpoint=True)) # endpoint=True includes high value\n",
    "        G.edges[u, v]['weight'] = weight\n",
    "    # A is the penalty for not visiting a city or visiting it multiple times.\n",
    "    # B is the penalty for not having a valid tour structure (e.g. sub-tours or incorrect number of cities at a position)\n",
    "    B_val = 1\n",
    "    A_val = 9\n",
    "    tsp_prob = TSP(G=G, A=A_val, B=B_val) # Using your specified A and B penalties\n",
    "    quboProb = tsp_prob.qubo\n",
    " \n",
    "\n",
    "elif desiredProblemType == 'ShortestPath': #not sure that the exact solver is working right for this one\n",
    "    G = nx.generators.fast_gnp_random_graph(n=6, p=0.6)\n",
    "    nx.set_edge_attributes(G, values = 1, name = 'weight')\n",
    "    nx.set_node_attributes(G, values = 1, name = 'weight')\n",
    "    sp_prob = ShortestPath(G, source=0, dest=5)\n",
    "    quboProb = sp_prob.qubo\n",
    "\n",
    "quboProb.hamiltonian.expression"
   ]
  },
  {
   "cell_type": "code",
   "execution_count": 41,
   "id": "1bbfb64f",
   "metadata": {},
   "outputs": [
    {
     "name": "stdout",
     "output_type": "stream",
     "text": [
      "QUBO data saved to qubo_data.json\n",
      "Saved data structure example:\n",
      "{'terms': [[0, 4], [1, 2], [1, 3], [1, 4], [2, 3], [2, 4], [3, 4]], 'weights': [1.0, 1.0, 1.0, 1.0, 1.0, 1.0, 1.0], 'constant': 0, 'n': 5, 'problem_instance': {'problem_type': 'maximum_cut', 'G': {'directed': False, 'multigraph': False, 'graph': {}, 'nodes': [{'id': 0}, {'id': 1}, {'id': 2}, {'id': 3}, {'id': 4}], 'links': [{'source': 0, 'target': 4}, {'source': 1, 'target': 2}, {'source': 1, 'target': 3}, {'source': 1, 'target': 4}, {'source': 2, 'target': 3}, {'source': 2, 'target': 4}, {'source': 3, 'target': 4}]}}, 'metadata': {}}\n",
      "[{'instance_id': 1, 'terms': [[0, 4], [1, 2], [1, 3], [1, 4], [2, 3], [2, 4], [3, 4]], 'weights': [1.0, 1.0, 1.0, 1.0, 1.0, 1.0, 1.0], 'constant': 0, 'problem_type': 'maximum_cut'}]\n"
     ]
    }
   ],
   "source": [
    "qubo_dict = quboProb.asdict()\n",
    "data_to_save = [{\n",
    "    \"instance_id\": int(1),\n",
    "    \"terms\": qubo_dict[\"terms\"],\n",
    "    \"weights\": qubo_dict[\"weights\"],\n",
    "    \"constant\": qubo_dict.get(\"constant\", 0.0),\n",
    "    \"problem_type\": qubo_dict.get(\"problem_instance\", {}).get(\"problem_type\", \"unknown\")\n",
    "}]\n",
    "\n",
    "file_path = \"qubo_data.json\"\n",
    "with open(file_path, \"w\") as f:\n",
    "    json.dump(data_to_save, f)\n",
    "\n",
    "print(f\"QUBO data saved to {file_path}\")\n",
    "print(\"Saved data structure example:\")\n",
    "#print(json.dumps(data_to_save, indent=2))\n",
    "print(quboProb.asdict()) # Original full dictionary from OpenQAOA\n",
    "print(data_to_save)"
   ]
  },
  {
   "cell_type": "code",
   "execution_count": 40,
   "id": "7c5df1b1",
   "metadata": {},
   "outputs": [
    {
     "name": "stdout",
     "output_type": "stream",
     "text": [
      "<class 'openqaoa.qaoa_components.ansatz_constructor.operators.Hamiltonian'>\n",
      "Ground State energy: -3.0, Solution: ['11100', '11010', '10110', '01001', '00101', '00011']\n"
     ]
    }
   ],
   "source": [
    "#exact solver for later comparison to qunatum results\n",
    "hamiltonian = quboProb.hamiltonian\n",
    "print(type(hamiltonian))\n",
    "# import the brute-force solver to obtain exact solution\n",
    "from openqaoa.utilities import ground_state_hamiltonian\n",
    "energy, configuration = ground_state_hamiltonian(hamiltonian)\n",
    "print(f\"Ground State energy: {energy}, Solution: {configuration}\")"
   ]
  },
  {
   "cell_type": "code",
   "execution_count": 34,
   "id": "09b0bb59",
   "metadata": {},
   "outputs": [
    {
     "data": {
      "image/png": "[encoded data removed]",
      "text/plain": [
       "<Figure size 640x480 with 1 Axes>"
      ]
     },
     "metadata": {},
     "output_type": "display_data"
    }
   ],
   "source": [
    "if desiredProblemType == 'TSP':\n",
    "    pos = nx.kamada_kawai_layout(G)\n",
    "    pos = nx.random_layout(G, seed=0)\n",
    "    pos = nx.spring_layout(G, seed=0)\n",
    "    fig, ax = plt.subplots(figsize=(10, 7)) # You can adjust figsize as needed\n",
    "    nx.draw_networkx_nodes(G, pos, ax=ax, node_size=500, node_color=\"lightblue\")\n",
    "    nx.draw_networkx_edges(G, pos, ax=ax, edge_color=\"grey\", width=1.0)\n",
    "    nx.draw_networkx_labels(G, pos, ax=ax, font_size=10)\n",
    "\n",
    "    edge_weights = nx.get_edge_attributes(G, 'weight')\n",
    "\n",
    "    nx.draw_networkx_edge_labels(\n",
    "        G,\n",
    "        pos,\n",
    "        edge_labels=edge_weights,\n",
    "        ax=ax,\n",
    "        font_color='black', # Color of the weight text\n",
    "        font_size=8,\n",
    "        bbox=dict(facecolor='white', edgecolor='none', alpha=1, pad=1) # Optional: add a small white background to edge labels for readability\n",
    "    )\n",
    "    ax.set_title(\"Problem Graph\")\n",
    "    plt.axis('off')\n",
    "    plt.show()\n",
    "elif desiredProblemType == 'MaxCut':\n",
    "    pos =  nx.spring_layout(G)\n",
    "    nx.draw_networkx_nodes(G, pos, nodelist=[idx for idx,bit in enumerate(configuration[0]) if bit == '1'], node_color=\"tab:red\")\n",
    "    nx.draw_networkx_nodes(G, pos, nodelist=[idx for idx,bit in enumerate(configuration[0]) if bit == '0'], node_color=\"tab:blue\")\n",
    "    nx.draw_networkx_edges(G, pos)\n",
    "    nx.draw_networkx_labels(G, pos, labels={node: node for node in G.nodes()});"
   ]
  },
  {
   "cell_type": "code",
   "execution_count": 35,
   "id": "cf92b05f",
   "metadata": {},
   "outputs": [
    {
     "data": {
      "text/plain": [
       "{'terms': [[0, 4], [1, 2], [1, 3], [1, 4], [2, 3], [2, 4], [3, 4]],\n",
       " 'weights': [1.0, 1.0, 1.0, 1.0, 1.0, 1.0, 1.0],\n",
       " 'constant': 0,\n",
       " 'n': 5,\n",
       " 'problem_instance': {'problem_type': 'maximum_cut',\n",
       "  'G': {'directed': False,\n",
       "   'multigraph': False,\n",
       "   'graph': {},\n",
       "   'nodes': [{'id': 0}, {'id': 1}, {'id': 2}, {'id': 3}, {'id': 4}],\n",
       "   'links': [{'source': 0, 'target': 4},\n",
       "    {'source': 1, 'target': 2},\n",
       "    {'source': 1, 'target': 3},\n",
       "    {'source': 1, 'target': 4},\n",
       "    {'source': 2, 'target': 3},\n",
       "    {'source': 2, 'target': 4},\n",
       "    {'source': 3, 'target': 4}]}},\n",
       " 'metadata': {}}"
      ]
     },
     "execution_count": 35,
     "metadata": {},
     "output_type": "execute_result"
    }
   ],
   "source": [
    "quboProb.asdict()"
   ]
  }
 ],
 "metadata": {
  "kernelspec": {
   "display_name": "openQAOAvenv (3.10.11)",
   "language": "python",
   "name": "python3"
  },
  "language_info": {
   "codemirror_mode": {
    "name": "ipython",
    "version": 3
   },
   "file_extension": ".py",
   "mimetype": "text/x-python",
   "name": "python",
   "nbconvert_exporter": "python",
   "pygments_lexer": "ipython3",
   "version": "3.10.11"
  }
 },
 "nbformat": 4,
 "nbformat_minor": 5
}
