{
 "cells": [
  {
   "cell_type": "code",
   "execution_count": 1,
   "id": "8006c45a",
   "metadata": {},
   "outputs": [],
   "source": [
    "import rustworkx as rx\n",
    "from rustworkx.visualization import mpl_draw as draw_graph\n",
    "import numpy as np\n",
    "import matplotlib.pyplot as plt\n",
    "from scipy.optimize import minimize\n",
    "import json # To load settings\n",
    "\n",
    "# Packages for quantum stuff\n",
    "from qiskit.quantum_info import SparsePauliOp\n",
    "from qiskit.circuit.library import QAOAAnsatz\n",
    "from qiskit_aer import AerSimulator\n",
    "from qiskit_ibm_runtime import EstimatorV2 as Estimator, QiskitRuntimeService, SamplerV2 as Sampler\n",
    "from qiskit.transpiler.preset_passmanagers import generate_preset_pass_manager\n",
    "from qiskit_ibm_runtime.fake_provider import FakeBrisbane\n",
    "import qiskit\n",
    "from qiskit import qasm3"
   ]
  },
  {
   "cell_type": "code",
   "execution_count": 11,
   "id": "30684a64",
   "metadata": {},
   "outputs": [],
   "source": [
    "def cost_func_estimator(params, ansatz, estimator):  # Removed hamiltonian argument\n",
    "    # The Hamiltonian information should ideally be accessed via the ansatz\n",
    "    # or passed if strictly needed, but Estimator needs the observable.\n",
    "    # Rebuild observable based on ansatz qubits if needed, or use pre-built one\n",
    "    # Assuming cost_hamiltonian is defined globally/accessible here for simplicity\n",
    "    # apply_layout might be needed if the estimator doesn't handle it automatically\n",
    "    # based on the transpiled ansatz. Let's assume estimator + transpiled ansatz handles layout.\n",
    "    isa_observable = cost_hamiltonian.apply_layout(\n",
    "        ansatz.layout\n",
    "    )  # Apply layout based on *transpiled* ansatz\n",
    "\n",
    "    pub = (ansatz, isa_observable, [params])  # Pass params in a list for V2 PUB\n",
    "    job = estimator.run(pubs=[pub])  # Pass pubs as keyword arg\n",
    "\n",
    "    # Handle potential errors during job execution\n",
    "    try:\n",
    "        results = job.result()[0]  # Get the first PubResult\n",
    "        cost = results.data.evs[0]  # Get the first (and only) EV\n",
    "    except Exception as e:\n",
    "        print(f\"Error getting result for params {params}: {e}\")\n",
    "        # Return a high cost or handle error appropriately for the optimizer\n",
    "        return float(\"inf\")\n",
    "\n",
    "    # Ensure cost is a standard float for scipy.optimize\n",
    "    cost_float = float(np.real(cost))\n",
    "    objective_func_vals.append(cost_float)\n",
    "    print(f\"Params: {params}, Cost: {cost_float}\")  # Add print for debugging\n",
    "    return cost_float\n",
    "\n",
    "\n",
    "def build_max_cut_paulis_unit_weights(graph_rx, num_qubits):\n",
    "    pauli_list = []\n",
    "    # We only need the nodes involved in the edge from edge_list()\n",
    "    for u, v in graph_rx.edge_list():\n",
    "        paulis = [\"I\"] * num_qubits\n",
    "        paulis[u], paulis[v] = \"Z\", \"Z\"\n",
    "        # --- Assign weight directly for MaxCut ---\n",
    "        weight = 1.0\n",
    "        # -----------------------------------------\n",
    "        pauli_list.append((\"\".join(paulis)[::-1], weight))\n",
    "    return pauli_list"
   ]
  },
  {
   "cell_type": "code",
   "execution_count": 13,
   "id": "109f4659",
   "metadata": {},
   "outputs": [
    {
     "name": "stdout",
     "output_type": "stream",
     "text": [
      "Circuit loaded successfully.\n",
      "Settings loaded successfully.\n",
      "Recreating graph and Hamiltonian...\n",
      "Cost Hamiltonian recreated.\n"
     ]
    }
   ],
   "source": [
    "INPUT_QASM_FILE = 'parameterized_circuit.qasm3'\n",
    "INPUT_SETTINGS_FILE = 'qaoa_settings.json'\n",
    "\n",
    "with open(INPUT_QASM_FILE, 'r') as f:\n",
    "        qasm3_string = f.read()\n",
    "# Use qiskit.qasm3 loader\n",
    "loaded_circuit = qiskit.qasm3.loads(qasm3_string)\n",
    "print(\"Circuit loaded successfully.\")\n",
    "\n",
    "with open(INPUT_SETTINGS_FILE, 'r') as f:\n",
    "        settings = json.load(f)\n",
    "print(\"Settings loaded successfully.\")\n",
    "# Extract relevant settings\n",
    "opt_method = settings[\"optimizer_method\"]\n",
    "opt_maxiter = settings[\"optimizer_maxiter\"]\n",
    "opt_tol = settings[\"optimizer_tol\"]\n",
    "num_qubits_check = settings[\"num_qubits\"] # For verification\n",
    "parameter_names_ordered = settings[\"parameter_names_ordered\"]\n",
    "\n",
    "print(\"Recreating graph and Hamiltonian...\")\n",
    "graph = rx.PyGraph()\n",
    "graph.add_nodes_from(settings[\"graph_nodes\"])\n",
    "graph.add_edges_from([(u, v, 1.0) for u, v in settings[\"graph_edges\"]])\n",
    "\n",
    "max_cut_paulis = build_max_cut_paulis_unit_weights(graph, settings[\"num_qubits\"])\n",
    "cost_hamiltonian = SparsePauliOp.from_list(max_cut_paulis)\n",
    "print(\"Cost Hamiltonian recreated.\")"
   ]
  },
  {
   "cell_type": "code",
   "execution_count": 17,
   "id": "381ba394",
   "metadata": {},
   "outputs": [],
   "source": [
    "# 4\n",
    "fakeBackend = FakeBrisbane()\n",
    "simulator = AerSimulator.from_backend(fakeBackend)\n",
    "\n",
    "# Create pass manager for transpilation\n",
    "pm = generate_preset_pass_manager(optimization_level=3, backend=fakeBackend)\n",
    "candidate_circuit = pm.run(loaded_circuit)\n",
    "#candidate_circuit.draw()"
   ]
  },
  {
   "cell_type": "code",
   "execution_count": null,
   "id": "75626658",
   "metadata": {},
   "outputs": [
    {
     "name": "stdout",
     "output_type": "stream",
     "text": [
      "Starting optimization...\n"
     ]
    },
    {
     "ename": "ValueError",
     "evalue": "Length of ('TWOQ_COST_seq0_layer0', 'TWOQ_COST_seq0_layer1', 'TWOQ_COST_seq0_layer2', 'TWOQ_COST_seq1_layer0', 'TWOQ_COST_seq1_layer1', 'TWOQ_COST_seq1_layer2', 'TWOQ_COST_seq2_layer0', 'TWOQ_COST_seq2_layer1', 'TWOQ_COST_seq2_layer2', 'TWOQ_COST_seq3_layer0', 'TWOQ_COST_seq3_layer1', 'TWOQ_COST_seq3_layer2', 'TWOQ_COST_seq4_layer0', 'TWOQ_COST_seq4_layer1', 'TWOQ_COST_seq4_layer2', 'TWOQ_COST_seq5_layer0', 'TWOQ_COST_seq5_layer1', 'TWOQ_COST_seq5_layer2', 'TWOQ_COST_seq6_layer0', 'TWOQ_COST_seq6_layer1', 'TWOQ_COST_seq6_layer2', 'TWOQ_COST_seq7_layer0', 'TWOQ_COST_seq7_layer1', 'TWOQ_COST_seq7_layer2', 'TWOQ_COST_seq8_layer0', 'TWOQ_COST_seq8_layer1', 'TWOQ_COST_seq8_layer2', 'TWOQ_COST_seq9_layer0', 'TWOQ_COST_seq9_layer1', 'TWOQ_COST_seq9_layer2', 'TWOQ_MIXER_seq0_layer0', 'TWOQ_MIXER_seq0_layer1', 'TWOQ_MIXER_seq0_layer2', 'TWOQ_MIXER_seq10_layer0', 'TWOQ_MIXER_seq10_layer1', 'TWOQ_MIXER_seq10_layer2', 'TWOQ_MIXER_seq11_layer0', 'TWOQ_MIXER_seq11_layer1', 'TWOQ_MIXER_seq11_layer2', 'TWOQ_MIXER_seq12_layer0', 'TWOQ_MIXER_seq12_layer1', 'TWOQ_MIXER_seq12_layer2', 'TWOQ_MIXER_seq13_layer0', 'TWOQ_MIXER_seq13_layer1', 'TWOQ_MIXER_seq13_layer2', 'TWOQ_MIXER_seq14_layer0', 'TWOQ_MIXER_seq14_layer1', 'TWOQ_MIXER_seq14_layer2', 'TWOQ_MIXER_seq15_layer0', 'TWOQ_MIXER_seq15_layer1', 'TWOQ_MIXER_seq15_layer2', 'TWOQ_MIXER_seq16_layer0', 'TWOQ_MIXER_seq16_layer1', 'TWOQ_MIXER_seq16_layer2', 'TWOQ_MIXER_seq17_layer0', 'TWOQ_MIXER_seq17_layer1', 'TWOQ_MIXER_seq17_layer2', 'TWOQ_MIXER_seq18_layer0', 'TWOQ_MIXER_seq18_layer1', 'TWOQ_MIXER_seq18_layer2', 'TWOQ_MIXER_seq19_layer0', 'TWOQ_MIXER_seq19_layer1', 'TWOQ_MIXER_seq19_layer2', 'TWOQ_MIXER_seq1_layer0', 'TWOQ_MIXER_seq1_layer1', 'TWOQ_MIXER_seq1_layer2', 'TWOQ_MIXER_seq20_layer0', 'TWOQ_MIXER_seq20_layer1', 'TWOQ_MIXER_seq20_layer2', 'TWOQ_MIXER_seq21_layer0', 'TWOQ_MIXER_seq21_layer1', 'TWOQ_MIXER_seq21_layer2', 'TWOQ_MIXER_seq22_layer0', 'TWOQ_MIXER_seq22_layer1', 'TWOQ_MIXER_seq22_layer2', 'TWOQ_MIXER_seq23_layer0', 'TWOQ_MIXER_seq23_layer1', 'TWOQ_MIXER_seq23_layer2', 'TWOQ_MIXER_seq24_layer0', 'TWOQ_MIXER_seq24_layer1', 'TWOQ_MIXER_seq24_layer2', 'TWOQ_MIXER_seq25_layer0', 'TWOQ_MIXER_seq25_layer1', 'TWOQ_MIXER_seq25_layer2', 'TWOQ_MIXER_seq26_layer0', 'TWOQ_MIXER_seq26_layer1', 'TWOQ_MIXER_seq26_layer2', 'TWOQ_MIXER_seq27_layer0', 'TWOQ_MIXER_seq27_layer1', 'TWOQ_MIXER_seq27_layer2', 'TWOQ_MIXER_seq28_layer0', 'TWOQ_MIXER_seq28_layer1', 'TWOQ_MIXER_seq28_layer2', 'TWOQ_MIXER_seq29_layer0', 'TWOQ_MIXER_seq29_layer1', 'TWOQ_MIXER_seq29_layer2', 'TWOQ_MIXER_seq2_layer0', 'TWOQ_MIXER_seq2_layer1', 'TWOQ_MIXER_seq2_layer2', 'TWOQ_MIXER_seq3_layer0', 'TWOQ_MIXER_seq3_layer1', 'TWOQ_MIXER_seq3_layer2', 'TWOQ_MIXER_seq4_layer0', 'TWOQ_MIXER_seq4_layer1', 'TWOQ_MIXER_seq4_layer2', 'TWOQ_MIXER_seq5_layer0', 'TWOQ_MIXER_seq5_layer1', 'TWOQ_MIXER_seq5_layer2', 'TWOQ_MIXER_seq6_layer0', 'TWOQ_MIXER_seq6_layer1', 'TWOQ_MIXER_seq6_layer2', 'TWOQ_MIXER_seq7_layer0', 'TWOQ_MIXER_seq7_layer1', 'TWOQ_MIXER_seq7_layer2', 'TWOQ_MIXER_seq8_layer0', 'TWOQ_MIXER_seq8_layer1', 'TWOQ_MIXER_seq8_layer2', 'TWOQ_MIXER_seq9_layer0', 'TWOQ_MIXER_seq9_layer1', 'TWOQ_MIXER_seq9_layer2') inconsistent with last dimension of [[3.14159265 1.57079633 3.14159265 1.57079633]]",
     "output_type": "error",
     "traceback": [
      "\u001b[0;31m---------------------------------------------------------------------------\u001b[0m",
      "\u001b[0;31mValueError\u001b[0m                                Traceback (most recent call last)",
      "Cell \u001b[0;32mIn[15], line 22\u001b[0m\n\u001b[1;32m     19\u001b[0m estimator\u001b[38;5;241m.\u001b[39moptions\u001b[38;5;241m.\u001b[39mdefault_shots \u001b[38;5;241m=\u001b[39m \u001b[38;5;241m1000\u001b[39m\n\u001b[1;32m     21\u001b[0m \u001b[38;5;28mprint\u001b[39m(\u001b[38;5;124m\"\u001b[39m\u001b[38;5;124mStarting optimization...\u001b[39m\u001b[38;5;124m\"\u001b[39m)\n\u001b[0;32m---> 22\u001b[0m result \u001b[38;5;241m=\u001b[39m \u001b[43mminimize\u001b[49m\u001b[43m(\u001b[49m\n\u001b[1;32m     23\u001b[0m \u001b[43m    \u001b[49m\u001b[43mcost_func_estimator\u001b[49m\u001b[43m,\u001b[49m\u001b[43m \u001b[49m\u001b[38;5;66;43;03m#need to inlcude the paramters from circuit generation not just the circuit so that it can know what the cost estimator is\u001b[39;49;00m\n\u001b[1;32m     24\u001b[0m \u001b[43m    \u001b[49m\u001b[43minit_params\u001b[49m\u001b[43m,\u001b[49m\n\u001b[1;32m     25\u001b[0m \u001b[43m    \u001b[49m\u001b[43margs\u001b[49m\u001b[38;5;241;43m=\u001b[39;49m\u001b[43m(\u001b[49m\u001b[43mcandidate_circuit\u001b[49m\u001b[43m,\u001b[49m\u001b[43m \u001b[49m\u001b[43mestimator\u001b[49m\u001b[43m)\u001b[49m\u001b[43m,\u001b[49m\u001b[43m  \u001b[49m\u001b[38;5;66;43;03m# Pass transpiled circuit and estimator\u001b[39;49;00m\n\u001b[1;32m     26\u001b[0m \u001b[43m    \u001b[49m\u001b[43mmethod\u001b[49m\u001b[38;5;241;43m=\u001b[39;49m\u001b[38;5;124;43m\"\u001b[39;49m\u001b[38;5;124;43mCOBYLA\u001b[39;49m\u001b[38;5;124;43m\"\u001b[39;49m\u001b[43m,\u001b[49m\n\u001b[1;32m     27\u001b[0m \u001b[43m    \u001b[49m\u001b[43mtol\u001b[49m\u001b[38;5;241;43m=\u001b[39;49m\u001b[38;5;241;43m1e-2\u001b[39;49m\u001b[43m,\u001b[49m\u001b[43m  \u001b[49m\u001b[38;5;66;43;03m# Tolerance for termination\u001b[39;49;00m\n\u001b[1;32m     28\u001b[0m \u001b[43m    \u001b[49m\u001b[43moptions\u001b[49m\u001b[38;5;241;43m=\u001b[39;49m\u001b[43m{\u001b[49m\u001b[38;5;124;43m\"\u001b[39;49m\u001b[38;5;124;43mmaxiter\u001b[39;49m\u001b[38;5;124;43m\"\u001b[39;49m\u001b[43m:\u001b[49m\u001b[43m \u001b[49m\u001b[38;5;241;43m100\u001b[39;49m\u001b[43m}\u001b[49m\u001b[43m,\u001b[49m\u001b[43m  \u001b[49m\u001b[38;5;66;43;03m# Set max iterations to prevent running forever\u001b[39;49;00m\n\u001b[1;32m     29\u001b[0m \u001b[43m)\u001b[49m\n\u001b[1;32m     30\u001b[0m \u001b[38;5;28mprint\u001b[39m(\u001b[38;5;124m\"\u001b[39m\u001b[38;5;124mOptimization Result:\u001b[39m\u001b[38;5;124m\"\u001b[39m)\n\u001b[1;32m     31\u001b[0m \u001b[38;5;28mprint\u001b[39m(result)\n",
      "File \u001b[0;32m~/Github/QAOAstudygit/IBMQvenv2/lib/python3.10/site-packages/scipy/optimize/_minimize.py:719\u001b[0m, in \u001b[0;36mminimize\u001b[0;34m(fun, x0, args, method, jac, hess, hessp, bounds, constraints, tol, callback, options)\u001b[0m\n\u001b[1;32m    716\u001b[0m     res \u001b[38;5;241m=\u001b[39m _minimize_tnc(fun, x0, args, jac, bounds, callback\u001b[38;5;241m=\u001b[39mcallback,\n\u001b[1;32m    717\u001b[0m                         \u001b[38;5;241m*\u001b[39m\u001b[38;5;241m*\u001b[39moptions)\n\u001b[1;32m    718\u001b[0m \u001b[38;5;28;01melif\u001b[39;00m meth \u001b[38;5;241m==\u001b[39m \u001b[38;5;124m'\u001b[39m\u001b[38;5;124mcobyla\u001b[39m\u001b[38;5;124m'\u001b[39m:\n\u001b[0;32m--> 719\u001b[0m     res \u001b[38;5;241m=\u001b[39m \u001b[43m_minimize_cobyla\u001b[49m\u001b[43m(\u001b[49m\u001b[43mfun\u001b[49m\u001b[43m,\u001b[49m\u001b[43m \u001b[49m\u001b[43mx0\u001b[49m\u001b[43m,\u001b[49m\u001b[43m \u001b[49m\u001b[43margs\u001b[49m\u001b[43m,\u001b[49m\u001b[43m \u001b[49m\u001b[43mconstraints\u001b[49m\u001b[43m,\u001b[49m\u001b[43m \u001b[49m\u001b[43mcallback\u001b[49m\u001b[38;5;241;43m=\u001b[39;49m\u001b[43mcallback\u001b[49m\u001b[43m,\u001b[49m\n\u001b[1;32m    720\u001b[0m \u001b[43m                           \u001b[49m\u001b[43mbounds\u001b[49m\u001b[38;5;241;43m=\u001b[39;49m\u001b[43mbounds\u001b[49m\u001b[43m,\u001b[49m\u001b[43m \u001b[49m\u001b[38;5;241;43m*\u001b[39;49m\u001b[38;5;241;43m*\u001b[39;49m\u001b[43moptions\u001b[49m\u001b[43m)\u001b[49m\n\u001b[1;32m    721\u001b[0m \u001b[38;5;28;01melif\u001b[39;00m meth \u001b[38;5;241m==\u001b[39m \u001b[38;5;124m'\u001b[39m\u001b[38;5;124mslsqp\u001b[39m\u001b[38;5;124m'\u001b[39m:\n\u001b[1;32m    722\u001b[0m     res \u001b[38;5;241m=\u001b[39m _minimize_slsqp(fun, x0, args, jac, bounds,\n\u001b[1;32m    723\u001b[0m                           constraints, callback\u001b[38;5;241m=\u001b[39mcallback, \u001b[38;5;241m*\u001b[39m\u001b[38;5;241m*\u001b[39moptions)\n",
      "File \u001b[0;32m~/Github/QAOAstudygit/IBMQvenv2/lib/python3.10/site-packages/scipy/optimize/_cobyla_py.py:35\u001b[0m, in \u001b[0;36msynchronized.<locals>.wrapper\u001b[0;34m(*args, **kwargs)\u001b[0m\n\u001b[1;32m     32\u001b[0m \u001b[38;5;129m@functools\u001b[39m\u001b[38;5;241m.\u001b[39mwraps(func)\n\u001b[1;32m     33\u001b[0m \u001b[38;5;28;01mdef\u001b[39;00m\u001b[38;5;250m \u001b[39m\u001b[38;5;21mwrapper\u001b[39m(\u001b[38;5;241m*\u001b[39margs, \u001b[38;5;241m*\u001b[39m\u001b[38;5;241m*\u001b[39mkwargs):\n\u001b[1;32m     34\u001b[0m     \u001b[38;5;28;01mwith\u001b[39;00m _module_lock:\n\u001b[0;32m---> 35\u001b[0m         \u001b[38;5;28;01mreturn\u001b[39;00m \u001b[43mfunc\u001b[49m\u001b[43m(\u001b[49m\u001b[38;5;241;43m*\u001b[39;49m\u001b[43margs\u001b[49m\u001b[43m,\u001b[49m\u001b[43m \u001b[49m\u001b[38;5;241;43m*\u001b[39;49m\u001b[38;5;241;43m*\u001b[39;49m\u001b[43mkwargs\u001b[49m\u001b[43m)\u001b[49m\n",
      "File \u001b[0;32m~/Github/QAOAstudygit/IBMQvenv2/lib/python3.10/site-packages/scipy/optimize/_cobyla_py.py:278\u001b[0m, in \u001b[0;36m_minimize_cobyla\u001b[0;34m(fun, x0, args, constraints, rhobeg, tol, maxiter, disp, catol, callback, bounds, **unknown_options)\u001b[0m\n\u001b[1;32m    275\u001b[0m \u001b[38;5;28;01mdef\u001b[39;00m\u001b[38;5;250m \u001b[39m\u001b[38;5;21m_jac\u001b[39m(x, \u001b[38;5;241m*\u001b[39margs):\n\u001b[1;32m    276\u001b[0m     \u001b[38;5;28;01mreturn\u001b[39;00m \u001b[38;5;28;01mNone\u001b[39;00m\n\u001b[0;32m--> 278\u001b[0m sf \u001b[38;5;241m=\u001b[39m \u001b[43m_prepare_scalar_function\u001b[49m\u001b[43m(\u001b[49m\u001b[43mfun\u001b[49m\u001b[43m,\u001b[49m\u001b[43m \u001b[49m\u001b[43mx0\u001b[49m\u001b[43m,\u001b[49m\u001b[43m \u001b[49m\u001b[43margs\u001b[49m\u001b[38;5;241;43m=\u001b[39;49m\u001b[43margs\u001b[49m\u001b[43m,\u001b[49m\u001b[43m \u001b[49m\u001b[43mjac\u001b[49m\u001b[38;5;241;43m=\u001b[39;49m\u001b[43m_jac\u001b[49m\u001b[43m)\u001b[49m\n\u001b[1;32m    280\u001b[0m \u001b[38;5;28;01mdef\u001b[39;00m\u001b[38;5;250m \u001b[39m\u001b[38;5;21mcalcfc\u001b[39m(x, con):\n\u001b[1;32m    281\u001b[0m     f \u001b[38;5;241m=\u001b[39m sf\u001b[38;5;241m.\u001b[39mfun(x)\n",
      "File \u001b[0;32m~/Github/QAOAstudygit/IBMQvenv2/lib/python3.10/site-packages/scipy/optimize/_optimize.py:288\u001b[0m, in \u001b[0;36m_prepare_scalar_function\u001b[0;34m(fun, x0, jac, args, bounds, epsilon, finite_diff_rel_step, hess)\u001b[0m\n\u001b[1;32m    284\u001b[0m     bounds \u001b[38;5;241m=\u001b[39m (\u001b[38;5;241m-\u001b[39mnp\u001b[38;5;241m.\u001b[39minf, np\u001b[38;5;241m.\u001b[39minf)\n\u001b[1;32m    286\u001b[0m \u001b[38;5;66;03m# ScalarFunction caches. Reuse of fun(x) during grad\u001b[39;00m\n\u001b[1;32m    287\u001b[0m \u001b[38;5;66;03m# calculation reduces overall function evaluations.\u001b[39;00m\n\u001b[0;32m--> 288\u001b[0m sf \u001b[38;5;241m=\u001b[39m \u001b[43mScalarFunction\u001b[49m\u001b[43m(\u001b[49m\u001b[43mfun\u001b[49m\u001b[43m,\u001b[49m\u001b[43m \u001b[49m\u001b[43mx0\u001b[49m\u001b[43m,\u001b[49m\u001b[43m \u001b[49m\u001b[43margs\u001b[49m\u001b[43m,\u001b[49m\u001b[43m \u001b[49m\u001b[43mgrad\u001b[49m\u001b[43m,\u001b[49m\u001b[43m \u001b[49m\u001b[43mhess\u001b[49m\u001b[43m,\u001b[49m\n\u001b[1;32m    289\u001b[0m \u001b[43m                    \u001b[49m\u001b[43mfinite_diff_rel_step\u001b[49m\u001b[43m,\u001b[49m\u001b[43m \u001b[49m\u001b[43mbounds\u001b[49m\u001b[43m,\u001b[49m\u001b[43m \u001b[49m\u001b[43mepsilon\u001b[49m\u001b[38;5;241;43m=\u001b[39;49m\u001b[43mepsilon\u001b[49m\u001b[43m)\u001b[49m\n\u001b[1;32m    291\u001b[0m \u001b[38;5;28;01mreturn\u001b[39;00m sf\n",
      "File \u001b[0;32m~/Github/QAOAstudygit/IBMQvenv2/lib/python3.10/site-packages/scipy/optimize/_differentiable_functions.py:166\u001b[0m, in \u001b[0;36mScalarFunction.__init__\u001b[0;34m(self, fun, x0, args, grad, hess, finite_diff_rel_step, finite_diff_bounds, epsilon)\u001b[0m\n\u001b[1;32m    163\u001b[0m     \u001b[38;5;28mself\u001b[39m\u001b[38;5;241m.\u001b[39mf \u001b[38;5;241m=\u001b[39m fun_wrapped(\u001b[38;5;28mself\u001b[39m\u001b[38;5;241m.\u001b[39mx)\n\u001b[1;32m    165\u001b[0m \u001b[38;5;28mself\u001b[39m\u001b[38;5;241m.\u001b[39m_update_fun_impl \u001b[38;5;241m=\u001b[39m update_fun\n\u001b[0;32m--> 166\u001b[0m \u001b[38;5;28;43mself\u001b[39;49m\u001b[38;5;241;43m.\u001b[39;49m\u001b[43m_update_fun\u001b[49m\u001b[43m(\u001b[49m\u001b[43m)\u001b[49m\n\u001b[1;32m    168\u001b[0m \u001b[38;5;66;03m# Gradient evaluation\u001b[39;00m\n\u001b[1;32m    169\u001b[0m \u001b[38;5;28;01mif\u001b[39;00m \u001b[38;5;28mcallable\u001b[39m(grad):\n",
      "File \u001b[0;32m~/Github/QAOAstudygit/IBMQvenv2/lib/python3.10/site-packages/scipy/optimize/_differentiable_functions.py:262\u001b[0m, in \u001b[0;36mScalarFunction._update_fun\u001b[0;34m(self)\u001b[0m\n\u001b[1;32m    260\u001b[0m \u001b[38;5;28;01mdef\u001b[39;00m\u001b[38;5;250m \u001b[39m\u001b[38;5;21m_update_fun\u001b[39m(\u001b[38;5;28mself\u001b[39m):\n\u001b[1;32m    261\u001b[0m     \u001b[38;5;28;01mif\u001b[39;00m \u001b[38;5;129;01mnot\u001b[39;00m \u001b[38;5;28mself\u001b[39m\u001b[38;5;241m.\u001b[39mf_updated:\n\u001b[0;32m--> 262\u001b[0m         \u001b[38;5;28;43mself\u001b[39;49m\u001b[38;5;241;43m.\u001b[39;49m\u001b[43m_update_fun_impl\u001b[49m\u001b[43m(\u001b[49m\u001b[43m)\u001b[49m\n\u001b[1;32m    263\u001b[0m         \u001b[38;5;28mself\u001b[39m\u001b[38;5;241m.\u001b[39mf_updated \u001b[38;5;241m=\u001b[39m \u001b[38;5;28;01mTrue\u001b[39;00m\n",
      "File \u001b[0;32m~/Github/QAOAstudygit/IBMQvenv2/lib/python3.10/site-packages/scipy/optimize/_differentiable_functions.py:163\u001b[0m, in \u001b[0;36mScalarFunction.__init__.<locals>.update_fun\u001b[0;34m()\u001b[0m\n\u001b[1;32m    162\u001b[0m \u001b[38;5;28;01mdef\u001b[39;00m\u001b[38;5;250m \u001b[39m\u001b[38;5;21mupdate_fun\u001b[39m():\n\u001b[0;32m--> 163\u001b[0m     \u001b[38;5;28mself\u001b[39m\u001b[38;5;241m.\u001b[39mf \u001b[38;5;241m=\u001b[39m \u001b[43mfun_wrapped\u001b[49m\u001b[43m(\u001b[49m\u001b[38;5;28;43mself\u001b[39;49m\u001b[38;5;241;43m.\u001b[39;49m\u001b[43mx\u001b[49m\u001b[43m)\u001b[49m\n",
      "File \u001b[0;32m~/Github/QAOAstudygit/IBMQvenv2/lib/python3.10/site-packages/scipy/optimize/_differentiable_functions.py:145\u001b[0m, in \u001b[0;36mScalarFunction.__init__.<locals>.fun_wrapped\u001b[0;34m(x)\u001b[0m\n\u001b[1;32m    141\u001b[0m \u001b[38;5;28mself\u001b[39m\u001b[38;5;241m.\u001b[39mnfev \u001b[38;5;241m+\u001b[39m\u001b[38;5;241m=\u001b[39m \u001b[38;5;241m1\u001b[39m\n\u001b[1;32m    142\u001b[0m \u001b[38;5;66;03m# Send a copy because the user may overwrite it.\u001b[39;00m\n\u001b[1;32m    143\u001b[0m \u001b[38;5;66;03m# Overwriting results in undefined behaviour because\u001b[39;00m\n\u001b[1;32m    144\u001b[0m \u001b[38;5;66;03m# fun(self.x) will change self.x, with the two no longer linked.\u001b[39;00m\n\u001b[0;32m--> 145\u001b[0m fx \u001b[38;5;241m=\u001b[39m \u001b[43mfun\u001b[49m\u001b[43m(\u001b[49m\u001b[43mnp\u001b[49m\u001b[38;5;241;43m.\u001b[39;49m\u001b[43mcopy\u001b[49m\u001b[43m(\u001b[49m\u001b[43mx\u001b[49m\u001b[43m)\u001b[49m\u001b[43m,\u001b[49m\u001b[43m \u001b[49m\u001b[38;5;241;43m*\u001b[39;49m\u001b[43margs\u001b[49m\u001b[43m)\u001b[49m\n\u001b[1;32m    146\u001b[0m \u001b[38;5;66;03m# Make sure the function returns a true scalar\u001b[39;00m\n\u001b[1;32m    147\u001b[0m \u001b[38;5;28;01mif\u001b[39;00m \u001b[38;5;129;01mnot\u001b[39;00m np\u001b[38;5;241m.\u001b[39misscalar(fx):\n",
      "Cell \u001b[0;32mIn[11], line 13\u001b[0m, in \u001b[0;36mcost_func_estimator\u001b[0;34m(params, ansatz, estimator)\u001b[0m\n\u001b[1;32m      8\u001b[0m isa_observable \u001b[38;5;241m=\u001b[39m cost_hamiltonian\u001b[38;5;241m.\u001b[39mapply_layout(\n\u001b[1;32m      9\u001b[0m     ansatz\u001b[38;5;241m.\u001b[39mlayout\n\u001b[1;32m     10\u001b[0m )  \u001b[38;5;66;03m# Apply layout based on *transpiled* ansatz\u001b[39;00m\n\u001b[1;32m     12\u001b[0m pub \u001b[38;5;241m=\u001b[39m (ansatz, isa_observable, [params])  \u001b[38;5;66;03m# Pass params in a list for V2 PUB\u001b[39;00m\n\u001b[0;32m---> 13\u001b[0m job \u001b[38;5;241m=\u001b[39m \u001b[43mestimator\u001b[49m\u001b[38;5;241;43m.\u001b[39;49m\u001b[43mrun\u001b[49m\u001b[43m(\u001b[49m\u001b[43mpubs\u001b[49m\u001b[38;5;241;43m=\u001b[39;49m\u001b[43m[\u001b[49m\u001b[43mpub\u001b[49m\u001b[43m]\u001b[49m\u001b[43m)\u001b[49m  \u001b[38;5;66;03m# Pass pubs as keyword arg\u001b[39;00m\n\u001b[1;32m     15\u001b[0m \u001b[38;5;66;03m# Handle potential errors during job execution\u001b[39;00m\n\u001b[1;32m     16\u001b[0m \u001b[38;5;28;01mtry\u001b[39;00m:\n",
      "File \u001b[0;32m~/Github/QAOAstudygit/IBMQvenv2/lib/python3.10/site-packages/qiskit_ibm_runtime/estimator.py:147\u001b[0m, in \u001b[0;36mEstimatorV2.run\u001b[0;34m(self, pubs, precision)\u001b[0m\n\u001b[1;32m    145\u001b[0m     \u001b[38;5;28;01mif\u001b[39;00m precision \u001b[38;5;241m<\u001b[39m\u001b[38;5;241m=\u001b[39m \u001b[38;5;241m0\u001b[39m:\n\u001b[1;32m    146\u001b[0m         \u001b[38;5;28;01mraise\u001b[39;00m \u001b[38;5;167;01mValueError\u001b[39;00m(\u001b[38;5;124m\"\u001b[39m\u001b[38;5;124mThe precision value must be strictly greater than 0.\u001b[39m\u001b[38;5;124m\"\u001b[39m)\n\u001b[0;32m--> 147\u001b[0m coerced_pubs \u001b[38;5;241m=\u001b[39m [EstimatorPub\u001b[38;5;241m.\u001b[39mcoerce(pub, precision) \u001b[38;5;28;01mfor\u001b[39;00m pub \u001b[38;5;129;01min\u001b[39;00m pubs]\n\u001b[1;32m    148\u001b[0m validate_estimator_pubs(coerced_pubs)\n\u001b[1;32m    149\u001b[0m \u001b[38;5;28;01mreturn\u001b[39;00m \u001b[38;5;28mself\u001b[39m\u001b[38;5;241m.\u001b[39m_run(coerced_pubs)\n",
      "File \u001b[0;32m~/Github/QAOAstudygit/IBMQvenv2/lib/python3.10/site-packages/qiskit_ibm_runtime/estimator.py:147\u001b[0m, in \u001b[0;36m<listcomp>\u001b[0;34m(.0)\u001b[0m\n\u001b[1;32m    145\u001b[0m     \u001b[38;5;28;01mif\u001b[39;00m precision \u001b[38;5;241m<\u001b[39m\u001b[38;5;241m=\u001b[39m \u001b[38;5;241m0\u001b[39m:\n\u001b[1;32m    146\u001b[0m         \u001b[38;5;28;01mraise\u001b[39;00m \u001b[38;5;167;01mValueError\u001b[39;00m(\u001b[38;5;124m\"\u001b[39m\u001b[38;5;124mThe precision value must be strictly greater than 0.\u001b[39m\u001b[38;5;124m\"\u001b[39m)\n\u001b[0;32m--> 147\u001b[0m coerced_pubs \u001b[38;5;241m=\u001b[39m [\u001b[43mEstimatorPub\u001b[49m\u001b[38;5;241;43m.\u001b[39;49m\u001b[43mcoerce\u001b[49m\u001b[43m(\u001b[49m\u001b[43mpub\u001b[49m\u001b[43m,\u001b[49m\u001b[43m \u001b[49m\u001b[43mprecision\u001b[49m\u001b[43m)\u001b[49m \u001b[38;5;28;01mfor\u001b[39;00m pub \u001b[38;5;129;01min\u001b[39;00m pubs]\n\u001b[1;32m    148\u001b[0m validate_estimator_pubs(coerced_pubs)\n\u001b[1;32m    149\u001b[0m \u001b[38;5;28;01mreturn\u001b[39;00m \u001b[38;5;28mself\u001b[39m\u001b[38;5;241m.\u001b[39m_run(coerced_pubs)\n",
      "File \u001b[0;32m~/Github/QAOAstudygit/IBMQvenv2/lib/python3.10/site-packages/qiskit/primitives/containers/estimator_pub.py:155\u001b[0m, in \u001b[0;36mEstimatorPub.coerce\u001b[0;34m(cls, pub, precision)\u001b[0m\n\u001b[1;32m    153\u001b[0m     \u001b[38;5;28;01mif\u001b[39;00m \u001b[38;5;129;01mnot\u001b[39;00m \u001b[38;5;28misinstance\u001b[39m(values, (BindingsArray, Mapping)):\n\u001b[1;32m    154\u001b[0m         values \u001b[38;5;241m=\u001b[39m {\u001b[38;5;28mtuple\u001b[39m(circuit\u001b[38;5;241m.\u001b[39mparameters): values}\n\u001b[0;32m--> 155\u001b[0m     parameter_values \u001b[38;5;241m=\u001b[39m \u001b[43mBindingsArray\u001b[49m\u001b[38;5;241;43m.\u001b[39;49m\u001b[43mcoerce\u001b[49m\u001b[43m(\u001b[49m\u001b[43mvalues\u001b[49m\u001b[43m)\u001b[49m\n\u001b[1;32m    156\u001b[0m \u001b[38;5;28;01melse\u001b[39;00m:\n\u001b[1;32m    157\u001b[0m     parameter_values \u001b[38;5;241m=\u001b[39m \u001b[38;5;28;01mNone\u001b[39;00m\n",
      "File \u001b[0;32m~/Github/QAOAstudygit/IBMQvenv2/lib/python3.10/site-packages/qiskit/primitives/containers/bindings_array.py:302\u001b[0m, in \u001b[0;36mBindingsArray.coerce\u001b[0;34m(cls, bindings_array)\u001b[0m\n\u001b[1;32m    300\u001b[0m     bindings_array \u001b[38;5;241m=\u001b[39m \u001b[38;5;28mcls\u001b[39m()\n\u001b[1;32m    301\u001b[0m \u001b[38;5;28;01melif\u001b[39;00m \u001b[38;5;28misinstance\u001b[39m(bindings_array, _Mapping):\n\u001b[0;32m--> 302\u001b[0m     bindings_array \u001b[38;5;241m=\u001b[39m \u001b[38;5;28;43mcls\u001b[39;49m\u001b[43m(\u001b[49m\u001b[43mdata\u001b[49m\u001b[38;5;241;43m=\u001b[39;49m\u001b[43mbindings_array\u001b[49m\u001b[43m)\u001b[49m\n\u001b[1;32m    303\u001b[0m \u001b[38;5;28;01melif\u001b[39;00m \u001b[38;5;28misinstance\u001b[39m(bindings_array, BindingsArray):\n\u001b[1;32m    304\u001b[0m     \u001b[38;5;28;01mreturn\u001b[39;00m bindings_array\n",
      "File \u001b[0;32m~/Github/QAOAstudygit/IBMQvenv2/lib/python3.10/site-packages/qiskit/primitives/containers/bindings_array.py:132\u001b[0m, in \u001b[0;36mBindingsArray.__init__\u001b[0;34m(self, data, shape)\u001b[0m\n\u001b[1;32m    129\u001b[0m \u001b[38;5;28mself\u001b[39m\u001b[38;5;241m.\u001b[39m_shape \u001b[38;5;241m=\u001b[39m _infer_shape(\u001b[38;5;28mself\u001b[39m\u001b[38;5;241m.\u001b[39m_data) \u001b[38;5;28;01mif\u001b[39;00m shape \u001b[38;5;129;01mis\u001b[39;00m \u001b[38;5;28;01mNone\u001b[39;00m \u001b[38;5;28;01melse\u001b[39;00m shape_tuple(shape)\n\u001b[1;32m    130\u001b[0m \u001b[38;5;28mself\u001b[39m\u001b[38;5;241m.\u001b[39m_num_parameters \u001b[38;5;241m=\u001b[39m \u001b[38;5;28;01mNone\u001b[39;00m\n\u001b[0;32m--> 132\u001b[0m \u001b[38;5;28;43mself\u001b[39;49m\u001b[38;5;241;43m.\u001b[39;49m\u001b[43mvalidate\u001b[49m\u001b[43m(\u001b[49m\u001b[43m)\u001b[49m\n",
      "File \u001b[0;32m~/Github/QAOAstudygit/IBMQvenv2/lib/python3.10/site-packages/qiskit/primitives/containers/bindings_array.py:314\u001b[0m, in \u001b[0;36mBindingsArray.validate\u001b[0;34m(self)\u001b[0m\n\u001b[1;32m    312\u001b[0m val \u001b[38;5;241m=\u001b[39m \u001b[38;5;28mself\u001b[39m\u001b[38;5;241m.\u001b[39m_data[parameters] \u001b[38;5;241m=\u001b[39m _standardize_shape(val, \u001b[38;5;28mself\u001b[39m\u001b[38;5;241m.\u001b[39m_shape)\n\u001b[1;32m    313\u001b[0m \u001b[38;5;28;01mif\u001b[39;00m \u001b[38;5;28mlen\u001b[39m(parameters) \u001b[38;5;241m!=\u001b[39m val\u001b[38;5;241m.\u001b[39mshape[\u001b[38;5;241m-\u001b[39m\u001b[38;5;241m1\u001b[39m]:\n\u001b[0;32m--> 314\u001b[0m     \u001b[38;5;28;01mraise\u001b[39;00m \u001b[38;5;167;01mValueError\u001b[39;00m(\n\u001b[1;32m    315\u001b[0m         \u001b[38;5;124mf\u001b[39m\u001b[38;5;124m\"\u001b[39m\u001b[38;5;124mLength of \u001b[39m\u001b[38;5;132;01m{\u001b[39;00mparameters\u001b[38;5;132;01m}\u001b[39;00m\u001b[38;5;124m inconsistent with last dimension of \u001b[39m\u001b[38;5;132;01m{\u001b[39;00mval\u001b[38;5;132;01m}\u001b[39;00m\u001b[38;5;124m\"\u001b[39m\n\u001b[1;32m    316\u001b[0m     )\n",
      "\u001b[0;31mValueError\u001b[0m: Length of ('TWOQ_COST_seq0_layer0', 'TWOQ_COST_seq0_layer1', 'TWOQ_COST_seq0_layer2', 'TWOQ_COST_seq1_layer0', 'TWOQ_COST_seq1_layer1', 'TWOQ_COST_seq1_layer2', 'TWOQ_COST_seq2_layer0', 'TWOQ_COST_seq2_layer1', 'TWOQ_COST_seq2_layer2', 'TWOQ_COST_seq3_layer0', 'TWOQ_COST_seq3_layer1', 'TWOQ_COST_seq3_layer2', 'TWOQ_COST_seq4_layer0', 'TWOQ_COST_seq4_layer1', 'TWOQ_COST_seq4_layer2', 'TWOQ_COST_seq5_layer0', 'TWOQ_COST_seq5_layer1', 'TWOQ_COST_seq5_layer2', 'TWOQ_COST_seq6_layer0', 'TWOQ_COST_seq6_layer1', 'TWOQ_COST_seq6_layer2', 'TWOQ_COST_seq7_layer0', 'TWOQ_COST_seq7_layer1', 'TWOQ_COST_seq7_layer2', 'TWOQ_COST_seq8_layer0', 'TWOQ_COST_seq8_layer1', 'TWOQ_COST_seq8_layer2', 'TWOQ_COST_seq9_layer0', 'TWOQ_COST_seq9_layer1', 'TWOQ_COST_seq9_layer2', 'TWOQ_MIXER_seq0_layer0', 'TWOQ_MIXER_seq0_layer1', 'TWOQ_MIXER_seq0_layer2', 'TWOQ_MIXER_seq10_layer0', 'TWOQ_MIXER_seq10_layer1', 'TWOQ_MIXER_seq10_layer2', 'TWOQ_MIXER_seq11_layer0', 'TWOQ_MIXER_seq11_layer1', 'TWOQ_MIXER_seq11_layer2', 'TWOQ_MIXER_seq12_layer0', 'TWOQ_MIXER_seq12_layer1', 'TWOQ_MIXER_seq12_layer2', 'TWOQ_MIXER_seq13_layer0', 'TWOQ_MIXER_seq13_layer1', 'TWOQ_MIXER_seq13_layer2', 'TWOQ_MIXER_seq14_layer0', 'TWOQ_MIXER_seq14_layer1', 'TWOQ_MIXER_seq14_layer2', 'TWOQ_MIXER_seq15_layer0', 'TWOQ_MIXER_seq15_layer1', 'TWOQ_MIXER_seq15_layer2', 'TWOQ_MIXER_seq16_layer0', 'TWOQ_MIXER_seq16_layer1', 'TWOQ_MIXER_seq16_layer2', 'TWOQ_MIXER_seq17_layer0', 'TWOQ_MIXER_seq17_layer1', 'TWOQ_MIXER_seq17_layer2', 'TWOQ_MIXER_seq18_layer0', 'TWOQ_MIXER_seq18_layer1', 'TWOQ_MIXER_seq18_layer2', 'TWOQ_MIXER_seq19_layer0', 'TWOQ_MIXER_seq19_layer1', 'TWOQ_MIXER_seq19_layer2', 'TWOQ_MIXER_seq1_layer0', 'TWOQ_MIXER_seq1_layer1', 'TWOQ_MIXER_seq1_layer2', 'TWOQ_MIXER_seq20_layer0', 'TWOQ_MIXER_seq20_layer1', 'TWOQ_MIXER_seq20_layer2', 'TWOQ_MIXER_seq21_layer0', 'TWOQ_MIXER_seq21_layer1', 'TWOQ_MIXER_seq21_layer2', 'TWOQ_MIXER_seq22_layer0', 'TWOQ_MIXER_seq22_layer1', 'TWOQ_MIXER_seq22_layer2', 'TWOQ_MIXER_seq23_layer0', 'TWOQ_MIXER_seq23_layer1', 'TWOQ_MIXER_seq23_layer2', 'TWOQ_MIXER_seq24_layer0', 'TWOQ_MIXER_seq24_layer1', 'TWOQ_MIXER_seq24_layer2', 'TWOQ_MIXER_seq25_layer0', 'TWOQ_MIXER_seq25_layer1', 'TWOQ_MIXER_seq25_layer2', 'TWOQ_MIXER_seq26_layer0', 'TWOQ_MIXER_seq26_layer1', 'TWOQ_MIXER_seq26_layer2', 'TWOQ_MIXER_seq27_layer0', 'TWOQ_MIXER_seq27_layer1', 'TWOQ_MIXER_seq27_layer2', 'TWOQ_MIXER_seq28_layer0', 'TWOQ_MIXER_seq28_layer1', 'TWOQ_MIXER_seq28_layer2', 'TWOQ_MIXER_seq29_layer0', 'TWOQ_MIXER_seq29_layer1', 'TWOQ_MIXER_seq29_layer2', 'TWOQ_MIXER_seq2_layer0', 'TWOQ_MIXER_seq2_layer1', 'TWOQ_MIXER_seq2_layer2', 'TWOQ_MIXER_seq3_layer0', 'TWOQ_MIXER_seq3_layer1', 'TWOQ_MIXER_seq3_layer2', 'TWOQ_MIXER_seq4_layer0', 'TWOQ_MIXER_seq4_layer1', 'TWOQ_MIXER_seq4_layer2', 'TWOQ_MIXER_seq5_layer0', 'TWOQ_MIXER_seq5_layer1', 'TWOQ_MIXER_seq5_layer2', 'TWOQ_MIXER_seq6_layer0', 'TWOQ_MIXER_seq6_layer1', 'TWOQ_MIXER_seq6_layer2', 'TWOQ_MIXER_seq7_layer0', 'TWOQ_MIXER_seq7_layer1', 'TWOQ_MIXER_seq7_layer2', 'TWOQ_MIXER_seq8_layer0', 'TWOQ_MIXER_seq8_layer1', 'TWOQ_MIXER_seq8_layer2', 'TWOQ_MIXER_seq9_layer0', 'TWOQ_MIXER_seq9_layer1', 'TWOQ_MIXER_seq9_layer2') inconsistent with last dimension of [[3.14159265 1.57079633 3.14159265 1.57079633]]"
     ]
    }
   ],
   "source": [
    "init_params = #need to work out how to get the initial parameters from the openQAOA\n",
    "\n",
    "\n",
    "\n",
    "\n",
    "\n",
    "# 6 finding the optimal parameters for the QAOA circuit using a 'estimator'\n",
    "objective_func_vals = []  # Global variable\n",
    "\n",
    "estimator = Estimator(mode=simulator)\n",
    "estimator.options.default_shots = 1000\n",
    "\n",
    "print(\"Starting optimization...\")\n",
    "result = minimize(\n",
    "    cost_func_estimator, #need to inlcude the paramters from circuit generation not just the circuit so that it can know what the cost estimator is\n",
    "    init_params,\n",
    "    args=(candidate_circuit, estimator),  # Pass transpiled circuit and estimator\n",
    "    method=\"COBYLA\",\n",
    "    tol=1e-2,  # Tolerance for termination\n",
    "    options={\"maxiter\": 100},  # Set max iterations to prevent running forever\n",
    ")\n",
    "print(\"Optimization Result:\")\n",
    "print(result)\n",
    "\n",
    "# You can plot the objective function values if desired\n",
    "plt.plot(objective_func_vals)\n",
    "plt.xlabel(\"Iteration\")\n",
    "plt.ylabel(\"Cost\")\n",
    "plt.show()"
   ]
  }
 ],
 "metadata": {
  "kernelspec": {
   "display_name": "IBMQvenv2",
   "language": "python",
   "name": "python3"
  },
  "language_info": {
   "codemirror_mode": {
    "name": "ipython",
    "version": 3
   },
   "file_extension": ".py",
   "mimetype": "text/x-python",
   "name": "python",
   "nbconvert_exporter": "python",
   "pygments_lexer": "ipython3",
   "version": "3.10.11"
  }
 },
 "nbformat": 4,
 "nbformat_minor": 5
}
