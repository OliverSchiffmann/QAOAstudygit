{
 "cells": [
  {
   "cell_type": "code",
   "execution_count": 2,
   "id": "36942864",
   "metadata": {},
   "outputs": [
    {
     "name": "stdout",
     "output_type": "stream",
     "text": [
      "Found 100 result files to merge.\n",
      "Successfully merged 100 results into isingBatches/TSP_QAOA_IBM_batch_results_MERGED.json\n"
     ]
    }
   ],
   "source": [
    "import json\n",
    "import os\n",
    "import glob\n",
    "\n",
    "# Configuration\n",
    "SOURCE_DIR = \"individual_results\"\n",
    "FINAL_OUTPUT_DIR = \"isingBatches\"\n",
    "FINAL_OUTPUT_FILENAME = \"TSP_QAOA_IBM_batch_results_MERGED.json\"\n",
    "\n",
    "def merge_json_files():\n",
    "    \"\"\"\n",
    "    Finds all individual result JSON files, combines them into a single\n",
    "    structured file, and saves it.\n",
    "    \"\"\"\n",
    "    all_results = []\n",
    "    metadata = {}\n",
    "\n",
    "    # Find all individual result files using a wildcard\n",
    "    search_pattern = os.path.join(SOURCE_DIR, \"result_instance_*.json\")\n",
    "    individual_files = glob.glob(search_pattern)\n",
    "\n",
    "    if not individual_files:\n",
    "        print(f\"Error: No result files found in '{SOURCE_DIR}'.\")\n",
    "        return\n",
    "\n",
    "    print(f\"Found {len(individual_files)} result files to merge.\")\n",
    "\n",
    "    # Loop through each file, load its data, and append the result\n",
    "    for file_path in individual_files:\n",
    "        with open(file_path, 'r') as f:\n",
    "            data = json.load(f)\n",
    "        \n",
    "        # Add the main result data to our list\n",
    "        all_results.append(data[\"result\"])\n",
    "        \n",
    "        # Grab the metadata from the first file we process\n",
    "        if not metadata:\n",
    "            metadata = data[\"metadata\"]\n",
    "\n",
    "    # Optional: Sort the results by instance_id for a clean, ordered final file\n",
    "    all_results.sort(key=lambda x: x['instance_id'])\n",
    "\n",
    "    # Assemble the final data structure\n",
    "    final_data = {\n",
    "        \"metadata\": metadata,\n",
    "        \"results\": all_results\n",
    "    }\n",
    "\n",
    "    # Ensure the final output directory exists\n",
    "    os.makedirs(FINAL_OUTPUT_DIR, exist_ok=True)\n",
    "    final_path = os.path.join(FINAL_OUTPUT_DIR, FINAL_OUTPUT_FILENAME)\n",
    "\n",
    "    # Save the merged file\n",
    "    with open(final_path, 'w') as f:\n",
    "        # Use the regular json.dump since our custom encoder is not needed here\n",
    "        json.dump(final_data, f, indent=4)\n",
    "\n",
    "    print(f\"Successfully merged {len(all_results)} results into {final_path}\")\n",
    "\n",
    "if __name__ == \"__main__\":\n",
    "    merge_json_files()"
   ]
  }
 ],
 "metadata": {
  "kernelspec": {
   "display_name": "IBMQpynbvenv (3.10.11)",
   "language": "python",
   "name": "python3"
  },
  "language_info": {
   "codemirror_mode": {
    "name": "ipython",
    "version": 3
   },
   "file_extension": ".py",
   "mimetype": "text/x-python",
   "name": "python",
   "nbconvert_exporter": "python",
   "pygments_lexer": "ipython3",
   "version": "3.10.11"
  }
 },
 "nbformat": 4,
 "nbformat_minor": 5
}
