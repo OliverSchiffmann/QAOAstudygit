{
 "cells": [
  {
   "cell_type": "code",
   "execution_count": 1,
   "id": "36942864",
   "metadata": {},
   "outputs": [],
   "source": [
    "import json\n",
    "import os\n",
    "import glob\n",
    "from config import problem_configs\n",
    "\n",
    "# Configuration\n",
    "SOURCE_DIR = \"individual_results\"\n",
    "FINAL_OUTPUT_DIR = \"isingBatches\""
   ]
  },
  {
   "cell_type": "code",
   "execution_count": null,
   "id": "a3b5a44e",
   "metadata": {},
   "outputs": [
    {
     "name": "stdout",
     "output_type": "stream",
     "text": [
      "--- Processing class: TSP ---\n",
      "File slug for TSP: TSP_9q_\n",
      "Found 100 result files to merge.\n",
      "Successfully merged 100 results into isingBatches/MERGED_QAOA_results_TSP_9q_.json\n",
      "\n",
      "--- Processing class: Knapsack ---\n",
      "File slug for Knapsack: Knapsack_6_items_9q_\n",
      "Found 100 result files to merge.\n",
      "Successfully merged 100 results into isingBatches/MERGED_QAOA_results_Knapsack_6_items_9q_.json\n",
      "\n",
      "--- Processing class: MinimumVertexCover ---\n",
      "File slug for MinimumVertexCover: MinimumVertexCover_9q_\n",
      "Found 100 result files to merge.\n",
      "Successfully merged 100 results into isingBatches/MERGED_QAOA_results_MinimumVertexCover_9q_.json\n",
      "\n"
     ]
    }
   ],
   "source": [
    "#note that this will need updating after i get IONQ working as file names will be different\n",
    "def merge_all_problem_classes():\n",
    "    \"\"\"\n",
    "    Finds and merges individual result files for each problem class\n",
    "    defined in the problem_configs dictionary.\n",
    "    \"\"\"\n",
    "    # Loop through each problem type defined in the config\n",
    "    for problem_name, config in problem_configs.items():\n",
    "        print(f\"--- Processing class: {problem_name} ---\")\n",
    "\n",
    "        file_slug = config['file_slug']\n",
    "        print(f\"File slug for {problem_name}: {file_slug}\")\n",
    "\n",
    "        search_pattern = os.path.join(SOURCE_DIR, f\"{file_slug}result_instance_*.json\")\n",
    "        individual_files = glob.glob(search_pattern)\n",
    "\n",
    "        if not individual_files:\n",
    "            print(f\"No result files found for pattern: {search_pattern}. Skipping.\\n\")\n",
    "            continue  # Move to the next problem class\n",
    "    \n",
    "        print(f\"Found {len(individual_files)} result files to merge.\")\n",
    "\n",
    "        all_results = []\n",
    "        metadata = {}\n",
    "\n",
    "        # Loop through each found file, load its data, and append the result\n",
    "        for file_path in individual_files:\n",
    "            with open(file_path, 'r') as f:\n",
    "                data = json.load(f)\n",
    "            \n",
    "            all_results.append(data[\"result\"])\n",
    "            \n",
    "            if not metadata:\n",
    "                metadata = data[\"metadata\"]\n",
    "\n",
    "        all_results.sort(key=lambda x: x['instance_id'])\n",
    "\n",
    "        # Assemble the final data structure for this problem class\n",
    "        final_data = {\n",
    "            \"metadata\": metadata,\n",
    "            \"results\": all_results\n",
    "        }\n",
    "\n",
    "        # 2. Dynamically create the final output filename\n",
    "        final_output_filename = f\"MERGED_QAOA_results_{file_slug}.json\"\n",
    "        final_path = os.path.join(FINAL_OUTPUT_DIR, final_output_filename)\n",
    "\n",
    "        os.makedirs(FINAL_OUTPUT_DIR, exist_ok=True)\n",
    "\n",
    "        with open(final_path, 'w') as f:\n",
    "            json.dump(final_data, f, indent=4)\n",
    "\n",
    "        print(f\"Successfully merged {len(all_results)} results into {final_path}\\n\")\n",
    "\n",
    "\n",
    "if __name__ == \"__main__\":\n",
    "    merge_all_problem_classes()"
   ]
  }
 ],
 "metadata": {
  "kernelspec": {
   "display_name": "IBMQpynbvenv (3.10.11)",
   "language": "python",
   "name": "python3"
  },
  "language_info": {
   "codemirror_mode": {
    "name": "ipython",
    "version": 3
   },
   "file_extension": ".py",
   "mimetype": "text/x-python",
   "name": "python",
   "nbconvert_exporter": "python",
   "pygments_lexer": "ipython3",
   "version": "3.10.11"
  }
 },
 "nbformat": 4,
 "nbformat_minor": 5
}
