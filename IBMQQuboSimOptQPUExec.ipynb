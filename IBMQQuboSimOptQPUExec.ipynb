{
 "cells": [
  {
   "cell_type": "code",
   "execution_count": 1,
   "id": "5aa4db26",
   "metadata": {},
   "outputs": [],
   "source": [
    "import json\n",
    "import numpy as np\n",
    "import matplotlib.pyplot as plt\n",
    "from scipy.optimize import minimize\n",
    "\n",
    "# Packages for quantum stuff\n",
    "from qiskit.quantum_info import SparsePauliOp\n",
    "from qiskit.circuit.library import QAOAAnsatz\n",
    "from qiskit_aer import AerSimulator\n",
    "from qiskit_ibm_runtime import EstimatorV2 as Estimator, QiskitRuntimeService, SamplerV2 as Sampler\n",
    "from qiskit.transpiler.preset_passmanagers import generate_preset_pass_manager\n",
    "from qiskit_ibm_runtime.fake_provider import FakeBrisbane, FakeSherbrooke # For simulation with realistic noise\n"
   ]
  },
  {
   "cell_type": "code",
   "execution_count": 2,
   "id": "fd10a733",
   "metadata": {},
   "outputs": [],
   "source": [
    "def load_qubo_and_build_hamiltonian(file_path=\"qubo_data.json\"):\n",
    "    \"\"\"\n",
    "    Loads QUBO terms, weights, and constant from a JSON file.\n",
    "    Determines the number of qubits from the terms and constructs\n",
    "    the Hamiltonian as a Qiskit SparsePauliOp.\n",
    "    \"\"\"\n",
    "    with open(file_path, \"r\") as f:\n",
    "        qubo_data = json.load(f)\n",
    "\n",
    "    terms = qubo_data[\"terms\"]\n",
    "    weights = qubo_data[\"weights\"]\n",
    "    constant = qubo_data.get(\"constant\", 0.0)\n",
    "    problemType = qubo_data.get(\"problem_type\")\n",
    "\n",
    "    pauli_list = []\n",
    "    num_qubits = 0\n",
    "\n",
    "    if terms:\n",
    "        # Flatten the list of lists and filter out empty sublists or non-integer elements\n",
    "        all_indices = []\n",
    "        for term_group in terms:\n",
    "            if isinstance(term_group, list): # Ensure it's a list\n",
    "                for idx in term_group:\n",
    "                    if isinstance(idx, int): # Ensure index is an integer\n",
    "                        all_indices.append(idx)\n",
    "\n",
    "        if all_indices: # If there are any valid integer indices\n",
    "            num_qubits = max(all_indices) + 1\n",
    "        else: # No indices and no weights (only constant)\n",
    "            num_qubits = 0\n",
    "    else: # No terms at all\n",
    "        num_qubits = 0\n",
    "        if weights: # Weights present but no terms - problematic\n",
    "            print(\"Warning: Weights are present, but 'terms' list is empty or missing. Cannot form Pauli operators.\")\n",
    "\n",
    "    for term_indices, weight in zip(terms, weights):\n",
    "        if not term_indices or not all(isinstance(idx, int) for idx in term_indices):\n",
    "            # Skip if term_indices is empty or contains non-integers\n",
    "            continue\n",
    "\n",
    "        paulis_arr = [\"I\"] * num_qubits\n",
    "        if len(term_indices) == 1: # Linear term\n",
    "            paulis_arr[term_indices[0]] = \"Z\"\n",
    "        elif len(term_indices) == 2: # Quadratic term\n",
    "            paulis_arr[term_indices[0]] = \"Z\"\n",
    "            paulis_arr[term_indices[1]] = \"Z\"\n",
    "        else:\n",
    "            # This case should ideally not be hit if terms are only single or pairs.\n",
    "            print(f\"Warning: Skipping term {term_indices} with unsupported number of variables for Pauli Z construction.\")\n",
    "            continue\n",
    "        pauli_list.append((\"\".join(paulis_arr)[::-1], weight))\n",
    "\n",
    "    if not pauli_list and num_qubits > 0: # No valid Pauli terms were created, but num_qubits > 0\n",
    "        cost_hamiltonian = SparsePauliOp([\"I\"] * num_qubits, [0]) # Zero operator on n_qubits\n",
    "    elif not pauli_list and num_qubits == 0:\n",
    "        cost_hamiltonian = SparsePauliOp(\"I\", [0]) # Placeholder for 1 qubit if everything is empty\n",
    "    else:\n",
    "        cost_hamiltonian = SparsePauliOp.from_list(pauli_list)\n",
    "\n",
    "    return cost_hamiltonian, constant, num_qubits, problemType\n",
    "\n",
    "def cost_func_estimator(params, ansatz, estimator, cost_hamiltonian_logical, constant_offset, backend_total_qubits=127): # removed default for backend_total_qubits\n",
    "    global numOptimisations\n",
    "    prepared_observable = cost_hamiltonian_logical.apply_layout(ansatz.layout)\n",
    "    pub = (ansatz, prepared_observable, [params])\n",
    "    \n",
    "    job = estimator.run(pubs=[pub])\n",
    "    results = job.result()[0]\n",
    "    cost = results.data.evs[0]\n",
    "\n",
    "    cost_float = float(np.real(cost)) + constant_offset\n",
    "    objective_func_vals.append(cost_float)\n",
    "    \n",
    "    numOptimisations = numOptimisations + 1\n",
    "    # Your desired print format:\n",
    "    print(f\"Params: {params}, Cost: {cost_float}, Optimisation Round: {numOptimisations}\") \n",
    "    \n",
    "    return cost_float"
   ]
  },
  {
   "cell_type": "code",
   "execution_count": 3,
   "id": "2383d8d4",
   "metadata": {},
   "outputs": [
    {
     "name": "stdout",
     "output_type": "stream",
     "text": [
      "Cost Function Hamiltonian (from QUBO): SparsePauliOp(['IIZIIIIIZ', 'IZIIIIIIZ', 'ZIIIIIIIZ', 'IIIIIIZZI', 'IIZIIIIZI', 'ZIIIIIIZI', 'IIIIIZZII', 'IIIIZIZII', 'IIIZIIZII', 'IIZIIIZII', 'IZIIIIZII', 'ZIIIIIZII', 'IZIIIZIII', 'ZIIIIZIII', 'IIIZZIIII', 'IZIIZIIII', 'IIZZIIIII', 'ZIIZIIIII'],\n",
      "              coeffs=[1.+0.j, 1.+0.j, 1.+0.j, 1.+0.j, 1.+0.j, 1.+0.j, 1.+0.j, 1.+0.j, 1.+0.j,\n",
      " 1.+0.j, 1.+0.j, 1.+0.j, 1.+0.j, 1.+0.j, 1.+0.j, 1.+0.j, 1.+0.j, 1.+0.j])\n",
      "Constant offset: 0\n",
      "Number of qubits (inferred from terms): 9\n",
      "Problem type: maximum_cut\n"
     ]
    }
   ],
   "source": [
    "cost_hamiltonian, constant_offset, num_qubits, problem_type = load_qubo_and_build_hamiltonian(\"qubo_data.json\")\n",
    "print(\"Cost Function Hamiltonian (from QUBO):\", cost_hamiltonian)\n",
    "print(\"Constant offset:\", constant_offset)\n",
    "print(f\"Number of qubits (inferred from terms): {num_qubits}\")\n",
    "print(\"Problem type:\", problem_type)"
   ]
  },
  {
   "cell_type": "code",
   "execution_count": 4,
   "id": "ac3c93b7",
   "metadata": {},
   "outputs": [
    {
     "name": "stdout",
     "output_type": "stream",
     "text": [
      "Ansatz Parameters: ParameterView([ParameterVectorElement(β[0]), ParameterVectorElement(β[1]), ParameterVectorElement(γ[0]), ParameterVectorElement(γ[1])])\n"
     ]
    }
   ],
   "source": [
    "# 2. Define QAOA Ansatz\n",
    "#    **************** QAOA Customization Options ****************\n",
    "#    a. `cost_operator`: The problem Hamiltonian (loaded from QUBO).\n",
    "#    b. `reps` (p): Number of QAOA layers. Higher 'reps' can improve solution quality\n",
    "#                   but increases circuit depth and parameters. Start small (e.g., 1-3).\n",
    "#    c. `initial_state`: QuantumCircuit for the initial state. Default is Hadamard transform.\n",
    "#    d. `mixer_operator`: Mixer Hamiltonian. Default is sum_i X_i. Custom mixers can be used.\n",
    "#    e. `upto_diag`: If True, cost operator assumed diagonal in Z basis (typical for QUBOs).\n",
    "#    ************************************************************\n",
    "reps_p = 2 # Example: QAOA depth (number of layers) 2 found to be optimal for sherbrookenoise model for 6 qubit problem\n",
    "\n",
    "if num_qubits == 0:\n",
    "    print(\"Error: Number of qubits is 0. Cannot create QAOAAnsatz. Check your qubo_data.json\")\n",
    "    exit()\n",
    "\n",
    "circuit = QAOAAnsatz(cost_operator=cost_hamiltonian, reps=reps_p)\n",
    "circuit.measure_all() \n",
    "\n",
    "print(\"Ansatz Parameters:\", circuit.parameters)\n",
    "#circuit.draw()"
   ]
  },
  {
   "cell_type": "code",
   "execution_count": 5,
   "id": "1455a578",
   "metadata": {},
   "outputs": [
    {
     "data": {
      "text/plain": [
       "20"
      ]
     },
     "execution_count": 5,
     "metadata": {},
     "output_type": "execute_result"
    }
   ],
   "source": [
    "# 3. Choose Backend and Transpile\n",
    "#    **************** QAOA Customization Options ****************\n",
    "#    a. `backend`: Simulator (AerSimulator, FakeBackend) or real quantum device.\n",
    "#    b. `optimization_level` (transpiler): 0 (no opt) to 3 (heavy opt).\n",
    "#    ************************************************************\n",
    "backend_simulator = AerSimulator() # Ideal simulator\n",
    "#backend_simulator = AerSimulator.from_backend(FakeBrisbane()) # Simulator with IBM_Brisbane specific noise model\n",
    "#backend_simulator = AerSimulator.from_backend(FakeSherbrooke()) # Simulator with IBM_Sherbroke specific noise model\n",
    "\n",
    "pm = generate_preset_pass_manager(optimization_level=3, backend=backend_simulator)\n",
    "candidate_circuit = pm.run(circuit)\n",
    "candidate_circuit.depth()\n",
    "#candidate_circuit.draw()"
   ]
  },
  {
   "cell_type": "code",
   "execution_count": 6,
   "id": "7f8c94d1",
   "metadata": {},
   "outputs": [
    {
     "name": "stdout",
     "output_type": "stream",
     "text": [
      "Starting optimization...\n",
      "Params: [2.39980499 2.75497225 0.4672335  2.62484718], Cost: -0.91796875, Optimisation Round: 1\n",
      "Params: [3.39980499 2.75497225 0.4672335  2.62484718], Cost: 5.5693359375, Optimisation Round: 2\n",
      "Params: [2.39980499 3.75497225 0.4672335  2.62484718], Cost: 1.015625, Optimisation Round: 3\n",
      "Params: [2.39980499 2.75497225 1.4672335  2.62484718], Cost: -1.67041015625, Optimisation Round: 4\n",
      "Params: [2.39980499 2.75497225 1.4672335  3.62484718], Cost: 0.18212890625, Optimisation Round: 5\n",
      "Params: [1.48072392 2.48103268 1.57383473 2.36239094], Cost: -0.013671875, Optimisation Round: 6\n",
      "Params: [2.76618669 2.51845074 1.55927382 2.39824046], Cost: -0.0615234375, Optimisation Round: 7\n",
      "Params: [2.39112463 3.24200036 1.50968883 2.52032057], Cost: 0.216796875, Optimisation Round: 8\n",
      "Params: [2.39836022 2.73650251 1.21852864 2.60744967], Cost: -1.23779296875, Optimisation Round: 9\n",
      "Params: [2.47607008 2.77770367 1.45838776 2.72083505], Cost: -2.03369140625, Optimisation Round: 10\n",
      "Params: [2.39512559 2.69031076 1.50765681 2.9350383 ], Cost: -1.55419921875, Optimisation Round: 11\n",
      "Params: [2.58268183 2.72174924 1.48630974 2.7021696 ], Cost: -1.861328125, Optimisation Round: 12\n",
      "Params: [2.47595236 2.80580195 1.51419739 2.71941759], Cost: -1.7060546875, Optimisation Round: 13\n",
      "Params: [2.50441458 2.81827139 1.34497411 2.73853228], Cost: -2.2001953125, Optimisation Round: 14\n",
      "Params: [2.47159301 2.74699704 1.30588202 2.82763627], Cost: -1.42431640625, Optimisation Round: 15\n",
      "Params: [2.4709193  2.78845485 1.33243426 2.69684244], Cost: -2.08056640625, Optimisation Round: 16\n",
      "Params: [2.57202058 2.89907754 1.31117329 2.68037475], Cost: -2.26123046875, Optimisation Round: 17\n",
      "Params: [2.54103263 2.94106696 1.34548278 2.67797806], Cost: -2.11865234375, Optimisation Round: 18\n",
      "Params: [2.58587758 2.88929215 1.33487766 2.66910998], Cost: -2.30029296875, Optimisation Round: 19\n",
      "Params: [2.64187231 2.87070505 1.3341872  2.68972268], Cost: -2.38427734375, Optimisation Round: 20\n",
      "Params: [2.67306824 2.83069938 1.31921655 2.65642869], Cost: -2.13232421875, Optimisation Round: 21\n",
      "Params: [2.62708825 2.84827438 1.34874388 2.69627727], Cost: -2.25927734375, Optimisation Round: 22\n",
      "Params: [2.6607947  2.88870306 1.30895916 2.74059321], Cost: -2.22509765625, Optimisation Round: 23\n",
      "Params: [2.64912154 2.89150677 1.35489796 2.68182556], Cost: -2.298828125, Optimisation Round: 24\n",
      "Params: [2.62059967 2.88217751 1.31756864 2.67894106], Cost: -2.2734375, Optimisation Round: 25\n",
      "Params: [2.64762555 2.87402783 1.32878162 2.70279095], Cost: -2.3564453125, Optimisation Round: 26\n",
      "Params: [2.65264294 2.8644233  1.32892621 2.68191271], Cost: -2.26025390625, Optimisation Round: 27\n",
      "Params: [2.64270043 2.87605832 1.33980912 2.68942954], Cost: -2.28857421875, Optimisation Round: 28\n",
      "Params: [2.64119205 2.8733185  1.33172674 2.68833991], Cost: -2.26904296875, Optimisation Round: 29\n",
      "Params: [2.63941668 2.86458098 1.33681292 2.69297944], Cost: -2.36328125, Optimisation Round: 30\n",
      "Params: [2.64523171 2.86903961 1.33438832 2.68864606], Cost: -2.2724609375, Optimisation Round: 31\n",
      "Params: [2.64119953 2.87048951 1.33504649 2.68811731], Cost: -2.251953125, Optimisation Round: 32\n",
      "Params: [2.64266159 2.87270295 1.33592124 2.69248625], Cost: -2.333984375, Optimisation Round: 33\n",
      "Params: [2.64126264 2.86964145 1.33328246 2.69094464], Cost: -2.26123046875, Optimisation Round: 34\n",
      "Params: [2.64205747 2.8713944  1.3335168  2.68952003], Cost: -2.3798828125, Optimisation Round: 35\n",
      "Params: [2.64221401 2.87042183 1.33404513 2.68954146], Cost: -2.31787109375, Optimisation Round: 36\n",
      "Params: [2.64199716 2.87133198 1.33473336 2.69026405], Cost: -2.27392578125, Optimisation Round: 37\n",
      "Optimization Result:\n",
      " message: Optimization terminated successfully.\n",
      " success: True\n",
      "  status: 1\n",
      "     fun: -2.27392578125\n",
      "       x: [ 2.642e+00  2.871e+00  1.335e+00  2.690e+00]\n",
      "    nfev: 37\n",
      "   maxcv: 0.0\n"
     ]
    }
   ],
   "source": [
    "# 4. Set Initial Parameters for QAOA\n",
    "#    **************** QAOA Customization Options ****************\n",
    "#    - Number of parameters = 2 * reps_p (gammas for cost, betas for mixer).\n",
    "#    - Good initial points can help optimization.\n",
    "#      Examples: random values, fixed guesses (e.g., gammas in [0, 2*pi], betas in [0, pi]).\n",
    "#    ************************************************************\n",
    "num_params = 2 * reps_p\n",
    "initial_betas = (np.random.rand(reps_p) * np.pi).tolist()\n",
    "#initial_gammas = (np.random.rand(p_depth) * (np.pi / 2)).tolist() #the /2 is a relic from the utility scale example that doesnt seem needed\n",
    "initial_gammas = (np.random.rand(reps_p) * (np.pi)).tolist()\n",
    "initial_params = initial_betas + initial_gammas\n",
    "    \n",
    "# 5. Optimization using Estimator\n",
    "#    **************** QAOA Customization Options ****************\n",
    "#    a. `Estimator options`: `default_shots` (more shots -> less statistical noise).\n",
    "#    b. `minimize` function (scipy.optimize):\n",
    "#        - `method`: e.g., \"COBYLA\", \"NELDER-MEAD\", \"SPSA\", \"L-BFGS-B\".\n",
    "#                    COBYLA and SPSA are often good for noisy quantum optimizations.\n",
    "#        - `tol`: Tolerance for termination.\n",
    "#        - `options={'maxiter': ...}`: Max optimizer iterations.\n",
    "#    ************************************************************\n",
    "\n",
    "# Global variables\n",
    "objective_func_vals = []  \n",
    "numOptimisations = 0\n",
    "\n",
    "estimator = Estimator(mode=backend_simulator)\n",
    "# estimator.options.default_shots = 1024 # Default is 4000 for EstimatorV2 if not using shots option in run.\n",
    "\n",
    "print(\"Starting optimization...\")\n",
    "result = minimize(\n",
    "    cost_func_estimator,\n",
    "    initial_params,\n",
    "    args=(candidate_circuit, estimator, cost_hamiltonian, constant_offset),\n",
    "    method=\"COBYLA\",\n",
    "    tol=1e-3,\n",
    "    options={\"maxiter\": 1000}, # Adjust as needed\n",
    ")\n",
    "print(\"Optimization Result:\")\n",
    "print(result)"
   ]
  },
  {
   "cell_type": "code",
   "execution_count": 7,
   "id": "c6460a0f",
   "metadata": {},
   "outputs": [
    {
     "data": {
      "image/png": "[encoded data removed]",
      "text/plain": [
       "<Figure size 640x480 with 1 Axes>"
      ]
     },
     "metadata": {},
     "output_type": "display_data"
    }
   ],
   "source": [
    "plt.plot(objective_func_vals)\n",
    "plt.xlabel(\"Iteration\")\n",
    "plt.ylabel(\"Cost\")\n",
    "plt.show()"
   ]
  },
  {
   "cell_type": "code",
   "execution_count": 8,
   "id": "b3173fc1",
   "metadata": {},
   "outputs": [],
   "source": [
    "optimized_circuit = candidate_circuit.assign_parameters(result.x)\n",
    "#optimized_circuit.draw() #commented out bc long output"
   ]
  },
  {
   "cell_type": "code",
   "execution_count": 9,
   "id": "3223dd55",
   "metadata": {},
   "outputs": [
    {
     "name": "stderr",
     "output_type": "stream",
     "text": [
      "/var/folders/ph/hp043kk921q2v4grp3l2v6nw0000gq/T/ipykernel_32533/1732015256.py:9: DeprecationWarning: The \"ibm_quantum\" channel option is deprecated and will be sunset on 1 July. After this date, ibm_cloud will be the only valid channel. For information on migrating to the new IBM Quantum Platform on the \"ibm_cloud\" channel, review the migration guide https://quantum.cloud.ibm.com/docs/migration-guides/classic-iqp-to-cloud-iqp .\n",
      "  service = QiskitRuntimeService(channel=\"ibm_quantum\")\n"
     ]
    }
   ],
   "source": [
    "QiskitRuntimeService.save_account(\n",
    "    channel=\"ibm_quantum\",\n",
    "    token=\"e3d76332de187f9b82dbd1904444ae8aaca1b80ed6fa6b8ae43d3b8f2641c0eea75884a158e0208d8d46c6d03551260f840427bfee34f4e323e13454fbf86fdf\",\n",
    "    overwrite=True,\n",
    "    set_as_default=True,\n",
    ")\n",
    "\n",
    "\n",
    "service = QiskitRuntimeService(channel=\"ibm_quantum\")\n",
    "#backend_name = \"ibm_brisbane\"\n",
    "backend_name = \"ibm_sherbrooke\"\n",
    "backend = service.backend(backend_name)"
   ]
  },
  {
   "cell_type": "code",
   "execution_count": null,
   "id": "59f8f90f",
   "metadata": {},
   "outputs": [
    {
     "name": "stdout",
     "output_type": "stream",
     "text": [
      "Submitting job with tags: ['maximum_cut', 'nq=9', 'p=2']\n"
     ]
    },
    {
     "ename": "IBMInputValueError",
     "evalue": "'The instruction rzz is supported only for angles in the range [0, pi/2], but an angle of 2.669466722168208 has been provided.'",
     "output_type": "error",
     "traceback": [
      "\u001b[0;31m---------------------------------------------------------------------------\u001b[0m",
      "\u001b[0;31mIBMInputValueError\u001b[0m                        Traceback (most recent call last)",
      "Cell \u001b[0;32mIn[10], line 18\u001b[0m\n\u001b[1;32m     15\u001b[0m job_tags_list \u001b[38;5;241m=\u001b[39m [tag1, tag2, tag3]\n\u001b[1;32m     16\u001b[0m \u001b[38;5;28mprint\u001b[39m(\u001b[38;5;124mf\u001b[39m\u001b[38;5;124m\"\u001b[39m\u001b[38;5;124mSubmitting job with tags: \u001b[39m\u001b[38;5;132;01m{\u001b[39;00mjob_tags_list\u001b[38;5;132;01m}\u001b[39;00m\u001b[38;5;124m\"\u001b[39m)\n\u001b[0;32m---> 18\u001b[0m job \u001b[38;5;241m=\u001b[39m \u001b[43msampler\u001b[49m\u001b[38;5;241;43m.\u001b[39;49m\u001b[43mrun\u001b[49m\u001b[43m(\u001b[49m\u001b[43m[\u001b[49m\u001b[43mpub\u001b[49m\u001b[43m]\u001b[49m\u001b[43m,\u001b[49m\u001b[43m \u001b[49m\u001b[43mshots\u001b[49m\u001b[38;5;241;43m=\u001b[39;49m\u001b[38;5;28;43mint\u001b[39;49m\u001b[43m(\u001b[49m\u001b[38;5;241;43m1e4\u001b[39;49m\u001b[43m)\u001b[49m\u001b[43m)\u001b[49m\n\u001b[1;32m     19\u001b[0m jobID \u001b[38;5;241m=\u001b[39m job\u001b[38;5;241m.\u001b[39mjob_id()\n\u001b[1;32m     22\u001b[0m job\u001b[38;5;241m.\u001b[39mupdate_tags(new_tags\u001b[38;5;241m=\u001b[39mjob_tags_list)\n",
      "File \u001b[0;32m~/Github/QAOAstudygit/IBMQpynbvenv/lib/python3.10/site-packages/qiskit_ibm_runtime/sampler.py:110\u001b[0m, in \u001b[0;36mSamplerV2.run\u001b[0;34m(self, pubs, shots)\u001b[0m\n\u001b[1;32m    106\u001b[0m coerced_pubs \u001b[38;5;241m=\u001b[39m [SamplerPub\u001b[38;5;241m.\u001b[39mcoerce(pub, shots) \u001b[38;5;28;01mfor\u001b[39;00m pub \u001b[38;5;129;01min\u001b[39;00m pubs]\n\u001b[1;32m    108\u001b[0m validate_classical_registers(coerced_pubs)\n\u001b[0;32m--> 110\u001b[0m \u001b[38;5;28;01mreturn\u001b[39;00m \u001b[38;5;28;43mself\u001b[39;49m\u001b[38;5;241;43m.\u001b[39;49m\u001b[43m_run\u001b[49m\u001b[43m(\u001b[49m\u001b[43mcoerced_pubs\u001b[49m\u001b[43m)\u001b[49m\n",
      "File \u001b[0;32m~/Github/QAOAstudygit/IBMQpynbvenv/lib/python3.10/site-packages/qiskit_ibm_runtime/base_primitive.py:155\u001b[0m, in \u001b[0;36mBasePrimitiveV2._run\u001b[0;34m(self, pubs)\u001b[0m\n\u001b[1;32m    153\u001b[0m \u001b[38;5;28;01mif\u001b[39;00m \u001b[38;5;28mself\u001b[39m\u001b[38;5;241m.\u001b[39m_backend:\n\u001b[1;32m    154\u001b[0m     \u001b[38;5;28;01mif\u001b[39;00m \u001b[38;5;129;01mnot\u001b[39;00m is_simulator(\u001b[38;5;28mself\u001b[39m\u001b[38;5;241m.\u001b[39m_backend):\n\u001b[0;32m--> 155\u001b[0m         \u001b[43mvalidate_rzz_pubs\u001b[49m\u001b[43m(\u001b[49m\u001b[43mpubs\u001b[49m\u001b[43m)\u001b[49m\n\u001b[1;32m    156\u001b[0m     \u001b[38;5;28;01mfor\u001b[39;00m pub \u001b[38;5;129;01min\u001b[39;00m pubs:\n\u001b[1;32m    157\u001b[0m         \u001b[38;5;28;01mif\u001b[39;00m \u001b[38;5;28mgetattr\u001b[39m(\u001b[38;5;28mself\u001b[39m\u001b[38;5;241m.\u001b[39m_backend, \u001b[38;5;124m\"\u001b[39m\u001b[38;5;124mtarget\u001b[39m\u001b[38;5;124m\"\u001b[39m, \u001b[38;5;28;01mNone\u001b[39;00m) \u001b[38;5;129;01mand\u001b[39;00m \u001b[38;5;129;01mnot\u001b[39;00m is_simulator(\u001b[38;5;28mself\u001b[39m\u001b[38;5;241m.\u001b[39m_backend):\n",
      "File \u001b[0;32m~/Github/QAOAstudygit/IBMQpynbvenv/lib/python3.10/site-packages/qiskit_ibm_runtime/utils/validations.py:110\u001b[0m, in \u001b[0;36mvalidate_rzz_pubs\u001b[0;34m(pubs)\u001b[0m\n\u001b[1;32m    108\u001b[0m message \u001b[38;5;241m=\u001b[39m is_valid_rzz_pub(pub)\n\u001b[1;32m    109\u001b[0m \u001b[38;5;28;01mif\u001b[39;00m message:\n\u001b[0;32m--> 110\u001b[0m     \u001b[38;5;28;01mraise\u001b[39;00m IBMInputValueError(message)\n",
      "\u001b[0;31mIBMInputValueError\u001b[0m: 'The instruction rzz is supported only for angles in the range [0, pi/2], but an angle of 2.669466722168208 has been provided.'"
     ]
    }
   ],
   "source": [
    "sampler = Sampler(mode=backend)\n",
    "sampler.options.default_shots = 1000\n",
    "\n",
    "# Set simple error suppression/mitigation options\n",
    "sampler.options.dynamical_decoupling.enable = True\n",
    "sampler.options.dynamical_decoupling.sequence_type = \"XY4\"\n",
    "sampler.options.twirling.enable_gates = True\n",
    "sampler.options.twirling.num_randomizations = \"auto\"\n",
    "\n",
    "pub= (optimized_circuit, )\n",
    "\n",
    "tag1 = str(problem_type).replace(\" \", \"_\") # e.g., 'bin_packing' or 'maximum_cut'\n",
    "tag2 = f\"nq={num_qubits}\" # e.g., 'nq=6'\n",
    "tag3 = f\"p={reps_p}\" # e.g., 'p=2'\n",
    "job_tags_list = [tag1, tag2, tag3]\n",
    "print(f\"Submitting job with tags: {job_tags_list}\")\n",
    "\n",
    "job = sampler.run([pub], shots=int(1e4))\n",
    "jobID = job.job_id()\n",
    "\n",
    "\n",
    "job.update_tags(new_tags=job_tags_list)\n",
    "print(f\"Successfully updated tags for job {jobID}.\")\n",
    "\n",
    "\n",
    "print(f\"You can monitor the job status at: https://quantum.ibm.com/jobs/{jobID}\")\n",
    "print('This job\\'s job ID is:', jobID)\n",
    "print(f\"      Associated Tags: {job_tags_list}\")\n",
    "print(\"Submission script finished.\")"
   ]
  },
  {
   "cell_type": "code",
   "execution_count": null,
   "id": "02af3bf5",
   "metadata": {},
   "outputs": [],
   "source": []
  }
 ],
 "metadata": {
  "kernelspec": {
   "display_name": "IBMQpynbvenv (3.10.11)",
   "language": "python",
   "name": "python3"
  },
  "language_info": {
   "codemirror_mode": {
    "name": "ipython",
    "version": 3
   },
   "file_extension": ".py",
   "mimetype": "text/x-python",
   "name": "python",
   "nbconvert_exporter": "python",
   "pygments_lexer": "ipython3",
   "version": "3.10.11"
  }
 },
 "nbformat": 4,
 "nbformat_minor": 5
}
