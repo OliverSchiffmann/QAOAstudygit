{
 "cells": [
  {
   "cell_type": "code",
   "execution_count": 26,
   "id": "5aa4db26",
   "metadata": {},
   "outputs": [],
   "source": [
    "import json\n",
    "import numpy as np\n",
    "import matplotlib.pyplot as plt\n",
    "from scipy.optimize import minimize\n",
    "\n",
    "# Packages for quantum stuff\n",
    "from qiskit.quantum_info import SparsePauliOp\n",
    "from qiskit.circuit.library import QAOAAnsatz\n",
    "from qiskit_aer import AerSimulator\n",
    "from qiskit_ibm_runtime import EstimatorV2 as Estimator, QiskitRuntimeService, SamplerV2 as Sampler\n",
    "from qiskit.transpiler.preset_passmanagers import generate_preset_pass_manager\n",
    "from qiskit_ibm_runtime.fake_provider import FakeBrisbane # For simulation with realistic noise"
   ]
  },
  {
   "cell_type": "code",
   "execution_count": 42,
   "id": "fd10a733",
   "metadata": {},
   "outputs": [],
   "source": [
    "def load_qubo_and_build_hamiltonian(file_path=\"qubo_data.json\"):\n",
    "    \"\"\"\n",
    "    Loads QUBO terms, weights, and constant from a JSON file.\n",
    "    Determines the number of qubits from the terms and constructs\n",
    "    the Hamiltonian as a Qiskit SparsePauliOp.\n",
    "    \"\"\"\n",
    "    with open(file_path, \"r\") as f:\n",
    "        qubo_data = json.load(f)\n",
    "\n",
    "    terms = qubo_data[\"terms\"]\n",
    "    weights = qubo_data[\"weights\"]\n",
    "    constant = qubo_data.get(\"constant\", 0.0)\n",
    "    problemType = qubo_data.get(\"problem_type\")\n",
    "\n",
    "    pauli_list = []\n",
    "    num_qubits = 0\n",
    "\n",
    "    if terms:\n",
    "        # Flatten the list of lists and filter out empty sublists or non-integer elements\n",
    "        all_indices = []\n",
    "        for term_group in terms:\n",
    "            if isinstance(term_group, list): # Ensure it's a list\n",
    "                for idx in term_group:\n",
    "                    if isinstance(idx, int): # Ensure index is an integer\n",
    "                        all_indices.append(idx)\n",
    "\n",
    "        if all_indices: # If there are any valid integer indices\n",
    "            num_qubits = max(all_indices) + 1\n",
    "        else: # No indices and no weights (only constant)\n",
    "            num_qubits = 0\n",
    "    else: # No terms at all\n",
    "        num_qubits = 0\n",
    "        if weights: # Weights present but no terms - problematic\n",
    "            print(\"Warning: Weights are present, but 'terms' list is empty or missing. Cannot form Pauli operators.\")\n",
    "\n",
    "    for term_indices, weight in zip(terms, weights):\n",
    "        if not term_indices or not all(isinstance(idx, int) for idx in term_indices):\n",
    "            # Skip if term_indices is empty or contains non-integers\n",
    "            continue\n",
    "\n",
    "        paulis_arr = [\"I\"] * num_qubits\n",
    "        if len(term_indices) == 1: # Linear term\n",
    "            paulis_arr[term_indices[0]] = \"Z\"\n",
    "        elif len(term_indices) == 2: # Quadratic term\n",
    "            paulis_arr[term_indices[0]] = \"Z\"\n",
    "            paulis_arr[term_indices[1]] = \"Z\"\n",
    "        else:\n",
    "            # This case should ideally not be hit if terms are only single or pairs.\n",
    "            print(f\"Warning: Skipping term {term_indices} with unsupported number of variables for Pauli Z construction.\")\n",
    "            continue\n",
    "        pauli_list.append((\"\".join(paulis_arr)[::-1], weight))\n",
    "\n",
    "    if not pauli_list and num_qubits > 0: # No valid Pauli terms were created, but num_qubits > 0\n",
    "        cost_hamiltonian = SparsePauliOp([\"I\"] * num_qubits, [0]) # Zero operator on n_qubits\n",
    "    elif not pauli_list and num_qubits == 0:\n",
    "        cost_hamiltonian = SparsePauliOp(\"I\", [0]) # Placeholder for 1 qubit if everything is empty\n",
    "    else:\n",
    "        cost_hamiltonian = SparsePauliOp.from_list(pauli_list)\n",
    "\n",
    "    return cost_hamiltonian, constant, num_qubits, problemType\n",
    "\n",
    "def cost_func_estimator(params, ansatz, estimator, cost_hamiltonian_logical, constant_offset, backend_total_qubits=127): # removed default for backend_total_qubits\n",
    "    prepared_observable = cost_hamiltonian_logical.apply_layout(ansatz.layout)\n",
    "    pub = (ansatz, prepared_observable, [params])\n",
    "    \n",
    "    job = estimator.run(pubs=[pub])\n",
    "    results = job.result()[0]\n",
    "    cost = results.data.evs[0]\n",
    "\n",
    "    cost_float = float(np.real(cost)) + constant_offset\n",
    "    objective_func_vals.append(cost_float)\n",
    "    \n",
    "    # Your desired print format:\n",
    "    print(f\"Params: {params}, Cost: {cost_float}\") \n",
    "    \n",
    "    return cost_float"
   ]
  },
  {
   "cell_type": "code",
   "execution_count": 43,
   "id": "2383d8d4",
   "metadata": {},
   "outputs": [
    {
     "name": "stdout",
     "output_type": "stream",
     "text": [
      "Cost Function Hamiltonian (from QUBO): SparsePauliOp(['IIIZIZ', 'IIZIIZ', 'IZIIIZ', 'IIIZZI', 'IIZIZI', 'ZIIIZI', 'IZIZII', 'ZIIZII', 'ZIZIII', 'ZZIIII'],\n",
      "              coeffs=[1.+0.j, 1.+0.j, 1.+0.j, 1.+0.j, 1.+0.j, 1.+0.j, 1.+0.j, 1.+0.j, 1.+0.j,\n",
      " 1.+0.j])\n",
      "Constant offset: 0\n",
      "Number of qubits (inferred from terms): 6\n",
      "Problem type: maximum_cut\n"
     ]
    }
   ],
   "source": [
    "cost_hamiltonian, constant_offset, num_qubits, problem_type = load_qubo_and_build_hamiltonian(\"qubo_data.json\")\n",
    "print(\"Cost Function Hamiltonian (from QUBO):\", cost_hamiltonian)\n",
    "print(\"Constant offset:\", constant_offset)\n",
    "print(f\"Number of qubits (inferred from terms): {num_qubits}\")\n",
    "print(\"Problem type:\", problem_type)"
   ]
  },
  {
   "cell_type": "code",
   "execution_count": 29,
   "id": "ac3c93b7",
   "metadata": {},
   "outputs": [
    {
     "name": "stdout",
     "output_type": "stream",
     "text": [
      "Ansatz Parameters: ParameterView([ParameterVectorElement(β[0]), ParameterVectorElement(β[1]), ParameterVectorElement(γ[0]), ParameterVectorElement(γ[1])])\n"
     ]
    }
   ],
   "source": [
    "# 2. Define QAOA Ansatz\n",
    "#    **************** QAOA Customization Options ****************\n",
    "#    a. `cost_operator`: The problem Hamiltonian (loaded from QUBO).\n",
    "#    b. `reps` (p): Number of QAOA layers. Higher 'reps' can improve solution quality\n",
    "#                   but increases circuit depth and parameters. Start small (e.g., 1-3).\n",
    "#    c. `initial_state`: QuantumCircuit for the initial state. Default is Hadamard transform.\n",
    "#    d. `mixer_operator`: Mixer Hamiltonian. Default is sum_i X_i. Custom mixers can be used.\n",
    "#    e. `upto_diag`: If True, cost operator assumed diagonal in Z basis (typical for QUBOs).\n",
    "#    ************************************************************\n",
    "reps_p = 2 # Example: QAOA depth (number of layers)\n",
    "\n",
    "if num_qubits == 0:\n",
    "    print(\"Error: Number of qubits is 0. Cannot create QAOAAnsatz. Check your qubo_data.json\")\n",
    "    exit()\n",
    "\n",
    "circuit = QAOAAnsatz(cost_operator=cost_hamiltonian, reps=reps_p)\n",
    "circuit.measure_all() \n",
    "\n",
    "print(\"Ansatz Parameters:\", circuit.parameters)\n",
    "# circuit.draw(\"mpl\", style=\"iqx\")"
   ]
  },
  {
   "cell_type": "code",
   "execution_count": 30,
   "id": "1455a578",
   "metadata": {},
   "outputs": [],
   "source": [
    "# 3. Choose Backend and Transpile\n",
    "#    **************** QAOA Customization Options ****************\n",
    "#    a. `backend`: Simulator (AerSimulator, FakeBackend) or real quantum device.\n",
    "#    b. `optimization_level` (transpiler): 0 (no opt) to 3 (heavy opt).\n",
    "#    ************************************************************\n",
    "# backend_simulator = AerSimulator() # Ideal simulator\n",
    "backend_simulator = AerSimulator.from_backend(FakeBrisbane()) # Simulator with noise model\n",
    "\n",
    "pm = generate_preset_pass_manager(optimization_level=3, backend=backend_simulator)\n",
    "candidate_circuit = pm.run(circuit)\n",
    "# candidate_circuit.draw(\"mpl\", fold=False, idle_wires=False, style=\"iqx\")"
   ]
  },
  {
   "cell_type": "code",
   "execution_count": 31,
   "id": "cc3774b9",
   "metadata": {},
   "outputs": [],
   "source": [
    "# 4. Set Initial Parameters for QAOA\n",
    "#    **************** QAOA Customization Options ****************\n",
    "#    - Number of parameters = 2 * reps_p (gammas for cost, betas for mixer).\n",
    "#    - Good initial points can help optimization.\n",
    "#      Examples: random values, fixed guesses (e.g., gammas in [0, 2*pi], betas in [0, pi]).\n",
    "#    ************************************************************\n",
    "num_params = 2 * reps_p\n",
    "if reps_p == 1:\n",
    "    initial_params = [np.pi/2, np.pi/4]\n",
    "elif reps_p == 2:\n",
    "    initial_params = [np.pi/2, np.pi/4, np.pi/2, np.pi/4]\n",
    "else:\n",
    "    initial_params = (np.random.rand(num_params) * np.array([np.pi, np.pi/2] * reps_p)).tolist()\n"
   ]
  },
  {
   "cell_type": "code",
   "execution_count": 32,
   "id": "7f8c94d1",
   "metadata": {},
   "outputs": [
    {
     "name": "stdout",
     "output_type": "stream",
     "text": [
      "Starting optimization...\n",
      "Params: [1.57079633 0.78539816 1.57079633 0.78539816], Cost: 0.07666015625\n",
      "Params: [2.57079633 0.78539816 1.57079633 0.78539816], Cost: 0.0556640625\n",
      "Params: [2.57079633 1.78539816 1.57079633 0.78539816], Cost: 0.03857421875\n",
      "Params: [2.57079633 1.78539816 2.57079633 0.78539816], Cost: 0.76416015625\n",
      "Params: [2.57079633 1.78539816 1.57079633 1.78539816], Cost: 1.95263671875\n",
      "Params: [ 2.58105256  1.79374626  1.21636006 -0.14958849], Cost: -0.728515625\n",
      "Params: [ 2.60417941  1.81257044  0.41713898 -0.74988548], Cost: -0.29443359375\n",
      "Params: [ 2.58590007  1.79769191  1.59081382 -0.4808668 ], Cost: 0.60009765625\n",
      "Params: [ 2.83103415  1.79374626  1.21575335 -0.14661636], Cost: -0.31640625\n",
      "Params: [ 2.35176694  1.7961057   0.77503621 -0.09805405], Cost: 0.02099609375\n",
      "Params: [ 2.58099544  2.04368422  1.21833404 -0.14438122], Cost: -0.1650390625\n",
      "Params: [2.4865217  1.66032667 1.40777679 0.28241008], Cost: -0.58544921875\n",
      "Params: [ 2.80865079  1.72752812  1.15289232 -0.10177582], Cost: -0.5166015625\n",
      "Params: [ 2.51563623  1.73669672  1.12641153 -0.15015082], Cost: -0.8134765625\n",
      "Params: [ 2.48003362  1.64872334  1.17122625 -0.2180462 ], Cost: -0.708984375\n",
      "Params: [ 2.50425978  1.71299945  1.14939105 -0.09831254], Cost: -0.9365234375\n",
      "Params: [2.43694983 1.71724326 1.14821738 0.00692521], Cost: -0.82275390625\n",
      "Params: [ 2.59302069  1.64482533  1.11288275 -0.05628951], Cost: -0.7080078125\n",
      "Params: [ 2.47985462  1.6735686   1.18526712 -0.11996324], Cost: -0.8681640625\n",
      "Params: [ 2.5295598   1.74337464  1.1967235  -0.08815647], Cost: -0.9013671875\n",
      "Params: [ 2.48276187  1.72368782  1.14451765 -0.07891122], Cost: -0.79931640625\n",
      "Params: [ 2.52783205  1.69512002  1.14372605 -0.08999721], Cost: -0.810546875\n",
      "Params: [ 2.49782751  1.70494264  1.15880265 -0.10533222], Cost: -0.841796875\n",
      "Params: [ 2.5068075   1.71572683  1.15561869 -0.09542773], Cost: -0.9130859375\n",
      "Params: [ 2.50854372  1.72319431  1.14373842 -0.10779416], Cost: -0.8701171875\n",
      "Params: [ 2.49979913  1.71444721  1.14608722 -0.0930091 ], Cost: -0.74658203125\n",
      "Params: [ 2.51056352  1.70854553  1.14818504 -0.09839132], Cost: -0.81787109375\n",
      "Params: [ 2.50474486  1.71559528  1.14913104 -0.10117917], Cost: -0.9326171875\n",
      "Params: [ 2.50233     1.71132151  1.15159659 -0.10027591], Cost: -0.90625\n",
      "Params: [ 2.50592606  1.71211928  1.14909117 -0.09872919], Cost: -0.89990234375\n",
      "Params: [ 2.50463477  1.71330794  1.15019417 -0.09804257], Cost: -0.84033203125\n",
      "Params: [ 2.50328872  1.71266226  1.14775673 -0.0986076 ], Cost: -0.927734375\n",
      "Params: [ 2.50390221  1.71368862  1.14957396 -0.09770943], Cost: -0.9140625\n",
      "Params: [ 2.50416678  1.71264313  1.14946004 -0.09798144], Cost: -0.93017578125\n",
      "Params: [ 2.50379222  1.71280643  1.14990354 -0.09900642], Cost: -0.8017578125\n",
      "Optimization Result:\n",
      " message: Optimization terminated successfully.\n",
      " success: True\n",
      "  status: 1\n",
      "     fun: -0.8017578125\n",
      "       x: [ 2.504e+00  1.713e+00  1.150e+00 -9.901e-02]\n",
      "    nfev: 35\n",
      "   maxcv: 0.0\n"
     ]
    }
   ],
   "source": [
    "# 5. Optimization using Estimator\n",
    "#    **************** QAOA Customization Options ****************\n",
    "#    a. `Estimator options`: `default_shots` (more shots -> less statistical noise).\n",
    "#    b. `minimize` function (scipy.optimize):\n",
    "#        - `method`: e.g., \"COBYLA\", \"NELDER-MEAD\", \"SPSA\", \"L-BFGS-B\".\n",
    "#                    COBYLA and SPSA are often good for noisy quantum optimizations.\n",
    "#        - `tol`: Tolerance for termination.\n",
    "#        - `options={'maxiter': ...}`: Max optimizer iterations.\n",
    "#    ************************************************************\n",
    "objective_func_vals = []  # Global variable\n",
    "\n",
    "estimator = Estimator(mode=backend_simulator)\n",
    "# estimator.options.default_shots = 1024 # Default is 4000 for EstimatorV2 if not using shots option in run.\n",
    "\n",
    "print(\"Starting optimization...\")\n",
    "result = minimize(\n",
    "    cost_func_estimator,\n",
    "    initial_params,\n",
    "    args=(candidate_circuit, estimator, cost_hamiltonian, constant_offset),\n",
    "    method=\"COBYLA\",\n",
    "    tol=1e-3,\n",
    "    options={\"maxiter\": 100}, # Adjust as needed\n",
    ")\n",
    "print(\"Optimization Result:\")\n",
    "print(result)"
   ]
  },
  {
   "cell_type": "code",
   "execution_count": 33,
   "id": "c6460a0f",
   "metadata": {},
   "outputs": [
    {
     "data": {
      "image/png": "[encoded data removed]",
      "text/plain": [
       "<Figure size 640x480 with 1 Axes>"
      ]
     },
     "metadata": {},
     "output_type": "display_data"
    }
   ],
   "source": [
    "plt.plot(objective_func_vals)\n",
    "plt.xlabel(\"Iteration\")\n",
    "plt.ylabel(\"Cost\")\n",
    "plt.show()"
   ]
  },
  {
   "cell_type": "code",
   "execution_count": 34,
   "id": "b3173fc1",
   "metadata": {},
   "outputs": [],
   "source": [
    "optimized_circuit = candidate_circuit.assign_parameters(result.x)\n",
    "#optimized_circuit.draw() #commented out bc long output"
   ]
  },
  {
   "cell_type": "code",
   "execution_count": 24,
   "id": "3223dd55",
   "metadata": {},
   "outputs": [
    {
     "name": "stderr",
     "output_type": "stream",
     "text": [
      "/var/folders/ph/hp043kk921q2v4grp3l2v6nw0000gq/T/ipykernel_16502/3652683713.py:9: DeprecationWarning: The \"ibm_quantum\" channel option is deprecated and will be sunset on 1 July. After this date, ibm_cloud will be the only valid channel. For information on migrating to the new IBM Quantum Platform on the \"ibm_cloud\" channel, review the migration guide https://quantum.cloud.ibm.com/docs/migration-guides/classic-iqp-to-cloud-iqp .\n",
      "  service = QiskitRuntimeService(channel=\"ibm_quantum\")\n"
     ]
    }
   ],
   "source": [
    "QiskitRuntimeService.save_account(\n",
    "    channel=\"ibm_quantum\",\n",
    "    token=\"e3d76332de187f9b82dbd1904444ae8aaca1b80ed6fa6b8ae43d3b8f2641c0eea75884a158e0208d8d46c6d03551260f840427bfee34f4e323e13454fbf86fdf\",\n",
    "    overwrite=True,\n",
    "    set_as_default=True,\n",
    ")\n",
    "\n",
    "\n",
    "service = QiskitRuntimeService(channel=\"ibm_quantum\")\n",
    "backend_name = \"ibm_brisbane\"\n",
    "backend = service.backend(backend_name)"
   ]
  },
  {
   "cell_type": "code",
   "execution_count": 45,
   "id": "59f8f90f",
   "metadata": {},
   "outputs": [
    {
     "name": "stdout",
     "output_type": "stream",
     "text": [
      "Submitting job with tags: ['maximum_cut', 'nq=6']\n",
      "Successfully updated tags for job d0e8ndn36cs0008qw640.\n",
      "You can monitor the job status at: https://quantum.ibm.com/jobs/d0e8ndn36cs0008qw640\n",
      "This job's job ID is: d0e8ndn36cs0008qw640\n",
      "      Associated Tags: ['maximum_cut', 'nq=6']\n",
      "Submission script finished.\n"
     ]
    }
   ],
   "source": [
    "sampler = Sampler(mode=backend)\n",
    "sampler.options.default_shots = 1000\n",
    "\n",
    "# Set simple error suppression/mitigation options\n",
    "sampler.options.dynamical_decoupling.enable = True\n",
    "sampler.options.dynamical_decoupling.sequence_type = \"XY4\"\n",
    "sampler.options.twirling.enable_gates = True\n",
    "sampler.options.twirling.num_randomizations = \"auto\"\n",
    "\n",
    "pub= (optimized_circuit, )\n",
    "\n",
    "tag1 = str(problem_type).replace(\" \", \"_\") # e.g., 'bin_packing' or 'maximum_cut'\n",
    "tag2 = f\"nq={num_qubits}\" # e.g., 'nq=6'\n",
    "job_tags_list = [tag1, tag2]\n",
    "print(f\"Submitting job with tags: {job_tags_list}\")\n",
    "\n",
    "job = sampler.run([pub], shots=int(1e4))\n",
    "jobID = job.job_id()\n",
    "\n",
    "\n",
    "job.update_tags(new_tags=job_tags_list)\n",
    "print(f\"Successfully updated tags for job {jobID}.\")\n",
    "\n",
    "\n",
    "print(f\"You can monitor the job status at: https://quantum.ibm.com/jobs/{jobID}\")\n",
    "print('This job\\'s job ID is:', jobID)\n",
    "print(f\"      Associated Tags: {job_tags_list}\")\n",
    "print(\"Submission script finished.\")"
   ]
  }
 ],
 "metadata": {
  "kernelspec": {
   "display_name": "IBMQpynbvenv",
   "language": "python",
   "name": "python3"
  },
  "language_info": {
   "codemirror_mode": {
    "name": "ipython",
    "version": 3
   },
   "file_extension": ".py",
   "mimetype": "text/x-python",
   "name": "python",
   "nbconvert_exporter": "python",
   "pygments_lexer": "ipython3",
   "version": "3.10.11"
  }
 },
 "nbformat": 4,
 "nbformat_minor": 5
}
