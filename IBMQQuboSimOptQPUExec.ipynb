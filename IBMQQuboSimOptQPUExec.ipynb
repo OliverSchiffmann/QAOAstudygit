{
 "cells": [
  {
   "cell_type": "code",
   "execution_count": 4,
   "id": "5aa4db26",
   "metadata": {},
   "outputs": [],
   "source": [
    "import json\n",
    "import numpy as np\n",
    "import matplotlib.pyplot as plt\n",
    "from scipy.optimize import minimize\n",
    "\n",
    "# Packages for quantum stuff\n",
    "from qiskit.quantum_info import SparsePauliOp\n",
    "from qiskit.circuit.library import QAOAAnsatz\n",
    "from qiskit_aer import AerSimulator\n",
    "from qiskit_ibm_runtime import EstimatorV2 as Estimator, QiskitRuntimeService, SamplerV2 as Sampler\n",
    "from qiskit.transpiler.preset_passmanagers import generate_preset_pass_manager\n",
    "from qiskit_ibm_runtime.fake_provider import FakeBrisbane, FakeSherbrooke # For simulation with realistic noise\n"
   ]
  },
  {
   "cell_type": "code",
   "execution_count": 5,
   "id": "fd10a733",
   "metadata": {},
   "outputs": [],
   "source": [
    "def load_qubo_and_build_hamiltonian(file_path=\"qubo_data.json\"):\n",
    "    \"\"\"\n",
    "    Loads QUBO terms, weights, and constant from a JSON file.\n",
    "    Determines the number of qubits from the terms and constructs\n",
    "    the Hamiltonian as a Qiskit SparsePauliOp.\n",
    "    \"\"\"\n",
    "    with open(file_path, \"r\") as f:\n",
    "        qubo_data = json.load(f)\n",
    "\n",
    "    terms = qubo_data[\"terms\"]\n",
    "    weights = qubo_data[\"weights\"]\n",
    "    constant = qubo_data.get(\"constant\", 0.0)\n",
    "    problemType = qubo_data.get(\"problem_type\")\n",
    "\n",
    "    pauli_list = []\n",
    "    num_qubits = 0\n",
    "\n",
    "    if terms:\n",
    "        # Flatten the list of lists and filter out empty sublists or non-integer elements\n",
    "        all_indices = []\n",
    "        for term_group in terms:\n",
    "            if isinstance(term_group, list): # Ensure it's a list\n",
    "                for idx in term_group:\n",
    "                    if isinstance(idx, int): # Ensure index is an integer\n",
    "                        all_indices.append(idx)\n",
    "\n",
    "        if all_indices: # If there are any valid integer indices\n",
    "            num_qubits = max(all_indices) + 1\n",
    "        else: # No indices and no weights (only constant)\n",
    "            num_qubits = 0\n",
    "    else: # No terms at all\n",
    "        num_qubits = 0\n",
    "        if weights: # Weights present but no terms - problematic\n",
    "            print(\"Warning: Weights are present, but 'terms' list is empty or missing. Cannot form Pauli operators.\")\n",
    "\n",
    "    for term_indices, weight in zip(terms, weights):\n",
    "        if not term_indices or not all(isinstance(idx, int) for idx in term_indices):\n",
    "            # Skip if term_indices is empty or contains non-integers\n",
    "            continue\n",
    "\n",
    "        paulis_arr = [\"I\"] * num_qubits\n",
    "        if len(term_indices) == 1: # Linear term\n",
    "            paulis_arr[term_indices[0]] = \"Z\"\n",
    "        elif len(term_indices) == 2: # Quadratic term\n",
    "            paulis_arr[term_indices[0]] = \"Z\"\n",
    "            paulis_arr[term_indices[1]] = \"Z\"\n",
    "        else:\n",
    "            # This case should ideally not be hit if terms are only single or pairs.\n",
    "            print(f\"Warning: Skipping term {term_indices} with unsupported number of variables for Pauli Z construction.\")\n",
    "            continue\n",
    "        pauli_list.append((\"\".join(paulis_arr)[::-1], weight))\n",
    "\n",
    "    if not pauli_list and num_qubits > 0: # No valid Pauli terms were created, but num_qubits > 0\n",
    "        cost_hamiltonian = SparsePauliOp([\"I\"] * num_qubits, [0]) # Zero operator on n_qubits\n",
    "    elif not pauli_list and num_qubits == 0:\n",
    "        cost_hamiltonian = SparsePauliOp(\"I\", [0]) # Placeholder for 1 qubit if everything is empty\n",
    "    else:\n",
    "        cost_hamiltonian = SparsePauliOp.from_list(pauli_list)\n",
    "\n",
    "    return cost_hamiltonian, constant, num_qubits, problemType\n",
    "\n",
    "def cost_func_estimator(params, ansatz, estimator, cost_hamiltonian_logical, constant_offset, backend_total_qubits=127): # removed default for backend_total_qubits\n",
    "    global numOptimisations\n",
    "    prepared_observable = cost_hamiltonian_logical.apply_layout(ansatz.layout)\n",
    "    pub = (ansatz, prepared_observable, [params])\n",
    "    \n",
    "    job = estimator.run(pubs=[pub])\n",
    "    results = job.result()[0]\n",
    "    cost = results.data.evs[0]\n",
    "\n",
    "    cost_float = float(np.real(cost)) + constant_offset\n",
    "    objective_func_vals.append(cost_float)\n",
    "    \n",
    "    numOptimisations = numOptimisations + 1\n",
    "    # Your desired print format:\n",
    "    print(f\"Params: {params}, Cost: {cost_float}, Optimisation Round: {numOptimisations}\") \n",
    "    \n",
    "    return cost_float"
   ]
  },
  {
   "cell_type": "code",
   "execution_count": 6,
   "id": "2383d8d4",
   "metadata": {},
   "outputs": [
    {
     "name": "stdout",
     "output_type": "stream",
     "text": [
      "Cost Function Hamiltonian (from QUBO): SparsePauliOp(['IIIIIIIIIIIZIIIZ', 'IIIIIIIIIIZIIIZI', 'IIIIIIIIIZIIIZII', 'IIIIIIIIZIIIZIII', 'IIIIIIIZIIIIIIIZ', 'IIIIIIZIIIIIIIZI', 'IIIIIZIIIIIIIZII', 'IIIIZIIIIIIIZIII', 'IIIZIIIIIIIIIIIZ', 'IIZIIIIIIIIIIIZI', 'IZIIIIIIIIIIIZII', 'ZIIIIIIIIIIIZIII', 'IIIIIIIZIIIZIIII', 'IIIIIIZIIIZIIIII', 'IIIIIZIIIZIIIIII', 'IIIIZIIIZIIIIIII', 'IIIZIIIIIIIZIIII', 'IIZIIIIIIIZIIIII', 'IZIIIIIIIZIIIIII', 'ZIIIIIIIZIIIIIII', 'IIIZIIIZIIIIIIII', 'IIZIIIZIIIIIIIII', 'IZIIIZIIIIIIIIII', 'ZIIIZIIIIIIIIIII', 'IIIIIIIIIIIIIIZZ', 'IIIIIIIIIIIIIZIZ', 'IIIIIIIIIIIIZIIZ', 'IIIIIIIIIIIIIZZI', 'IIIIIIIIIIIIZIZI', 'IIIIIIIIIIIIZZII', 'IIIIIIIIIIZZIIII', 'IIIIIIIIIZIZIIII', 'IIIIIIIIZIIZIIII', 'IIIIIIIIIZZIIIII', 'IIIIIIIIZIZIIIII', 'IIIIIIIIZZIIIIII', 'IIIIIIZZIIIIIIII', 'IIIIIZIZIIIIIIII', 'IIIIZIIZIIIIIIII', 'IIIIIZZIIIIIIIII', 'IIIIZIZIIIIIIIII', 'IIIIZZIIIIIIIIII', 'IIZZIIIIIIIIIIII', 'IZIZIIIIIIIIIIII', 'ZIIZIIIIIIIIIIII', 'IZZIIIIIIIIIIIII', 'ZIZIIIIIIIIIIIII', 'ZZIIIIIIIIIIIIII', 'IIIIIIIIIIZIIIIZ', 'IIIIIIZIIIIZIIII', 'IIZIIIIZIIIIIIII', 'IIIIIIIIIZIIIIIZ', 'IIIIIZIIIIIZIIII', 'IZIIIIIZIIIIIIII', 'IIIIIIIIIIIZIIZI', 'IIIIIIIZIIZIIIII', 'IIIZIIZIIIIIIIII', 'IIIIIIIIIIIZIZII', 'IIIIIIIZIZIIIIII', 'IIIZIZIIIIIIIIII', 'IIIIIIIIZIIIIIIZ', 'IIIIZIIIIIIZIIII', 'ZIIIIIIZIIIIIIII', 'IIIIIIIIIZIIIIZI', 'IIIIIZIIIIZIIIII', 'IZIIIIZIIIIIIIII', 'IIIIIIIIZIIIIIZI', 'IIIIZIIIIIZIIIII', 'ZIIIIIZIIIIIIIII', 'IIIIIIIIIIZIIZII', 'IIIIIIZIIZIIIIII', 'IIZIIZIIIIIIIIII', 'IIIIIIIIZIIIIZII', 'IIIIZIIIIZIIIIII', 'ZIIIIZIIIIIIIIII', 'IIIIIIIIIIIZZIII', 'IIIIIIIZZIIIIIII', 'IIIZZIIIIIIIIIII', 'IIIIIIIIIIZIZIII', 'IIIIIIZIZIIIIIII', 'IIZIZIIIIIIIIIII', 'IIIIIIIIIZIIZIII', 'IIIIIZIIZIIIIIII', 'IZIIZIIIIIIIIIII', 'IIIIIIIIIIIIIIIZ', 'IIIIIIIIIIIIIIZI', 'IIIIIIIIIIIIIZII', 'IIIIIIIIIIIIZIII', 'IIIIIIIIIIIZIIII', 'IIIIIIIIIIZIIIII', 'IIIIIIIIIZIIIIII', 'IIIIIIIIZIIIIIII', 'IIIIIIIZIIIIIIII', 'IIIIIIZIIIIIIIII', 'IIIIIZIIIIIIIIII', 'IIIIZIIIIIIIIIII', 'IIIZIIIIIIIIIIII', 'IIZIIIIIIIIIIIII', 'IZIIIIIIIIIIIIII', 'ZIIIIIIIIIIIIIII'],\n",
      "              coeffs=[ 10.  +0.j,  10.  +0.j,  10.  +0.j,  10.  +0.j,  10.  +0.j,  10.  +0.j,\n",
      "  10.  +0.j,  10.  +0.j,  10.  +0.j,  10.  +0.j,  10.  +0.j,  10.  +0.j,\n",
      "  10.  +0.j,  10.  +0.j,  10.  +0.j,  10.  +0.j,  10.  +0.j,  10.  +0.j,\n",
      "  10.  +0.j,  10.  +0.j,  10.  +0.j,  10.  +0.j,  10.  +0.j,  10.  +0.j,\n",
      "  10.  +0.j,  10.  +0.j,  10.  +0.j,  10.  +0.j,  10.  +0.j,  10.  +0.j,\n",
      "  10.  +0.j,  10.  +0.j,  10.  +0.j,  10.  +0.j,  10.  +0.j,  10.  +0.j,\n",
      "  10.  +0.j,  10.  +0.j,  10.  +0.j,  10.  +0.j,  10.  +0.j,  10.  +0.j,\n",
      "  10.  +0.j,  10.  +0.j,  10.  +0.j,  10.  +0.j,  10.  +0.j,  10.  +0.j,\n",
      "   5.  +0.j,   5.  +0.j,   5.  +0.j,   5.  +0.j,   5.  +0.j,   5.  +0.j,\n",
      "   5.  +0.j,   5.  +0.j,   5.  +0.j,   5.  +0.j,   5.  +0.j,   5.  +0.j,\n",
      "   1.25+0.j,   1.25+0.j,   1.25+0.j,   0.5 +0.j,   0.5 +0.j,   0.5 +0.j,\n",
      "   0.75+0.j,   0.75+0.j,   0.75+0.j,   0.5 +0.j,   0.5 +0.j,   0.5 +0.j,\n",
      "   2.5 +0.j,   2.5 +0.j,   2.5 +0.j,   1.25+0.j,   1.25+0.j,   1.25+0.j,\n",
      "   0.75+0.j,   0.75+0.j,   0.75+0.j,   2.5 +0.j,   2.5 +0.j,   2.5 +0.j,\n",
      " -61.25+0.j, -51.25+0.j, -58.  +0.j, -48.5 +0.j, -62.5 +0.j, -52.5 +0.j,\n",
      " -56.  +0.j, -49.  +0.j, -62.5 +0.j, -52.5 +0.j, -56.  +0.j, -49.  +0.j,\n",
      " -61.25+0.j, -51.25+0.j, -58.  +0.j, -48.5 +0.j])\n",
      "Constant offset: 468.0\n",
      "Number of qubits (inferred from terms): 16\n",
      "Problem type: tsp\n"
     ]
    }
   ],
   "source": [
    "cost_hamiltonian, constant_offset, num_qubits, problem_type = load_qubo_and_build_hamiltonian(\"qubo_data.json\")\n",
    "print(\"Cost Function Hamiltonian (from QUBO):\", cost_hamiltonian)\n",
    "print(\"Constant offset:\", constant_offset)\n",
    "print(f\"Number of qubits (inferred from terms): {num_qubits}\")\n",
    "print(\"Problem type:\", problem_type)"
   ]
  },
  {
   "cell_type": "code",
   "execution_count": 7,
   "id": "ac3c93b7",
   "metadata": {},
   "outputs": [
    {
     "name": "stdout",
     "output_type": "stream",
     "text": [
      "Ansatz Parameters: ParameterView([ParameterVectorElement(β[0]), ParameterVectorElement(β[1]), ParameterVectorElement(γ[0]), ParameterVectorElement(γ[1])])\n"
     ]
    }
   ],
   "source": [
    "# 2. Define QAOA Ansatz\n",
    "#    **************** QAOA Customization Options ****************\n",
    "#    a. `cost_operator`: The problem Hamiltonian (loaded from QUBO).\n",
    "#    b. `reps` (p): Number of QAOA layers. Higher 'reps' can improve solution quality\n",
    "#                   but increases circuit depth and parameters. Start small (e.g., 1-3).\n",
    "#    c. `initial_state`: QuantumCircuit for the initial state. Default is Hadamard transform.\n",
    "#    d. `mixer_operator`: Mixer Hamiltonian. Default is sum_i X_i. Custom mixers can be used.\n",
    "#    e. `upto_diag`: If True, cost operator assumed diagonal in Z basis (typical for QUBOs).\n",
    "#    ************************************************************\n",
    "reps_p = 2 # Example: QAOA depth (number of layers) 2 found to be optimal for sherbrookenoise model for 6 qubit problem\n",
    "\n",
    "if num_qubits == 0:\n",
    "    print(\"Error: Number of qubits is 0. Cannot create QAOAAnsatz. Check your qubo_data.json\")\n",
    "    exit()\n",
    "\n",
    "circuit = QAOAAnsatz(cost_operator=cost_hamiltonian, reps=reps_p)\n",
    "circuit.measure_all() \n",
    "\n",
    "print(\"Ansatz Parameters:\", circuit.parameters)\n",
    "#circuit.draw()"
   ]
  },
  {
   "cell_type": "code",
   "execution_count": 8,
   "id": "1455a578",
   "metadata": {},
   "outputs": [
    {
     "data": {
      "text/plain": [
       "1617"
      ]
     },
     "execution_count": 8,
     "metadata": {},
     "output_type": "execute_result"
    }
   ],
   "source": [
    "# 3. Choose Backend and Transpile\n",
    "#    **************** QAOA Customization Options ****************\n",
    "#    a. `backend`: Simulator (AerSimulator, FakeBackend) or real quantum device.\n",
    "#    b. `optimization_level` (transpiler): 0 (no opt) to 3 (heavy opt).\n",
    "#    ************************************************************\n",
    "#backend_simulator = AerSimulator() # Ideal simulator\n",
    "#backend_simulator = AerSimulator.from_backend(FakeBrisbane()) # Simulator with IBM_Brisbane specific noise model\n",
    "backend_simulator = AerSimulator.from_backend(FakeSherbrooke()) # Simulator with IBM_Sherbroke specific noise model\n",
    "\n",
    "pm = generate_preset_pass_manager(optimization_level=3, backend=backend_simulator)\n",
    "candidate_circuit = pm.run(circuit)\n",
    "candidate_circuit.depth()\n",
    "#candidate_circuit.draw()"
   ]
  },
  {
   "cell_type": "code",
   "execution_count": null,
   "id": "7f8c94d1",
   "metadata": {},
   "outputs": [
    {
     "name": "stdout",
     "output_type": "stream",
     "text": [
      "Starting optimization...\n",
      "Params: [1.05419894 2.11160234 2.70696833 2.41373133], Cost: 469.521240234375, Optimisation Round: 1\n"
     ]
    }
   ],
   "source": [
    "# 4. Set Initial Parameters for QAOA\n",
    "#    **************** QAOA Customization Options ****************\n",
    "#    - Number of parameters = 2 * reps_p (gammas for cost, betas for mixer).\n",
    "#    - Good initial points can help optimization.\n",
    "#      Examples: random values, fixed guesses (e.g., gammas in [0, 2*pi], betas in [0, pi]).\n",
    "#    ************************************************************\n",
    "num_params = 2 * reps_p\n",
    "initial_betas = (np.random.rand(reps_p) * np.pi).tolist()\n",
    "#initial_gammas = (np.random.rand(p_depth) * (np.pi / 2)).tolist() #the /2 is a relic from the utility scale example that doesnt seem needed\n",
    "initial_gammas = (np.random.rand(reps_p) * (np.pi)).tolist()\n",
    "initial_params = initial_betas + initial_gammas\n",
    "    \n",
    "# 5. Optimization using Estimator\n",
    "#    **************** QAOA Customization Options ****************\n",
    "#    a. `Estimator options`: `default_shots` (more shots -> less statistical noise).\n",
    "#    b. `minimize` function (scipy.optimize):\n",
    "#        - `method`: e.g., \"COBYLA\", \"NELDER-MEAD\", \"SPSA\", \"L-BFGS-B\".\n",
    "#                    COBYLA and SPSA are often good for noisy quantum optimizations.\n",
    "#        - `tol`: Tolerance for termination.\n",
    "#        - `options={'maxiter': ...}`: Max optimizer iterations.\n",
    "#    ************************************************************\n",
    "\n",
    "# Global variables\n",
    "objective_func_vals = []  \n",
    "numOptimisations = 0\n",
    "\n",
    "estimator = Estimator(mode=backend_simulator)\n",
    "# estimator.options.default_shots = 1024 # Default is 4000 for EstimatorV2 if not using shots option in run.\n",
    "\n",
    "print(\"Starting optimization...\")\n",
    "result = minimize(\n",
    "    cost_func_estimator,\n",
    "    initial_params,\n",
    "    args=(candidate_circuit, estimator, cost_hamiltonian, constant_offset),\n",
    "    method=\"COBYLA\",\n",
    "    tol=1e-3,\n",
    "    options={\"maxiter\": 1000}, # Adjust as needed\n",
    ")\n",
    "print(\"Optimization Result:\")\n",
    "print(result)"
   ]
  },
  {
   "cell_type": "code",
   "execution_count": 85,
   "id": "c6460a0f",
   "metadata": {},
   "outputs": [
    {
     "data": {
      "image/png": "[encoded data removed]",
      "text/plain": [
       "<Figure size 640x480 with 1 Axes>"
      ]
     },
     "metadata": {},
     "output_type": "display_data"
    }
   ],
   "source": [
    "plt.plot(objective_func_vals)\n",
    "plt.xlabel(\"Iteration\")\n",
    "plt.ylabel(\"Cost\")\n",
    "plt.show()"
   ]
  },
  {
   "cell_type": "code",
   "execution_count": null,
   "id": "b3173fc1",
   "metadata": {},
   "outputs": [
    {
     "data": {
      "text/plain": [
       "461"
      ]
     },
     "execution_count": 86,
     "metadata": {},
     "output_type": "execute_result"
    }
   ],
   "source": [
    "optimized_circuit = candidate_circuit.assign_parameters(result.x)\n",
    "#optimized_circuit.draw() #commented out bc long output"
   ]
  },
  {
   "cell_type": "code",
   "execution_count": 53,
   "id": "3223dd55",
   "metadata": {},
   "outputs": [
    {
     "name": "stderr",
     "output_type": "stream",
     "text": [
      "/var/folders/ph/hp043kk921q2v4grp3l2v6nw0000gq/T/ipykernel_40588/1732015256.py:9: DeprecationWarning: The \"ibm_quantum\" channel option is deprecated and will be sunset on 1 July. After this date, ibm_cloud will be the only valid channel. For information on migrating to the new IBM Quantum Platform on the \"ibm_cloud\" channel, review the migration guide https://quantum.cloud.ibm.com/docs/migration-guides/classic-iqp-to-cloud-iqp .\n",
      "  service = QiskitRuntimeService(channel=\"ibm_quantum\")\n"
     ]
    }
   ],
   "source": [
    "QiskitRuntimeService.save_account(\n",
    "    channel=\"ibm_quantum\",\n",
    "    token=\"e3d76332de187f9b82dbd1904444ae8aaca1b80ed6fa6b8ae43d3b8f2641c0eea75884a158e0208d8d46c6d03551260f840427bfee34f4e323e13454fbf86fdf\",\n",
    "    overwrite=True,\n",
    "    set_as_default=True,\n",
    ")\n",
    "\n",
    "\n",
    "service = QiskitRuntimeService(channel=\"ibm_quantum\")\n",
    "#backend_name = \"ibm_brisbane\"\n",
    "backend_name = \"ibm_sherbrooke\"\n",
    "backend = service.backend(backend_name)"
   ]
  },
  {
   "cell_type": "code",
   "execution_count": 54,
   "id": "59f8f90f",
   "metadata": {},
   "outputs": [
    {
     "name": "stdout",
     "output_type": "stream",
     "text": [
      "Submitting job with tags: ['maximum_cut', 'nq=6', 'p=15']\n",
      "Successfully updated tags for job d0gy47gfbx30008w59wg.\n",
      "You can monitor the job status at: https://quantum.ibm.com/jobs/d0gy47gfbx30008w59wg\n",
      "This job's job ID is: d0gy47gfbx30008w59wg\n",
      "      Associated Tags: ['maximum_cut', 'nq=6', 'p=15']\n",
      "Submission script finished.\n"
     ]
    }
   ],
   "source": [
    "sampler = Sampler(mode=backend)\n",
    "sampler.options.default_shots = 1000\n",
    "\n",
    "# Set simple error suppression/mitigation options\n",
    "sampler.options.dynamical_decoupling.enable = True\n",
    "sampler.options.dynamical_decoupling.sequence_type = \"XY4\"\n",
    "sampler.options.twirling.enable_gates = True\n",
    "sampler.options.twirling.num_randomizations = \"auto\"\n",
    "\n",
    "pub= (optimized_circuit, )\n",
    "\n",
    "tag1 = str(problem_type).replace(\" \", \"_\") # e.g., 'bin_packing' or 'maximum_cut'\n",
    "tag2 = f\"nq={num_qubits}\" # e.g., 'nq=6'\n",
    "tag3 = f\"p={reps_p}\" # e.g., 'p=2'\n",
    "job_tags_list = [tag1, tag2, tag3]\n",
    "print(f\"Submitting job with tags: {job_tags_list}\")\n",
    "\n",
    "job = sampler.run([pub], shots=int(1e4))\n",
    "jobID = job.job_id()\n",
    "\n",
    "\n",
    "job.update_tags(new_tags=job_tags_list)\n",
    "print(f\"Successfully updated tags for job {jobID}.\")\n",
    "\n",
    "\n",
    "print(f\"You can monitor the job status at: https://quantum.ibm.com/jobs/{jobID}\")\n",
    "print('This job\\'s job ID is:', jobID)\n",
    "print(f\"      Associated Tags: {job_tags_list}\")\n",
    "print(\"Submission script finished.\")"
   ]
  }
 ],
 "metadata": {
  "kernelspec": {
   "display_name": "IBMQpynbvenv",
   "language": "python",
   "name": "python3"
  },
  "language_info": {
   "codemirror_mode": {
    "name": "ipython",
    "version": 3
   },
   "file_extension": ".py",
   "mimetype": "text/x-python",
   "name": "python",
   "nbconvert_exporter": "python",
   "pygments_lexer": "ipython3",
   "version": "3.10.11"
  }
 },
 "nbformat": 4,
 "nbformat_minor": 5
}
