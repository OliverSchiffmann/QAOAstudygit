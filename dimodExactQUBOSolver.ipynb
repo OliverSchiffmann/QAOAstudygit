{
 "cells": [
  {
   "cell_type": "code",
   "execution_count": 11,
   "id": "e1941438",
   "metadata": {},
   "outputs": [],
   "source": [
    "import dimod\n",
    "import json"
   ]
  },
  {
   "cell_type": "code",
   "execution_count": 12,
   "id": "cc771bcb",
   "metadata": {},
   "outputs": [],
   "source": [
    "def load_qubo(file_path):\n",
    "    with open(file_path, \"r\") as f:\n",
    "        all_qubos_data = json.load(f)  \n",
    "    return all_qubos_data\n",
    "\n",
    "def convert_to_dimod_format(all_qubos_data):\n",
    "    dimod_qubos = {}\n",
    "    for instance in all_qubos_data:\n",
    "        instance_id = instance[\"instance_id\"]\n",
    "        terms = instance[\"terms\"]\n",
    "        weights = instance[\"weights\"]\n",
    "\n",
    "        # Create the QUBO dictionary for the current instance\n",
    "        Q = {}\n",
    "        for term, weight in zip(terms, weights):\n",
    "            if len(term) == 1:\n",
    "                # This is a linear term (e.g., [0]), format as ('x0', 'x0')\n",
    "                variable = f'x{term[0]}'\n",
    "                Q[(variable, variable)] = weight\n",
    "            elif len(term) == 2:\n",
    "                # This is a quadratic term (e.g., [0, 1]), format as ('x0', 'x1')\n",
    "                var1 = f'x{term[0]}'\n",
    "                var2 = f'x{term[1]}'\n",
    "                Q[(var1, var2)] = weight\n",
    "\n",
    "        dimod_qubos[instance_id] = Q\n",
    "    return dimod_qubos\n",
    "\n",
    "def convert_to_dimod_ising(all_qubos_data):\n",
    "    dimod_ising = {}\n",
    "    for instance in all_qubos_data:\n",
    "        instance_id = instance[\"instance_id\"]\n",
    "        terms = instance[\"terms\"]\n",
    "        weights = instance[\"weights\"]\n",
    "\n",
    "        linear_bias = {}\n",
    "        quadratic_bias = {}\n",
    "\n",
    "        for term, weight in zip(terms, weights):\n",
    "            if len(term) == 1:\n",
    "                variable = f'x{term[0]}'\n",
    "                linear_bias[variable] = weight\n",
    "            elif len(term) == 2:\n",
    "                var1 = f'x{term[0]}'\n",
    "                var2 = f'x{term[1]}'\n",
    "                quadratic_bias[(var1, var2)] = weight\n",
    "\n",
    "        dimod_ising[instance_id] = (linear_bias, quadratic_bias)\n",
    "    return dimod_ising"
   ]
  },
  {
   "cell_type": "code",
   "execution_count": 13,
   "id": "3ad543e8",
   "metadata": {},
   "outputs": [],
   "source": [
    "#////////// variables //////////\n",
    "#quboBatchFile = \"QUBO_batches/batch_QUBO_data_Knapsack_6_items_9q_.json\"\n",
    "#quboBatchFile = \"QUBO_batches/batch_QUBO_data_TSP_9q_.json\"\n",
    "quboBatchFile = 'qubo_data.json'\n",
    "targetInstance = 1"
   ]
  },
  {
   "cell_type": "code",
   "execution_count": 17,
   "id": "4ef69069",
   "metadata": {},
   "outputs": [
    {
     "name": "stdout",
     "output_type": "stream",
     "text": [
      "{1: ({}, {('x0', 'x4'): 1.0, ('x1', 'x2'): 1.0, ('x1', 'x3'): 1.0, ('x1', 'x4'): 1.0, ('x2', 'x3'): 1.0, ('x2', 'x4'): 1.0, ('x3', 'x4'): 1.0})}\n"
     ]
    }
   ],
   "source": [
    "qubos = load_qubo(quboBatchFile)\n",
    "dimodQubos = convert_to_dimod_format(qubos)\n",
    "dimodIsings = convert_to_dimod_ising(qubos)\n",
    "print(dimodIsings)\n",
    "#print(f'linearBias: {linearBias}, quadraticBias: {quadraticBias}')"
   ]
  },
  {
   "cell_type": "code",
   "execution_count": null,
   "id": "0f38184d",
   "metadata": {},
   "outputs": [
    {
     "name": "stdout",
     "output_type": "stream",
     "text": [
      "{('x0', 'x4'): 1.0, ('x1', 'x2'): 1.0, ('x1', 'x3'): 1.0, ('x1', 'x4'): 1.0, ('x2', 'x3'): 1.0, ('x2', 'x4'): 1.0, ('x3', 'x4'): 1.0}\n"
     ]
    }
   ],
   "source": [
    "print(dimodQubos[targetInstance])"
   ]
  },
  {
   "cell_type": "code",
   "execution_count": 19,
   "id": "dfbc4f69",
   "metadata": {},
   "outputs": [
    {
     "name": "stdout",
     "output_type": "stream",
     "text": [
      "({}, {('x0', 'x4'): 1.0, ('x1', 'x2'): 1.0, ('x1', 'x3'): 1.0, ('x1', 'x4'): 1.0, ('x2', 'x3'): 1.0, ('x2', 'x4'): 1.0, ('x3', 'x4'): 1.0})\n",
      "--- D-Wave Ocean Exact Solver ---\n",
      "   x0 x1 x2 x3 x4 energy num_oc.\n",
      "4  -1 +1 -1 -1 +1   -3.0       1\n",
      "9  +1 +1 +1 -1 -1   -3.0       1\n",
      "12 -1 -1 +1 -1 +1   -3.0       1\n",
      "17 +1 -1 +1 +1 -1   -3.0       1\n",
      "25 +1 +1 -1 +1 -1   -3.0       1\n",
      "28 -1 -1 -1 +1 +1   -3.0       1\n",
      "3  -1 -1 -1 -1 +1   -1.0       1\n",
      "5  +1 +1 -1 -1 +1   -1.0       1\n",
      "6  +1 +1 -1 -1 -1   -1.0       1\n",
      "8  -1 +1 +1 -1 -1   -1.0       1\n",
      "11 -1 +1 +1 -1 +1   -1.0       1\n",
      "13 +1 -1 +1 -1 +1   -1.0       1\n",
      "14 +1 -1 +1 -1 -1   -1.0       1\n",
      "16 -1 -1 +1 +1 -1   -1.0       1\n",
      "19 -1 -1 +1 +1 +1   -1.0       1\n",
      "22 +1 +1 +1 +1 -1   -1.0       1\n",
      "24 -1 +1 -1 +1 -1   -1.0       1\n",
      "27 -1 +1 -1 +1 +1   -1.0       1\n",
      "29 +1 -1 -1 +1 +1   -1.0       1\n",
      "30 +1 -1 -1 +1 -1   -1.0       1\n",
      "2  +1 -1 -1 -1 +1    1.0       1\n",
      "7  -1 +1 -1 -1 -1    1.0       1\n",
      "10 +1 +1 +1 -1 +1    1.0       1\n",
      "15 -1 -1 +1 -1 -1    1.0       1\n",
      "18 +1 -1 +1 +1 +1    1.0       1\n",
      "23 -1 +1 +1 +1 -1    1.0       1\n",
      "26 +1 +1 -1 +1 +1    1.0       1\n",
      "31 -1 -1 -1 +1 -1    1.0       1\n",
      "1  +1 -1 -1 -1 -1    5.0       1\n",
      "20 -1 +1 +1 +1 +1    5.0       1\n",
      "0  -1 -1 -1 -1 -1    7.0       1\n",
      "21 +1 +1 +1 +1 +1    7.0       1\n",
      "['SPIN', 32 rows, 32 samples, 5 variables]\n"
     ]
    }
   ],
   "source": [
    "Q = dimodQubos[targetInstance]\n",
    "I = dimodIsings[targetInstance]\n",
    "print(I)\n",
    "\n",
    "# Use the exact solver\n",
    "solver = dimod.ExactSolver()\n",
    "sampleset = solver.sample_ising(I[0], I[1])\n",
    "\n",
    "# The first sample in the result is the optimal solution\n",
    "print(\"--- D-Wave Ocean Exact Solver ---\")\n",
    "print(sampleset)"
   ]
  }
 ],
 "metadata": {
  "kernelspec": {
   "display_name": "classicalvenv",
   "language": "python",
   "name": "python3"
  },
  "language_info": {
   "codemirror_mode": {
    "name": "ipython",
    "version": 3
   },
   "file_extension": ".py",
   "mimetype": "text/x-python",
   "name": "python",
   "nbconvert_exporter": "python",
   "pygments_lexer": "ipython3",
   "version": "3.10.11"
  }
 },
 "nbformat": 4,
 "nbformat_minor": 5
}
